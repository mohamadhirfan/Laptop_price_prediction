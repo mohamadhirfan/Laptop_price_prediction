{
 "cells": [
  {
   "cell_type": "markdown",
   "id": "2ace04c3",
   "metadata": {},
   "source": [
    "## Flipkart Laptop Data - Business Insights on Product Pricing"
   ]
  },
  {
   "cell_type": "markdown",
   "id": "1e040d61",
   "metadata": {},
   "source": [
    "## Problem Statement\n",
    "### Elon Musk has started his own laptop company (Tesla Laptop) in India. He wants to give tough fights to big companies like Apple, Alienware, HP etc.\n",
    "    -He does not know how to estimate the price of laptops his company creates. In this competitive laptop market you cannot simply assume things.\n",
    "    -Musk wants to find out some relation between features of a Laptop(eg:- RAM, OS etc) and its selling price. But he is not so good at Data Mining.\n",
    "    -To solve this problem he already asked his Data Engineering team to collect laptop data from various competitors.\n",
    "    -Now he needs your (i.e Data Scientist’s) help to solve the following problem.\n",
    "## Step- 1 (Data Analysis and Mining)\n",
    "    -Musk’s Requirements\n",
    "    -Build an interface (using streamlit) for Elon Musk where he can enter the laptop features like RAM Size, RAM Type, HDD, OS, etc. and get the price prediction.\n",
    "    -Based on your Data Analysis and MIning skills, give recommendations to Elon Musk on how the pricing works in the laptop market.\n",
    "## Sprint - 2 (ML Model Tuning)\n",
    "    -Now he wants you to test the models you have created for Underfitting and Overfitting. He wants you to build a best fit model.\n",
    "    -First try to check if the models you have created are a best fit or not.\n",
    "    -See if applying cross validation helps improve your models performance."
   ]
  },
  {
   "cell_type": "markdown",
   "id": "e199f0b4",
   "metadata": {},
   "source": [
    "## Importing Required Libraries"
   ]
  },
  {
   "cell_type": "code",
   "execution_count": 1,
   "id": "950e4111",
   "metadata": {},
   "outputs": [],
   "source": [
    "import pandas as pd\n",
    "import numpy as np\n",
    "import warnings\n",
    "warnings.filterwarnings(\"ignore\")\n",
    "import re"
   ]
  },
  {
   "cell_type": "code",
   "execution_count": 139,
   "id": "a08d6de1",
   "metadata": {},
   "outputs": [
    {
     "data": {
      "text/html": [
       "<div>\n",
       "<style scoped>\n",
       "    .dataframe tbody tr th:only-of-type {\n",
       "        vertical-align: middle;\n",
       "    }\n",
       "\n",
       "    .dataframe tbody tr th {\n",
       "        vertical-align: top;\n",
       "    }\n",
       "\n",
       "    .dataframe thead th {\n",
       "        text-align: right;\n",
       "    }\n",
       "</style>\n",
       "<table border=\"1\" class=\"dataframe\">\n",
       "  <thead>\n",
       "    <tr style=\"text-align: right;\">\n",
       "      <th></th>\n",
       "      <th>Product</th>\n",
       "      <th>Rating</th>\n",
       "      <th>MRP</th>\n",
       "      <th>Feature</th>\n",
       "    </tr>\n",
       "  </thead>\n",
       "  <tbody>\n",
       "    <tr>\n",
       "      <th>0</th>\n",
       "      <td>Lenovo IdeaPad 3 Core i3 11th Gen - (8 GB/256 GB SSD/Windows 11 Home) 14ITL05 Thin and Light Laptop</td>\n",
       "      <td>4.2</td>\n",
       "      <td>₹36,990</td>\n",
       "      <td>Intel Core i3 Processor (11th Gen)8 GB DDR4 RAM64 bit Windows 11 Operating System256 GB SSD35.56 cm (14 inch) DisplayOffice Home and Student 20212 Year Onsite�Warranty</td>\n",
       "    </tr>\n",
       "    <tr>\n",
       "      <th>1</th>\n",
       "      <td>Lenovo IdeaPad 3 Core i3 11th Gen - (8 GB/512 GB SSD/Windows 11 Home) 82H801L7IN | 82H802FJIN | 82H802...</td>\n",
       "      <td>4.2</td>\n",
       "      <td>₹39,990</td>\n",
       "      <td>Intel Core i3 Processor (11th Gen)8 GB DDR4 RAM64 bit Windows 11 Operating System512 GB SSD39.62 cm (15.6 inch) DisplayOffice Home and Student 20212 Year Onsite�Warranty</td>\n",
       "    </tr>\n",
       "    <tr>\n",
       "      <th>2</th>\n",
       "      <td>ASUS VivoBook 15 (2022) Core i3 10th Gen - (8 GB/512 GB SSD/Windows 11 Home) X515JA-EJ362WS | X515JA-E...</td>\n",
       "      <td>4.3</td>\n",
       "      <td>₹32,990</td>\n",
       "      <td>Intel Core i3 Processor (10th Gen)8 GB DDR4 RAM64 bit Windows 11 Operating System512 GB SSD39.62 cm (15.6 inch) DisplayOffice Home and Student 20211 Year Onsite Warranty</td>\n",
       "    </tr>\n",
       "    <tr>\n",
       "      <th>3</th>\n",
       "      <td>HP Pavilion Ryzen 5 Hexa Core AMD R5-5600H - (8 GB/512 GB SSD/Windows 10/4 GB Graphics/NVIDIA GeForce ...</td>\n",
       "      <td>4.4</td>\n",
       "      <td>₹49,990</td>\n",
       "      <td>AMD Ryzen 5 Hexa Core Processor8 GB DDR4 RAM64 bit Windows 10 Operating System512 GB SSD39.62 cm (15.6 inch) DisplayHP Documentation, HP e-service, HP BIOS Recovery, HP SSRM, HP Smart, HP Jumpstarts1 Year Onsite Warranty</td>\n",
       "    </tr>\n",
       "    <tr>\n",
       "      <th>4</th>\n",
       "      <td>ASUS TUF Gaming F15 Core i5 10th Gen - (8 GB/512 GB SSD/Windows 11 Home/4 GB Graphics/NVIDIA GeForce G...</td>\n",
       "      <td>4.4</td>\n",
       "      <td>₹49,990</td>\n",
       "      <td>Intel Core i5 Processor (10th Gen)8 GB DDR4 RAMWindows 11 Operating System512 GB SSD39.62 cm (15.6 inch) Display1 Year Onsite Warranty</td>\n",
       "    </tr>\n",
       "  </tbody>\n",
       "</table>\n",
       "</div>"
      ],
      "text/plain": [
       "                                                                                                     Product  \\\n",
       "0        Lenovo IdeaPad 3 Core i3 11th Gen - (8 GB/256 GB SSD/Windows 11 Home) 14ITL05 Thin and Light Laptop   \n",
       "1  Lenovo IdeaPad 3 Core i3 11th Gen - (8 GB/512 GB SSD/Windows 11 Home) 82H801L7IN | 82H802FJIN | 82H802...   \n",
       "2  ASUS VivoBook 15 (2022) Core i3 10th Gen - (8 GB/512 GB SSD/Windows 11 Home) X515JA-EJ362WS | X515JA-E...   \n",
       "3  HP Pavilion Ryzen 5 Hexa Core AMD R5-5600H - (8 GB/512 GB SSD/Windows 10/4 GB Graphics/NVIDIA GeForce ...   \n",
       "4  ASUS TUF Gaming F15 Core i5 10th Gen - (8 GB/512 GB SSD/Windows 11 Home/4 GB Graphics/NVIDIA GeForce G...   \n",
       "\n",
       "   Rating      MRP  \\\n",
       "0     4.2  ₹36,990   \n",
       "1     4.2  ₹39,990   \n",
       "2     4.3  ₹32,990   \n",
       "3     4.4  ₹49,990   \n",
       "4     4.4  ₹49,990   \n",
       "\n",
       "                                                                                                                                                                                                                        Feature  \n",
       "0                                                       Intel Core i3 Processor (11th Gen)8 GB DDR4 RAM64 bit Windows 11 Operating System256 GB SSD35.56 cm (14 inch) DisplayOffice Home and Student 20212 Year Onsite�Warranty  \n",
       "1                                                     Intel Core i3 Processor (11th Gen)8 GB DDR4 RAM64 bit Windows 11 Operating System512 GB SSD39.62 cm (15.6 inch) DisplayOffice Home and Student 20212 Year Onsite�Warranty  \n",
       "2                                                     Intel Core i3 Processor (10th Gen)8 GB DDR4 RAM64 bit Windows 11 Operating System512 GB SSD39.62 cm (15.6 inch) DisplayOffice Home and Student 20211 Year Onsite Warranty  \n",
       "3  AMD Ryzen 5 Hexa Core Processor8 GB DDR4 RAM64 bit Windows 10 Operating System512 GB SSD39.62 cm (15.6 inch) DisplayHP Documentation, HP e-service, HP BIOS Recovery, HP SSRM, HP Smart, HP Jumpstarts1 Year Onsite Warranty  \n",
       "4                                                                                        Intel Core i5 Processor (10th Gen)8 GB DDR4 RAMWindows 11 Operating System512 GB SSD39.62 cm (15.6 inch) Display1 Year Onsite Warranty  "
      ]
     },
     "execution_count": 139,
     "metadata": {},
     "output_type": "execute_result"
    }
   ],
   "source": [
    "df=pd.read_csv(r\"C:\\Users\\Irfan\\Downloads\\laptop_details.csv\")\n",
    "df.head()"
   ]
  },
  {
   "cell_type": "code",
   "execution_count": 140,
   "id": "bdef6b0c",
   "metadata": {},
   "outputs": [],
   "source": [
    "pd.options.display.max_colwidth=10000000"
   ]
  },
  {
   "cell_type": "code",
   "execution_count": 141,
   "id": "07102141",
   "metadata": {},
   "outputs": [
    {
     "data": {
      "text/html": [
       "<div>\n",
       "<style scoped>\n",
       "    .dataframe tbody tr th:only-of-type {\n",
       "        vertical-align: middle;\n",
       "    }\n",
       "\n",
       "    .dataframe tbody tr th {\n",
       "        vertical-align: top;\n",
       "    }\n",
       "\n",
       "    .dataframe thead th {\n",
       "        text-align: right;\n",
       "    }\n",
       "</style>\n",
       "<table border=\"1\" class=\"dataframe\">\n",
       "  <thead>\n",
       "    <tr style=\"text-align: right;\">\n",
       "      <th></th>\n",
       "      <th>Product</th>\n",
       "      <th>Rating</th>\n",
       "      <th>MRP</th>\n",
       "      <th>Feature</th>\n",
       "    </tr>\n",
       "  </thead>\n",
       "  <tbody>\n",
       "    <tr>\n",
       "      <th>0</th>\n",
       "      <td>Lenovo IdeaPad 3 Core i3 11th Gen - (8 GB/256 GB SSD/Windows 11 Home) 14ITL05 Thin and Light Laptop</td>\n",
       "      <td>4.2</td>\n",
       "      <td>₹36,990</td>\n",
       "      <td>Intel Core i3 Processor (11th Gen)8 GB DDR4 RAM64 bit Windows 11 Operating System256 GB SSD35.56 cm (14 inch) DisplayOffice Home and Student 20212 Year Onsite�Warranty</td>\n",
       "    </tr>\n",
       "    <tr>\n",
       "      <th>1</th>\n",
       "      <td>Lenovo IdeaPad 3 Core i3 11th Gen - (8 GB/512 GB SSD/Windows 11 Home) 82H801L7IN | 82H802FJIN | 82H802...</td>\n",
       "      <td>4.2</td>\n",
       "      <td>₹39,990</td>\n",
       "      <td>Intel Core i3 Processor (11th Gen)8 GB DDR4 RAM64 bit Windows 11 Operating System512 GB SSD39.62 cm (15.6 inch) DisplayOffice Home and Student 20212 Year Onsite�Warranty</td>\n",
       "    </tr>\n",
       "    <tr>\n",
       "      <th>2</th>\n",
       "      <td>ASUS VivoBook 15 (2022) Core i3 10th Gen - (8 GB/512 GB SSD/Windows 11 Home) X515JA-EJ362WS | X515JA-E...</td>\n",
       "      <td>4.3</td>\n",
       "      <td>₹32,990</td>\n",
       "      <td>Intel Core i3 Processor (10th Gen)8 GB DDR4 RAM64 bit Windows 11 Operating System512 GB SSD39.62 cm (15.6 inch) DisplayOffice Home and Student 20211 Year Onsite Warranty</td>\n",
       "    </tr>\n",
       "    <tr>\n",
       "      <th>3</th>\n",
       "      <td>HP Pavilion Ryzen 5 Hexa Core AMD R5-5600H - (8 GB/512 GB SSD/Windows 10/4 GB Graphics/NVIDIA GeForce ...</td>\n",
       "      <td>4.4</td>\n",
       "      <td>₹49,990</td>\n",
       "      <td>AMD Ryzen 5 Hexa Core Processor8 GB DDR4 RAM64 bit Windows 10 Operating System512 GB SSD39.62 cm (15.6 inch) DisplayHP Documentation, HP e-service, HP BIOS Recovery, HP SSRM, HP Smart, HP Jumpstarts1 Year Onsite Warranty</td>\n",
       "    </tr>\n",
       "    <tr>\n",
       "      <th>4</th>\n",
       "      <td>ASUS TUF Gaming F15 Core i5 10th Gen - (8 GB/512 GB SSD/Windows 11 Home/4 GB Graphics/NVIDIA GeForce G...</td>\n",
       "      <td>4.4</td>\n",
       "      <td>₹49,990</td>\n",
       "      <td>Intel Core i5 Processor (10th Gen)8 GB DDR4 RAMWindows 11 Operating System512 GB SSD39.62 cm (15.6 inch) Display1 Year Onsite Warranty</td>\n",
       "    </tr>\n",
       "    <tr>\n",
       "      <th>...</th>\n",
       "      <td>...</td>\n",
       "      <td>...</td>\n",
       "      <td>...</td>\n",
       "      <td>...</td>\n",
       "    </tr>\n",
       "    <tr>\n",
       "      <th>715</th>\n",
       "      <td>ASUS Chromebook Flip Touch Celeron Dual Core - (4 GB/64 GB EMMC Storage/Chrome OS) C214MA-BU0452 Chrom...</td>\n",
       "      <td>4.0</td>\n",
       "      <td>₹23,490</td>\n",
       "      <td>Intel Celeron Dual Core Processor4 GB LPDDR4 RAMChrome Operating System29.46 cm (11.6 inch) Touchscreen Display1 Year Onsite Warranty</td>\n",
       "    </tr>\n",
       "    <tr>\n",
       "      <th>716</th>\n",
       "      <td>Lenovo IdeaPad Gaming 3 Ryzen 7 Octa Core AMD R7-5800H - (8 GB/512 GB SSD/Windows 11 Home/4 GB Graphic...</td>\n",
       "      <td>4.5</td>\n",
       "      <td>₹73,490</td>\n",
       "      <td>AMD Ryzen 7 Octa Core Processor8 GB DDR4 RAM64 bit Windows 11 Operating System512 GB SSD39.62 cm (15.6 inch) Display1 Year Onsite�Warranty�+ 1 Year Premium Care + 1 Year Accidental Damage Protection</td>\n",
       "    </tr>\n",
       "    <tr>\n",
       "      <th>717</th>\n",
       "      <td>ASUS ROG Zephyrus G15 Ryzen 9 Octa Core 6900HS - (16 GB/1 TB SSD/Windows 11 Home/8 GB Graphics/NVIDIA ...</td>\n",
       "      <td>NaN</td>\n",
       "      <td>₹1,94,990</td>\n",
       "      <td>AMD Ryzen 9 Octa Core Processor16 GB DDR5 RAM64 bit Windows 11 Operating System1 TB SSD39.62 cm (15.6 inch) Display1 Year Onsite Warranty</td>\n",
       "    </tr>\n",
       "    <tr>\n",
       "      <th>718</th>\n",
       "      <td>ASUS Zenbook Flip 14 OLED (2022) Touch Panel Core i7 12th Gen - (16 GB/512 GB SSD/Windows 11 Home) UP5...</td>\n",
       "      <td>3.0</td>\n",
       "      <td>₹1,25,990</td>\n",
       "      <td>Intel Core i7 Processor (12th Gen)16 GB LPDDR5 RAM64 bit Windows 11 Operating System512 GB SSD35.56 cm (14 inch) Touchscreen Display1 Year Onsite Warranty</td>\n",
       "    </tr>\n",
       "    <tr>\n",
       "      <th>719</th>\n",
       "      <td>Lenovo Ideapad Slim 3i Core i5 10th Gen - (8 GB/1 TB HDD/256 GB SSD/Windows 10 Home) 15IIL05 Laptop</td>\n",
       "      <td>4.2</td>\n",
       "      <td>₹50,990</td>\n",
       "      <td>Intel Core i5 Processor (10th Gen)8 GB DDR4 RAM64 bit Windows 10 Operating System1 TB HDD|256 GB SSD39.62 cm (15.6 inch) DisplayMicrosoft Office Home and Student 20191 Year Onsite Warranty</td>\n",
       "    </tr>\n",
       "  </tbody>\n",
       "</table>\n",
       "<p>720 rows × 4 columns</p>\n",
       "</div>"
      ],
      "text/plain": [
       "                                                                                                       Product  \\\n",
       "0          Lenovo IdeaPad 3 Core i3 11th Gen - (8 GB/256 GB SSD/Windows 11 Home) 14ITL05 Thin and Light Laptop   \n",
       "1    Lenovo IdeaPad 3 Core i3 11th Gen - (8 GB/512 GB SSD/Windows 11 Home) 82H801L7IN | 82H802FJIN | 82H802...   \n",
       "2    ASUS VivoBook 15 (2022) Core i3 10th Gen - (8 GB/512 GB SSD/Windows 11 Home) X515JA-EJ362WS | X515JA-E...   \n",
       "3    HP Pavilion Ryzen 5 Hexa Core AMD R5-5600H - (8 GB/512 GB SSD/Windows 10/4 GB Graphics/NVIDIA GeForce ...   \n",
       "4    ASUS TUF Gaming F15 Core i5 10th Gen - (8 GB/512 GB SSD/Windows 11 Home/4 GB Graphics/NVIDIA GeForce G...   \n",
       "..                                                                                                         ...   \n",
       "715  ASUS Chromebook Flip Touch Celeron Dual Core - (4 GB/64 GB EMMC Storage/Chrome OS) C214MA-BU0452 Chrom...   \n",
       "716  Lenovo IdeaPad Gaming 3 Ryzen 7 Octa Core AMD R7-5800H - (8 GB/512 GB SSD/Windows 11 Home/4 GB Graphic...   \n",
       "717  ASUS ROG Zephyrus G15 Ryzen 9 Octa Core 6900HS - (16 GB/1 TB SSD/Windows 11 Home/8 GB Graphics/NVIDIA ...   \n",
       "718  ASUS Zenbook Flip 14 OLED (2022) Touch Panel Core i7 12th Gen - (16 GB/512 GB SSD/Windows 11 Home) UP5...   \n",
       "719        Lenovo Ideapad Slim 3i Core i5 10th Gen - (8 GB/1 TB HDD/256 GB SSD/Windows 10 Home) 15IIL05 Laptop   \n",
       "\n",
       "     Rating        MRP  \\\n",
       "0       4.2    ₹36,990   \n",
       "1       4.2    ₹39,990   \n",
       "2       4.3    ₹32,990   \n",
       "3       4.4    ₹49,990   \n",
       "4       4.4    ₹49,990   \n",
       "..      ...        ...   \n",
       "715     4.0    ₹23,490   \n",
       "716     4.5    ₹73,490   \n",
       "717     NaN  ₹1,94,990   \n",
       "718     3.0  ₹1,25,990   \n",
       "719     4.2    ₹50,990   \n",
       "\n",
       "                                                                                                                                                                                                                          Feature  \n",
       "0                                                         Intel Core i3 Processor (11th Gen)8 GB DDR4 RAM64 bit Windows 11 Operating System256 GB SSD35.56 cm (14 inch) DisplayOffice Home and Student 20212 Year Onsite�Warranty  \n",
       "1                                                       Intel Core i3 Processor (11th Gen)8 GB DDR4 RAM64 bit Windows 11 Operating System512 GB SSD39.62 cm (15.6 inch) DisplayOffice Home and Student 20212 Year Onsite�Warranty  \n",
       "2                                                       Intel Core i3 Processor (10th Gen)8 GB DDR4 RAM64 bit Windows 11 Operating System512 GB SSD39.62 cm (15.6 inch) DisplayOffice Home and Student 20211 Year Onsite Warranty  \n",
       "3    AMD Ryzen 5 Hexa Core Processor8 GB DDR4 RAM64 bit Windows 10 Operating System512 GB SSD39.62 cm (15.6 inch) DisplayHP Documentation, HP e-service, HP BIOS Recovery, HP SSRM, HP Smart, HP Jumpstarts1 Year Onsite Warranty  \n",
       "4                                                                                          Intel Core i5 Processor (10th Gen)8 GB DDR4 RAMWindows 11 Operating System512 GB SSD39.62 cm (15.6 inch) Display1 Year Onsite Warranty  \n",
       "..                                                                                                                                                                                                                            ...  \n",
       "715                                                                                         Intel Celeron Dual Core Processor4 GB LPDDR4 RAMChrome Operating System29.46 cm (11.6 inch) Touchscreen Display1 Year Onsite Warranty  \n",
       "716                        AMD Ryzen 7 Octa Core Processor8 GB DDR4 RAM64 bit Windows 11 Operating System512 GB SSD39.62 cm (15.6 inch) Display1 Year Onsite�Warranty�+ 1 Year Premium Care + 1 Year Accidental Damage Protection  \n",
       "717                                                                                     AMD Ryzen 9 Octa Core Processor16 GB DDR5 RAM64 bit Windows 11 Operating System1 TB SSD39.62 cm (15.6 inch) Display1 Year Onsite Warranty  \n",
       "718                                                                    Intel Core i7 Processor (12th Gen)16 GB LPDDR5 RAM64 bit Windows 11 Operating System512 GB SSD35.56 cm (14 inch) Touchscreen Display1 Year Onsite Warranty  \n",
       "719                                  Intel Core i5 Processor (10th Gen)8 GB DDR4 RAM64 bit Windows 10 Operating System1 TB HDD|256 GB SSD39.62 cm (15.6 inch) DisplayMicrosoft Office Home and Student 20191 Year Onsite Warranty  \n",
       "\n",
       "[720 rows x 4 columns]"
      ]
     },
     "execution_count": 141,
     "metadata": {},
     "output_type": "execute_result"
    }
   ],
   "source": [
    "df"
   ]
  },
  {
   "cell_type": "markdown",
   "id": "b7b8a0c8",
   "metadata": {},
   "source": [
    "## Basic Exploration"
   ]
  },
  {
   "cell_type": "code",
   "execution_count": 142,
   "id": "959bfeef",
   "metadata": {},
   "outputs": [
    {
     "name": "stdout",
     "output_type": "stream",
     "text": [
      "<class 'pandas.core.frame.DataFrame'>\n",
      "RangeIndex: 720 entries, 0 to 719\n",
      "Data columns (total 4 columns):\n",
      " #   Column   Non-Null Count  Dtype  \n",
      "---  ------   --------------  -----  \n",
      " 0   Product  720 non-null    object \n",
      " 1   Rating   581 non-null    float64\n",
      " 2   MRP      720 non-null    object \n",
      " 3   Feature  720 non-null    object \n",
      "dtypes: float64(1), object(3)\n",
      "memory usage: 22.6+ KB\n"
     ]
    }
   ],
   "source": [
    "df.info()"
   ]
  },
  {
   "cell_type": "markdown",
   "id": "411d188f",
   "metadata": {},
   "source": [
    "## MRP column Type conversion"
   ]
  },
  {
   "cell_type": "code",
   "execution_count": 143,
   "id": "f6505253",
   "metadata": {},
   "outputs": [
    {
     "data": {
      "text/plain": [
       "0    36990\n",
       "1    39990\n",
       "2    32990\n",
       "3    49990\n",
       "4    49990\n",
       "Name: MRP, dtype: int32"
      ]
     },
     "execution_count": 143,
     "metadata": {},
     "output_type": "execute_result"
    }
   ],
   "source": [
    "df['MRP'] = df['MRP'].apply(lambda x : x.replace('₹', '').replace(',', '')).astype(int)\n",
    "df['MRP'][:5]"
   ]
  },
  {
   "cell_type": "markdown",
   "id": "763098ec",
   "metadata": {},
   "source": [
    "## Extract Processor, RAM, Operating System, Storage, Brand from Features column"
   ]
  },
  {
   "cell_type": "code",
   "execution_count": 144,
   "id": "cfb0d401",
   "metadata": {},
   "outputs": [],
   "source": [
    "import re"
   ]
  },
  {
   "cell_type": "code",
   "execution_count": 145,
   "id": "78ee1eb0",
   "metadata": {},
   "outputs": [],
   "source": [
    "regex = r'^\\w+'\n",
    "df['Brand']=df['Product'].apply(lambda x : re.findall(regex, x))\n",
    "df['Brand']= df['Brand'].apply(lambda x : ''.join(x))"
   ]
  },
  {
   "cell_type": "code",
   "execution_count": 146,
   "id": "8ca42919",
   "metadata": {},
   "outputs": [
    {
     "data": {
      "text/plain": [
       "0    Lenovo\n",
       "1    Lenovo\n",
       "2      ASUS\n",
       "3        HP\n",
       "4      ASUS\n",
       "Name: Brand, dtype: object"
      ]
     },
     "execution_count": 146,
     "metadata": {},
     "output_type": "execute_result"
    }
   ],
   "source": [
    "df['Brand'].head()"
   ]
  },
  {
   "cell_type": "code",
   "execution_count": 147,
   "id": "da23157c",
   "metadata": {},
   "outputs": [],
   "source": [
    "regex= r'^(?:AMD|Intel|M1|Apple)[\\s\\w]+Processor'\n",
    "df['Processor_Type']=df['Feature'].apply(lambda x : re.findall(regex, x))\n",
    "df['Processor_Type']=df['Processor_Type'].apply(lambda x : ''.join(x))\n",
    "df['Processor_Type']=df['Processor_Type'].apply(lambda x: x.replace(\" Processor\", \"\"))"
   ]
  },
  {
   "cell_type": "code",
   "execution_count": 148,
   "id": "dcc4c2bb",
   "metadata": {},
   "outputs": [
    {
     "data": {
      "text/plain": [
       "0            Intel Core i3\n",
       "1            Intel Core i3\n",
       "2            Intel Core i3\n",
       "3    AMD Ryzen 5 Hexa Core\n",
       "4            Intel Core i5\n",
       "Name: Processor_Type, dtype: object"
      ]
     },
     "execution_count": 148,
     "metadata": {},
     "output_type": "execute_result"
    }
   ],
   "source": [
    "df['Processor_Type'].head()"
   ]
  },
  {
   "cell_type": "code",
   "execution_count": 149,
   "id": "4b92e7e0",
   "metadata": {},
   "outputs": [],
   "source": [
    "regex= r'[\\d]+[\\s]bit[\\s\\w]+Operating System|[\\(Windows)\\d\\s]+Operating System|[\\(Chrome|Mac OS)]+Operating System'\n",
    "df['Operating_System']=df['Feature'].apply(lambda x : re.findall(regex, x))\n",
    "df['Operating_System']=df['Operating_System'].apply(lambda x : ''.join(x))\n",
    "df['Operating_System']=df['Operating_System'].apply(lambda x: x.replace(\" Operating System\", \"\"))"
   ]
  },
  {
   "cell_type": "code",
   "execution_count": 150,
   "id": "759cb304",
   "metadata": {},
   "outputs": [
    {
     "data": {
      "text/plain": [
       "0    64 bit Windows 11\n",
       "1    64 bit Windows 11\n",
       "2    64 bit Windows 11\n",
       "3    64 bit Windows 10\n",
       "4           Windows 11\n",
       "Name: Operating_System, dtype: object"
      ]
     },
     "execution_count": 150,
     "metadata": {},
     "output_type": "execute_result"
    }
   ],
   "source": [
    "df['Operating_System'].head()"
   ]
  },
  {
   "cell_type": "code",
   "execution_count": 151,
   "id": "ac60bf43",
   "metadata": {},
   "outputs": [],
   "source": [
    "regex = r'\\d+\\sGB[\\s\\w]+RAM'\n",
    "df['RAM'] = df['Feature'].apply(lambda x : re.findall(regex, x))\n",
    "df.RAM = df.RAM.apply(lambda x : ''.join(x))"
   ]
  },
  {
   "cell_type": "code",
   "execution_count": 152,
   "id": "4011f9cf",
   "metadata": {},
   "outputs": [
    {
     "data": {
      "text/plain": [
       "0    8 GB DDR4 RAM\n",
       "1    8 GB DDR4 RAM\n",
       "2    8 GB DDR4 RAM\n",
       "3    8 GB DDR4 RAM\n",
       "4    8 GB DDR4 RAM\n",
       "Name: RAM, dtype: object"
      ]
     },
     "execution_count": 152,
     "metadata": {},
     "output_type": "execute_result"
    }
   ],
   "source": [
    "df['RAM'].head()"
   ]
  },
  {
   "cell_type": "code",
   "execution_count": 153,
   "id": "9147aedd",
   "metadata": {},
   "outputs": [],
   "source": [
    "regex = r'[\\d]+\\s(?:GB|TB)\\s(?:HDD|SSD)'\n",
    "df['Storage']=df['Feature'].apply(lambda x : re.findall(regex, x))\n",
    "df['Storage']=df['Storage'].apply(lambda x : ''.join(x))"
   ]
  },
  {
   "cell_type": "code",
   "execution_count": 154,
   "id": "94c04ec2",
   "metadata": {},
   "outputs": [
    {
     "data": {
      "text/plain": [
       "0    256 GB SSD\n",
       "1    512 GB SSD\n",
       "2    512 GB SSD\n",
       "3    512 GB SSD\n",
       "4    512 GB SSD\n",
       "Name: Storage, dtype: object"
      ]
     },
     "execution_count": 154,
     "metadata": {},
     "output_type": "execute_result"
    }
   ],
   "source": [
    "df['Storage'].head()"
   ]
  },
  {
   "cell_type": "code",
   "execution_count": 155,
   "id": "54fc481e",
   "metadata": {},
   "outputs": [],
   "source": [
    "df['Display_inchs'] = df['Feature'].apply(lambda x: \"\".join(re.findall('(?:\\d+|\\d+.\\d+)\\sinch|(?:\\d+|\\d+.\\d+)\\sInch',x)))\n",
    "\n",
    "df['Display_inchs'] = df['Display_inchs'].apply(lambda x: x.replace(' inch',''))\n",
    "\n",
    "df['Display_inchs'] = df['Display_inchs'].apply(lambda x: x.replace(' Inch',''))\n",
    "\n",
    "df['Display_inchs'] = df['Display_inchs'].apply(lambda x: x.replace('1414','14'))\n",
    "df['Display_inchs'] = df['Display_inchs'].apply(lambda x: x.replace('206015.615.6','15.6'))\n",
    "df['Display_inchs'] = df['Display_inchs'].apply(lambda x: x.replace('15.615.6','15.6'))\n",
    "\n",
    "df['Display_inchs'].replace('',np.nan,inplace=True)\n",
    "\n",
    "\n"
   ]
  },
  {
   "cell_type": "code",
   "execution_count": 156,
   "id": "26cf991d",
   "metadata": {},
   "outputs": [
    {
     "data": {
      "text/plain": [
       "0      14\n",
       "1    15.6\n",
       "2    15.6\n",
       "3    15.6\n",
       "4    15.6\n",
       "Name: Display_inchs, dtype: object"
      ]
     },
     "execution_count": 156,
     "metadata": {},
     "output_type": "execute_result"
    }
   ],
   "source": [
    "df['Display_inchs'].head()"
   ]
  },
  {
   "cell_type": "code",
   "execution_count": 157,
   "id": "66cbb65b",
   "metadata": {},
   "outputs": [],
   "source": [
    "df[\"RAM_Type\"]=df[\"RAM\"].apply(lambda x : \"\".join(re.findall(\"GB (.+).RAM\",x)))"
   ]
  },
  {
   "cell_type": "code",
   "execution_count": 158,
   "id": "2b97c81c",
   "metadata": {},
   "outputs": [],
   "source": [
    "df[\"RAM\"]=df[\"RAM\"].apply(lambda x : \"\".join(re.findall(\"\\d+ GB\",x)))"
   ]
  },
  {
   "cell_type": "code",
   "execution_count": 159,
   "id": "d8b180dd",
   "metadata": {},
   "outputs": [
    {
     "data": {
      "text/plain": [
       "0    DDR4\n",
       "1    DDR4\n",
       "2    DDR4\n",
       "3    DDR4\n",
       "4    DDR4\n",
       "Name: RAM_Type, dtype: object"
      ]
     },
     "execution_count": 159,
     "metadata": {},
     "output_type": "execute_result"
    }
   ],
   "source": [
    "df['RAM_Type'].head()"
   ]
  },
  {
   "cell_type": "code",
   "execution_count": 160,
   "id": "cc1d6caf",
   "metadata": {},
   "outputs": [],
   "source": [
    "pd.options.display.max_colwidth=10000000"
   ]
  },
  {
   "cell_type": "code",
   "execution_count": 161,
   "id": "7166275c",
   "metadata": {},
   "outputs": [
    {
     "data": {
      "text/html": [
       "<div>\n",
       "<style scoped>\n",
       "    .dataframe tbody tr th:only-of-type {\n",
       "        vertical-align: middle;\n",
       "    }\n",
       "\n",
       "    .dataframe tbody tr th {\n",
       "        vertical-align: top;\n",
       "    }\n",
       "\n",
       "    .dataframe thead th {\n",
       "        text-align: right;\n",
       "    }\n",
       "</style>\n",
       "<table border=\"1\" class=\"dataframe\">\n",
       "  <thead>\n",
       "    <tr style=\"text-align: right;\">\n",
       "      <th></th>\n",
       "      <th>Product</th>\n",
       "      <th>Rating</th>\n",
       "      <th>MRP</th>\n",
       "      <th>Feature</th>\n",
       "      <th>Brand</th>\n",
       "      <th>Processor_Type</th>\n",
       "      <th>Operating_System</th>\n",
       "      <th>RAM</th>\n",
       "      <th>Storage</th>\n",
       "      <th>Display_inchs</th>\n",
       "      <th>RAM_Type</th>\n",
       "    </tr>\n",
       "  </thead>\n",
       "  <tbody>\n",
       "    <tr>\n",
       "      <th>0</th>\n",
       "      <td>Lenovo IdeaPad 3 Core i3 11th Gen - (8 GB/256 GB SSD/Windows 11 Home) 14ITL05 Thin and Light Laptop</td>\n",
       "      <td>4.2</td>\n",
       "      <td>36990</td>\n",
       "      <td>Intel Core i3 Processor (11th Gen)8 GB DDR4 RAM64 bit Windows 11 Operating System256 GB SSD35.56 cm (14 inch) DisplayOffice Home and Student 20212 Year Onsite�Warranty</td>\n",
       "      <td>Lenovo</td>\n",
       "      <td>Intel Core i3</td>\n",
       "      <td>64 bit Windows 11</td>\n",
       "      <td>8 GB</td>\n",
       "      <td>256 GB SSD</td>\n",
       "      <td>14</td>\n",
       "      <td>DDR4</td>\n",
       "    </tr>\n",
       "    <tr>\n",
       "      <th>1</th>\n",
       "      <td>Lenovo IdeaPad 3 Core i3 11th Gen - (8 GB/512 GB SSD/Windows 11 Home) 82H801L7IN | 82H802FJIN | 82H802...</td>\n",
       "      <td>4.2</td>\n",
       "      <td>39990</td>\n",
       "      <td>Intel Core i3 Processor (11th Gen)8 GB DDR4 RAM64 bit Windows 11 Operating System512 GB SSD39.62 cm (15.6 inch) DisplayOffice Home and Student 20212 Year Onsite�Warranty</td>\n",
       "      <td>Lenovo</td>\n",
       "      <td>Intel Core i3</td>\n",
       "      <td>64 bit Windows 11</td>\n",
       "      <td>8 GB</td>\n",
       "      <td>512 GB SSD</td>\n",
       "      <td>15.6</td>\n",
       "      <td>DDR4</td>\n",
       "    </tr>\n",
       "    <tr>\n",
       "      <th>2</th>\n",
       "      <td>ASUS VivoBook 15 (2022) Core i3 10th Gen - (8 GB/512 GB SSD/Windows 11 Home) X515JA-EJ362WS | X515JA-E...</td>\n",
       "      <td>4.3</td>\n",
       "      <td>32990</td>\n",
       "      <td>Intel Core i3 Processor (10th Gen)8 GB DDR4 RAM64 bit Windows 11 Operating System512 GB SSD39.62 cm (15.6 inch) DisplayOffice Home and Student 20211 Year Onsite Warranty</td>\n",
       "      <td>ASUS</td>\n",
       "      <td>Intel Core i3</td>\n",
       "      <td>64 bit Windows 11</td>\n",
       "      <td>8 GB</td>\n",
       "      <td>512 GB SSD</td>\n",
       "      <td>15.6</td>\n",
       "      <td>DDR4</td>\n",
       "    </tr>\n",
       "    <tr>\n",
       "      <th>3</th>\n",
       "      <td>HP Pavilion Ryzen 5 Hexa Core AMD R5-5600H - (8 GB/512 GB SSD/Windows 10/4 GB Graphics/NVIDIA GeForce ...</td>\n",
       "      <td>4.4</td>\n",
       "      <td>49990</td>\n",
       "      <td>AMD Ryzen 5 Hexa Core Processor8 GB DDR4 RAM64 bit Windows 10 Operating System512 GB SSD39.62 cm (15.6 inch) DisplayHP Documentation, HP e-service, HP BIOS Recovery, HP SSRM, HP Smart, HP Jumpstarts1 Year Onsite Warranty</td>\n",
       "      <td>HP</td>\n",
       "      <td>AMD Ryzen 5 Hexa Core</td>\n",
       "      <td>64 bit Windows 10</td>\n",
       "      <td>8 GB</td>\n",
       "      <td>512 GB SSD</td>\n",
       "      <td>15.6</td>\n",
       "      <td>DDR4</td>\n",
       "    </tr>\n",
       "    <tr>\n",
       "      <th>4</th>\n",
       "      <td>ASUS TUF Gaming F15 Core i5 10th Gen - (8 GB/512 GB SSD/Windows 11 Home/4 GB Graphics/NVIDIA GeForce G...</td>\n",
       "      <td>4.4</td>\n",
       "      <td>49990</td>\n",
       "      <td>Intel Core i5 Processor (10th Gen)8 GB DDR4 RAMWindows 11 Operating System512 GB SSD39.62 cm (15.6 inch) Display1 Year Onsite Warranty</td>\n",
       "      <td>ASUS</td>\n",
       "      <td>Intel Core i5</td>\n",
       "      <td>Windows 11</td>\n",
       "      <td>8 GB</td>\n",
       "      <td>512 GB SSD</td>\n",
       "      <td>15.6</td>\n",
       "      <td>DDR4</td>\n",
       "    </tr>\n",
       "  </tbody>\n",
       "</table>\n",
       "</div>"
      ],
      "text/plain": [
       "                                                                                                     Product  \\\n",
       "0        Lenovo IdeaPad 3 Core i3 11th Gen - (8 GB/256 GB SSD/Windows 11 Home) 14ITL05 Thin and Light Laptop   \n",
       "1  Lenovo IdeaPad 3 Core i3 11th Gen - (8 GB/512 GB SSD/Windows 11 Home) 82H801L7IN | 82H802FJIN | 82H802...   \n",
       "2  ASUS VivoBook 15 (2022) Core i3 10th Gen - (8 GB/512 GB SSD/Windows 11 Home) X515JA-EJ362WS | X515JA-E...   \n",
       "3  HP Pavilion Ryzen 5 Hexa Core AMD R5-5600H - (8 GB/512 GB SSD/Windows 10/4 GB Graphics/NVIDIA GeForce ...   \n",
       "4  ASUS TUF Gaming F15 Core i5 10th Gen - (8 GB/512 GB SSD/Windows 11 Home/4 GB Graphics/NVIDIA GeForce G...   \n",
       "\n",
       "   Rating    MRP  \\\n",
       "0     4.2  36990   \n",
       "1     4.2  39990   \n",
       "2     4.3  32990   \n",
       "3     4.4  49990   \n",
       "4     4.4  49990   \n",
       "\n",
       "                                                                                                                                                                                                                        Feature  \\\n",
       "0                                                       Intel Core i3 Processor (11th Gen)8 GB DDR4 RAM64 bit Windows 11 Operating System256 GB SSD35.56 cm (14 inch) DisplayOffice Home and Student 20212 Year Onsite�Warranty   \n",
       "1                                                     Intel Core i3 Processor (11th Gen)8 GB DDR4 RAM64 bit Windows 11 Operating System512 GB SSD39.62 cm (15.6 inch) DisplayOffice Home and Student 20212 Year Onsite�Warranty   \n",
       "2                                                     Intel Core i3 Processor (10th Gen)8 GB DDR4 RAM64 bit Windows 11 Operating System512 GB SSD39.62 cm (15.6 inch) DisplayOffice Home and Student 20211 Year Onsite Warranty   \n",
       "3  AMD Ryzen 5 Hexa Core Processor8 GB DDR4 RAM64 bit Windows 10 Operating System512 GB SSD39.62 cm (15.6 inch) DisplayHP Documentation, HP e-service, HP BIOS Recovery, HP SSRM, HP Smart, HP Jumpstarts1 Year Onsite Warranty   \n",
       "4                                                                                        Intel Core i5 Processor (10th Gen)8 GB DDR4 RAMWindows 11 Operating System512 GB SSD39.62 cm (15.6 inch) Display1 Year Onsite Warranty   \n",
       "\n",
       "    Brand         Processor_Type   Operating_System   RAM     Storage  \\\n",
       "0  Lenovo          Intel Core i3  64 bit Windows 11  8 GB  256 GB SSD   \n",
       "1  Lenovo          Intel Core i3  64 bit Windows 11  8 GB  512 GB SSD   \n",
       "2    ASUS          Intel Core i3  64 bit Windows 11  8 GB  512 GB SSD   \n",
       "3      HP  AMD Ryzen 5 Hexa Core  64 bit Windows 10  8 GB  512 GB SSD   \n",
       "4    ASUS          Intel Core i5         Windows 11  8 GB  512 GB SSD   \n",
       "\n",
       "  Display_inchs RAM_Type  \n",
       "0            14     DDR4  \n",
       "1          15.6     DDR4  \n",
       "2          15.6     DDR4  \n",
       "3          15.6     DDR4  \n",
       "4          15.6     DDR4  "
      ]
     },
     "execution_count": 161,
     "metadata": {},
     "output_type": "execute_result"
    }
   ],
   "source": [
    "df.head()"
   ]
  },
  {
   "cell_type": "code",
   "execution_count": 162,
   "id": "3b4bcffb",
   "metadata": {},
   "outputs": [
    {
     "name": "stdout",
     "output_type": "stream",
     "text": [
      "<class 'pandas.core.frame.DataFrame'>\n",
      "RangeIndex: 720 entries, 0 to 719\n",
      "Data columns (total 11 columns):\n",
      " #   Column            Non-Null Count  Dtype  \n",
      "---  ------            --------------  -----  \n",
      " 0   Product           720 non-null    object \n",
      " 1   Rating            581 non-null    float64\n",
      " 2   MRP               720 non-null    int32  \n",
      " 3   Feature           720 non-null    object \n",
      " 4   Brand             720 non-null    object \n",
      " 5   Processor_Type    720 non-null    object \n",
      " 6   Operating_System  720 non-null    object \n",
      " 7   RAM               720 non-null    object \n",
      " 8   Storage           720 non-null    object \n",
      " 9   Display_inchs     718 non-null    object \n",
      " 10  RAM_Type          720 non-null    object \n",
      "dtypes: float64(1), int32(1), object(9)\n",
      "memory usage: 59.2+ KB\n"
     ]
    }
   ],
   "source": [
    "df.info()"
   ]
  },
  {
   "cell_type": "code",
   "execution_count": 163,
   "id": "d18b3ea3",
   "metadata": {},
   "outputs": [
    {
     "data": {
      "text/plain": [
       "Product               0\n",
       "Rating              139\n",
       "MRP                   0\n",
       "Feature               0\n",
       "Brand                 0\n",
       "Processor_Type        0\n",
       "Operating_System      0\n",
       "RAM                   0\n",
       "Storage               0\n",
       "Display_inchs         2\n",
       "RAM_Type              0\n",
       "dtype: int64"
      ]
     },
     "execution_count": 163,
     "metadata": {},
     "output_type": "execute_result"
    }
   ],
   "source": [
    "df.isnull().sum()"
   ]
  },
  {
   "cell_type": "code",
   "execution_count": 164,
   "id": "84eb3c92",
   "metadata": {},
   "outputs": [
    {
     "data": {
      "text/html": [
       "<div>\n",
       "<style scoped>\n",
       "    .dataframe tbody tr th:only-of-type {\n",
       "        vertical-align: middle;\n",
       "    }\n",
       "\n",
       "    .dataframe tbody tr th {\n",
       "        vertical-align: top;\n",
       "    }\n",
       "\n",
       "    .dataframe thead th {\n",
       "        text-align: right;\n",
       "    }\n",
       "</style>\n",
       "<table border=\"1\" class=\"dataframe\">\n",
       "  <thead>\n",
       "    <tr style=\"text-align: right;\">\n",
       "      <th></th>\n",
       "      <th>Product</th>\n",
       "      <th>Rating</th>\n",
       "      <th>MRP</th>\n",
       "      <th>Feature</th>\n",
       "      <th>Brand</th>\n",
       "      <th>Processor_Type</th>\n",
       "      <th>Operating_System</th>\n",
       "      <th>RAM</th>\n",
       "      <th>Storage</th>\n",
       "      <th>Display_inchs</th>\n",
       "      <th>RAM_Type</th>\n",
       "    </tr>\n",
       "  </thead>\n",
       "  <tbody>\n",
       "    <tr>\n",
       "      <th>6</th>\n",
       "      <td>DELL Inspiron Core i3 11th Gen - (8 GB/1 TB HDD/256 GB SSD/Windows 11 Home) D560841WIN9S Thin and Ligh...</td>\n",
       "      <td>4.3</td>\n",
       "      <td>38990</td>\n",
       "      <td>Processor: Intel i3-1115G4 (Base- 1.70 GHz &amp; Turbo up to 4.10 GHz) 2 CoresRAM &amp; Storage: 8GB DDR4 &amp; 1TB + 256GB SSDGraphics &amp; Keyboard: Integrated &amp; Standard KeyboardDisplay: 15.6\" FHD WVA AG Narrow BorderPorts: 2x USB 3.2 Gen1 ,1x USB 2.0, HDMI 1.4, SD Card reader, Audio jack, 1 M.2 2230/2280 slot for solid-state drive/Intel OptaneIntel Core i3 Processor (11th Gen)8 GB DDR4 RAMWindows 11 Operating System1 TB HDD|256 GB SSD39.62 cm (15.6 inch) Display1 YEAR</td>\n",
       "      <td>DELL</td>\n",
       "      <td></td>\n",
       "      <td>Windows 11</td>\n",
       "      <td>8 GB</td>\n",
       "      <td>1 TB HDD256 GB SSD</td>\n",
       "      <td>15.6</td>\n",
       "      <td>DDR4</td>\n",
       "    </tr>\n",
       "    <tr>\n",
       "      <th>8</th>\n",
       "      <td>realme Book (Slim) Core i3 11th Gen - (8 GB/256 GB SSD/Windows 10 Home) RMNB1001 Thin and Light Laptop</td>\n",
       "      <td>4.4</td>\n",
       "      <td>46990</td>\n",
       "      <td>Stylish &amp; Portable Thin and Light Laptop14 inch 2K QHD, IPS LCD Display ( 400nits peak brightness, 100% sRGB, 3:2 aspect ratio, Full Vision Display)Finger Print Sensor for Faster System AccessLight Laptop without Optical Disk DriveIntel Core i3 Processor (11th Gen)8 GB DDR4 RAM64 bit Windows 10 Operating System256 GB SSD35.56 cm (14 inch) DisplayNA1 Year Domestic Warranty</td>\n",
       "      <td>realme</td>\n",
       "      <td></td>\n",
       "      <td>64 bit Windows 10</td>\n",
       "      <td>8 GB</td>\n",
       "      <td>256 GB SSD</td>\n",
       "      <td>14</td>\n",
       "      <td>DDR4</td>\n",
       "    </tr>\n",
       "    <tr>\n",
       "      <th>29</th>\n",
       "      <td>realme Book (Slim) Core i3 11th Gen - (8 GB/256 GB SSD/Windows 10 Home) RMNB1001 Thin and Light Laptop</td>\n",
       "      <td>4.4</td>\n",
       "      <td>46990</td>\n",
       "      <td>Stylish &amp; Portable Thin and Light Laptop14 inch 2K QHD, IPS LCD Display ( 400nits peak brightness, 100% sRGB, 3:2 aspect ratio, Full Vision Display)Finger Print Sensor for Faster System AccessLight Laptop without Optical Disk DriveIntel Core i3 Processor (11th Gen)8 GB DDR4 RAM64 bit Windows 10 Operating System256 GB SSD35.56 cm (14 inch) DisplayNA1 Year Domestic Warranty</td>\n",
       "      <td>realme</td>\n",
       "      <td></td>\n",
       "      <td>64 bit Windows 10</td>\n",
       "      <td>8 GB</td>\n",
       "      <td>256 GB SSD</td>\n",
       "      <td>14</td>\n",
       "      <td>DDR4</td>\n",
       "    </tr>\n",
       "    <tr>\n",
       "      <th>33</th>\n",
       "      <td>acer Aspire 7 Ryzen 5 Hexa Core AMD R5-5500U - (8 GB/512 GB SSD/Windows 11 Home/4 GB Graphics/NVIDIA G...</td>\n",
       "      <td>4.4</td>\n",
       "      <td>47990</td>\n",
       "      <td>Free upgrade to Windows 11 when availableAMD Ryzen 5 Hexa Core Processor8 GB DDR4 RAM64 bit Windows 11 Operating System512 GB SSD39.62 cm (15.6 inch) DisplayAcer Collection , Acer Product Registration, Acer Care Center, Quick Access1 Year International Travelers Warranty (ITW)</td>\n",
       "      <td>acer</td>\n",
       "      <td></td>\n",
       "      <td>64 bit Windows 11</td>\n",
       "      <td>8 GB</td>\n",
       "      <td>512 GB SSD</td>\n",
       "      <td>15.6</td>\n",
       "      <td>DDR4</td>\n",
       "    </tr>\n",
       "    <tr>\n",
       "      <th>53</th>\n",
       "      <td>realme Book(Slim) Intel Evo Core i5 11th Gen - (8 GB/512 GB SSD/Windows 10 Home) RMNB1002 Thin and Lig...</td>\n",
       "      <td>4.4</td>\n",
       "      <td>59990</td>\n",
       "      <td>Powered by 11th Gen Intel Evo Core i5 ProcessorMicrosoft Office 2019 Home &amp; Student IncludedStylish Thin and Light Laptop without Optical Disk DriveIntel Core i5 Processor (11th Gen)8 GB DDR4 RAM64 bit Windows 10 Operating System512 GB SSD35.56 cm (14 inch) DisplayMicrosoft Office 2019 Home &amp; Student1 Year Domestic Warranty</td>\n",
       "      <td>realme</td>\n",
       "      <td></td>\n",
       "      <td>64 bit Windows 10</td>\n",
       "      <td>8 GB</td>\n",
       "      <td>512 GB SSD</td>\n",
       "      <td>14</td>\n",
       "      <td>DDR4</td>\n",
       "    </tr>\n",
       "    <tr>\n",
       "      <th>54</th>\n",
       "      <td>acer Aspire 7 Core i5 10th Gen - (8 GB/512 GB SSD/Windows 10 Home/4 GB Graphics/NVIDIA GeForce GTX 165...</td>\n",
       "      <td>4.4</td>\n",
       "      <td>47990</td>\n",
       "      <td>Free upgrade to Windows 11 when availableIntel Core i5 Processor (10th Gen)8 GB DDR4 RAM64 bit Windows 10 Operating System512 GB SSD39.62 cm (15.6 inch) DisplayQuick Access, Acer Care Center, Acer Product Registration, Acer Collection1 Year International Travelers Warranty</td>\n",
       "      <td>acer</td>\n",
       "      <td></td>\n",
       "      <td>64 bit Windows 10</td>\n",
       "      <td>8 GB</td>\n",
       "      <td>512 GB SSD</td>\n",
       "      <td>15.6</td>\n",
       "      <td>DDR4</td>\n",
       "    </tr>\n",
       "    <tr>\n",
       "      <th>69</th>\n",
       "      <td>DELL Ryzen 5 Hexa Core AMD R5-5600H - (16 GB/512 GB SSD/Windows 11 Home/4 GB Graphics/NVIDIA GeForce R...</td>\n",
       "      <td>4.6</td>\n",
       "      <td>70990</td>\n",
       "      <td>Processor: AMD Ryzen R5-5600H (3.30 GHz up to 4.20 GHz) 16MB L3RAM &amp; Storage: 16GB DDR4 (2 DIMM Slots) &amp; 512GB SSDGraphics: NVIDIA GEFORCE RTX 3050 (4GB GDDR6) TGP Up To 80WDisplay: 15.6\" FHD WVA AG 250 nits 120Hz Narrow Border, Backlit Keyboard OrangeColor: Phantom Grey with specklesPorts: (1) HDMI 2.1, (2) SuperSpeed USB 2.0 Gen 1 Type-A including (1) with PowerShare, (1) SuperSpeed USB 3.2, (1) USB-C Data/Display Port Alt-Mode, Headphone/Mic, (1) RJ45WiFi &amp; BT: Killer Wi-Fi 6 AX1650 (2x2) and BluetoothAMD Ryzen 5 Hexa Core Processor16 GB DDR4 RAM64 bit Windows 11 Operating System512 GB SSD39.62 cm (15.6 inch) DisplayOffice Home and Student 20211 Year Onsite Hardware Service</td>\n",
       "      <td>DELL</td>\n",
       "      <td></td>\n",
       "      <td>64 bit Windows 11</td>\n",
       "      <td>16 GB</td>\n",
       "      <td>512 GB SSD</td>\n",
       "      <td>15.6</td>\n",
       "      <td>DDR4</td>\n",
       "    </tr>\n",
       "    <tr>\n",
       "      <th>83</th>\n",
       "      <td>SAMSUNG Galaxy Book Go Snapdragon 7c Gen 2 - (4 GB/128 GB EMMC Storage/Windows 11 Home) NP340XLA-KA1IN...</td>\n",
       "      <td>4.4</td>\n",
       "      <td>32990</td>\n",
       "      <td>Qualcomm Snapdragon 7c Gen 2 Processor4 GB LPDDR4X RAMWindows 11 Operating System35.56 cm (14 Inch) DisplayOffice Home and Student 20211 Year Onsite Warranty</td>\n",
       "      <td>SAMSUNG</td>\n",
       "      <td></td>\n",
       "      <td>Windows 11</td>\n",
       "      <td>4 GB</td>\n",
       "      <td></td>\n",
       "      <td>14</td>\n",
       "      <td>LPDDR4X</td>\n",
       "    </tr>\n",
       "    <tr>\n",
       "      <th>94</th>\n",
       "      <td>DELL Inspiron Pentium Silver - (8 GB/256 GB SSD/Windows 11 Home) Inspiron 3521 Notebook</td>\n",
       "      <td>4.2</td>\n",
       "      <td>30428</td>\n",
       "      <td>Processor: Intel PQC-N5030 (1.10 GHz up to 3.10 GHz)RAM &amp; Storage: 8GB DDR4 &amp; 256GB SSDDisplay: 15.6\" HD AG Narrow BorderSoftware: Win 11 + Office H&amp;S 20212x USB 3.2 Gen1 ,1x USB 2.0, HDMI 1.4, SD Card reader, Audio jack, 1 M.2 2230/2280 slot for solid-state drive/Intel OptaneWiFi &amp; BT: 802.11ac 1x1 WiFi and BluetoothIntel Pentium Silver Processor8 GB DDR4 RAM64 bit Windows 11 Operating System256 GB SSD39.62 cm (15.6 Inch) Display1 Year Onsite Warranty</td>\n",
       "      <td>DELL</td>\n",
       "      <td></td>\n",
       "      <td>64 bit Windows 11</td>\n",
       "      <td>8 GB</td>\n",
       "      <td>256 GB SSD</td>\n",
       "      <td>15.6</td>\n",
       "      <td>DDR4</td>\n",
       "    </tr>\n",
       "    <tr>\n",
       "      <th>116</th>\n",
       "      <td>realme Book(Slim) Intel Evo Core i5 11th Gen - (8 GB/512 GB SSD/Windows 10 Home) RMNB1002 Thin and Lig...</td>\n",
       "      <td>4.4</td>\n",
       "      <td>59990</td>\n",
       "      <td>Powered by 11th Gen Intel Evo Core i5 ProcessorMicrosoft Office 2019 Home &amp; Student IncludedStylish Thin and Light Laptop without Optical Disk DriveIntel Core i5 Processor (11th Gen)8 GB DDR4 RAM64 bit Windows 10 Operating System512 GB SSD35.56 cm (14 inch) DisplayMicrosoft Office 2019 Home &amp; Student1 Year Domestic Warranty</td>\n",
       "      <td>realme</td>\n",
       "      <td></td>\n",
       "      <td>64 bit Windows 10</td>\n",
       "      <td>8 GB</td>\n",
       "      <td>512 GB SSD</td>\n",
       "      <td>14</td>\n",
       "      <td>DDR4</td>\n",
       "    </tr>\n",
       "    <tr>\n",
       "      <th>122</th>\n",
       "      <td>DELL Ryzen 7 Octa Core AMD R7-5800H - (16 GB/512 GB SSD/Windows 11 Home/4 GB Graphics/NVIDIA GeForce R...</td>\n",
       "      <td>5.0</td>\n",
       "      <td>89081</td>\n",
       "      <td>NVIDIA RTX 3050 Graphics upto 90W TGP15.6 inch Full HD AG Display (250 nits Brightness, 120Hz, Narrow Border)Alienware Command CenterAMD Ryzen 7 Octa Core Processor16 GB DDR4 RAM64 bit Windows 11 Operating System512 GB SSD39.62 cm (15.6 inch) DisplayOffice Home and Student 20211 Year Premium Support</td>\n",
       "      <td>DELL</td>\n",
       "      <td></td>\n",
       "      <td>64 bit Windows 11</td>\n",
       "      <td>16 GB</td>\n",
       "      <td>512 GB SSD</td>\n",
       "      <td>15.6</td>\n",
       "      <td>DDR4</td>\n",
       "    </tr>\n",
       "    <tr>\n",
       "      <th>142</th>\n",
       "      <td>DELL Vostro Ryzen 3 Dual Core R3-3250U - (8 GB/1 TB HDD/Windows 11 Home) Vostro 3405 Thin and Light La...</td>\n",
       "      <td>3.8</td>\n",
       "      <td>33099</td>\n",
       "      <td>Processor: AMD Ryzen 3-3250U (2.60 GHz up to 3.50 GHz)RAM &amp; Storage: 8GB DDR4 (2 DIMM Slots) &amp; 1TB HDDSoftware: Win 11 + Office H&amp;S 2021Display: 14.0\" FHD WVA AG Narrow BorderPorts: USB 3.2 Gen 1 (x2), USB2.0 (x1), HDMI 1.4, SD Media Card Reader (SD, SDHC, SDXC), RJ45 - 10/100MbpsWiFi &amp; BT: 802.11ac 1x1 WiFi and BluetoothAMD Ryzen 3 Dual Core Processor8 GB DDR4 RAM64 bit Windows 11 Operating System1 TB HDD88.9 cm (35 cm) DisplayMicrosoft Office Home and Student 20211 Year Onsite Warranty1 Year Onsite Warranty</td>\n",
       "      <td>DELL</td>\n",
       "      <td></td>\n",
       "      <td>64 bit Windows 11</td>\n",
       "      <td>8 GB</td>\n",
       "      <td>1 TB HDD</td>\n",
       "      <td>NaN</td>\n",
       "      <td>DDR4</td>\n",
       "    </tr>\n",
       "    <tr>\n",
       "      <th>172</th>\n",
       "      <td>DELL Inspiron Core i3 11th Gen - (8 GB/1 TB HDD/256 GB SSD/Windows 11 Home) Inspiron 3511,Inspiron 300...</td>\n",
       "      <td>4.3</td>\n",
       "      <td>45900</td>\n",
       "      <td>Processor: Intel i3-1115G4 (Base- 1.70 GHz &amp; Turbo up to 4.10 GHz) 2 CoresRAM &amp; Storage: 8GB DDR4 &amp; 1TB + 256GB SSDGraphics &amp; Keyboard: Integrated &amp; Standard KeyboardDisplay: 15.6\" FHD WVA AG Narrow BorderPorts: 2x USB 3.2 Gen1 ,1x USB 2.0, HDMI 1.4, SD Card reader, Audio jack, 1 M.2 2230/2280 slot for solid-state drive/Intel OptaneIntel Core i3 Processor (11th Gen)8 GB DDR4 RAM64 bit Windows 11 Operating System1 TB HDD|256 GB SSD39.62 cm (15.6 inch) Display1 Year Onsite Warranty</td>\n",
       "      <td>DELL</td>\n",
       "      <td></td>\n",
       "      <td>64 bit Windows 11</td>\n",
       "      <td>8 GB</td>\n",
       "      <td>1 TB HDD256 GB SSD</td>\n",
       "      <td>15.6</td>\n",
       "      <td>DDR4</td>\n",
       "    </tr>\n",
       "    <tr>\n",
       "      <th>232</th>\n",
       "      <td>MSI Pulse GL66 Core i7 11th Gen - (16 GB/1 TB SSD/Windows 10 Home/6 GB Graphics/NVIDIA GeForce RTX 306...</td>\n",
       "      <td>4.5</td>\n",
       "      <td>114990</td>\n",
       "      <td>Pre-installed Genuine Windows 10 Home OSIntel Core i7 Processor (11th Gen)16 GB DDR4 RAM64 bit Windows 10 Operating System1 TB SSD39.62 cm (15.6 inches) DisplayCooler Boost 5, Hi-Res Audio, Nahimic 3, Speaker Tuning Engine, MSI Center2 Year On-Site Warranty</td>\n",
       "      <td>MSI</td>\n",
       "      <td></td>\n",
       "      <td>64 bit Windows 10</td>\n",
       "      <td>16 GB</td>\n",
       "      <td>1 TB SSD</td>\n",
       "      <td>15.6</td>\n",
       "      <td>DDR4</td>\n",
       "    </tr>\n",
       "    <tr>\n",
       "      <th>249</th>\n",
       "      <td>DELL Inspiron Core i3 11th Gen - (8 GB/256 GB SSD/Windows 11 Home) INSPIRON 5410 2 in 1 Laptop</td>\n",
       "      <td>4.3</td>\n",
       "      <td>54900</td>\n",
       "      <td>Processor: Intel i3-1125G4 (2.00 GHz up to 3.70 GHz)RAM &amp; Storage: 8GB DDR4 (2 DIMM Slots) &amp; 256GB SSDSoftware: Win 11 + Office H&amp;S 2021Display: 14.0\" FHD WVA Truelife Touch Narrow Border 60HzPorts: \"1 HDMI out 1.4a, 2 USB 3.2 Gen 1 Type-A, 1 USB 3.2 Gen 2 Type-C with Power Delivery and Video, 1 DC-in port, 1 3.5mm Headphone/Microphone combination jack\"WiFi &amp; BT: Intel Wi-Fi 6 2x2 (Gig+) and Bluetooth 5.1Intel Core i3 Processor (11th Gen)8 GB DDR4 RAM64 bit Windows 11 Operating System256 GB SSD35.56 cm (14 inch) Touchscreen DisplayOffice Home and Student 20211 Year Onsite Warranty</td>\n",
       "      <td>DELL</td>\n",
       "      <td></td>\n",
       "      <td>64 bit Windows 11</td>\n",
       "      <td>8 GB</td>\n",
       "      <td>256 GB SSD</td>\n",
       "      <td>14</td>\n",
       "      <td>DDR4</td>\n",
       "    </tr>\n",
       "    <tr>\n",
       "      <th>253</th>\n",
       "      <td>DELL Inspiron Ryzen 5 Dual Core 3450U - (8 GB/512 GB SSD/Windows 11 Home) INSPIRON 3515 Thin and Light...</td>\n",
       "      <td>4.3</td>\n",
       "      <td>48184</td>\n",
       "      <td>Processor: AMD Ryzen 5-3450U (2.10 GHz up to 3.50 GHz)RAM &amp; Storage: 8GB DDR4 (2 DIMM Slots) &amp; 512GB SSDSoftware: Win 11 + Office H&amp;S 2021Display: 15.6\" FHD WVA AG Narrow BorderPorts: \"2x USB 3.2 Gen1 ,1x USB 2.0, HDMI 1.4b, SD Card reader, Audio jackWiFi &amp; BT: 802.11ac 1x1 WiFi and BluetoothAMD Ryzen 5 Dual Core Processor8 GB DDR4 RAM64 bit Windows 11 Operating System512 GB SSD39.62 cm (15.6 Inch) DisplayMicrosoft Office Home &amp; Student 20211 Year Onsite Warranty</td>\n",
       "      <td>DELL</td>\n",
       "      <td></td>\n",
       "      <td>64 bit Windows 11</td>\n",
       "      <td>8 GB</td>\n",
       "      <td>512 GB SSD</td>\n",
       "      <td>15.6</td>\n",
       "      <td>DDR4</td>\n",
       "    </tr>\n",
       "    <tr>\n",
       "      <th>259</th>\n",
       "      <td>DELL Core i5 11th Gen - (8 GB/512 GB SSD/Windows 11 Home/4 GB Graphics/NVIDIA GeForce RTX 3050) G15-55...</td>\n",
       "      <td>4.4</td>\n",
       "      <td>67990</td>\n",
       "      <td>NVIDIA RTX 3050 Graphics upto 90W TGP15.6 inch Full HD AG Display (250 nits Brightness, 120Hz, Narrow Border)Alienware Command CenterIntel Core i5 Processor (11th Gen)8 GB DDR4 RAM64 bit Windows 11 Operating System512 GB SSD39.62 cm (15.6 inch) DisplayOffice Home and Student 20211 Year Onsite Hardware Service</td>\n",
       "      <td>DELL</td>\n",
       "      <td></td>\n",
       "      <td>64 bit Windows 11</td>\n",
       "      <td>8 GB</td>\n",
       "      <td>512 GB SSD</td>\n",
       "      <td>15.6</td>\n",
       "      <td>DDR4</td>\n",
       "    </tr>\n",
       "    <tr>\n",
       "      <th>349</th>\n",
       "      <td>DELL Vostro Core i5 11th Gen - (8 GB/512 GB SSD/Windows 10/2 GB Graphics) Vostro 3400 Thin and Light L...</td>\n",
       "      <td>3.9</td>\n",
       "      <td>63090</td>\n",
       "      <td>Processor: 11th Generation Intel Core i5-1135G7 Processor (8MB Cache, up to 4.2 GHz),Memory &amp; Storage:8GB DDR4, 2666MHz | 512GB M.2 PCIe NVMe Solid State DriveDisplay:14.0-inch FHD (1920 x 1080) Anti-glare LED Backlight Narrow Border WVA DisplayGraphics: Dedicated NVIDIA MX330 2GB GDDR5Operating System &amp; Software:Windows 10 Home Single Language | Microsoft Office Home and Student 2019I/O ports: 2x USB 3.2 Gen-1, 1xUSB 2.0, 1xHDMI port, 1xEthernet port,1x Headset jack, 1xSD Media Card ReaderIntel Core i5 Processor (11th Gen)8 GB DDR4 RAM64 bit Windows 10 Operating System512 GB SSD88.9 cm (35 cm) Display1 Year Onsite Warranty</td>\n",
       "      <td>DELL</td>\n",
       "      <td></td>\n",
       "      <td>5Operating System64 bit Windows 10</td>\n",
       "      <td>8 GB</td>\n",
       "      <td>512 GB SSD</td>\n",
       "      <td>NaN</td>\n",
       "      <td>DDR4</td>\n",
       "    </tr>\n",
       "    <tr>\n",
       "      <th>355</th>\n",
       "      <td>DELL Vostro Core i3 10th Gen - (8 GB/512 GB SSD/Windows 10) Vostro 3401 Thin and Light Laptop</td>\n",
       "      <td>4.1</td>\n",
       "      <td>43090</td>\n",
       "      <td>Processor: 10th Generation Intel Core i3-1005G1 Processor (4MB Cache, up to 3.4 GHz)RAM &amp; Storage:8GB RAM | 512GB M.2 PCIe NVMe Solid State DriveDisplay:14.0-inch FHD (1920 x 1080) Anti-glare LED Backlight Narrow Border WVA DisplayGraphics:Intel UHD Graphics with shared graphics memoryOperating System &amp; Software:Windows 10 Home Single Language | Microsoft Office Home and Student 2019Ports: USB 3.2 Gen 1 (x2), USB2.0 (x1), HDMI 1.4,SD Media Card Reader (SD, SDHC, SDXC), RJ45 - 10/100/1000Mbps GbEIntel Core i3 Processor (10th Gen)8 GB DDR4 RAM64 bit Windows 10 Operating System512 GB SSD35.56 cm (14 Inch) DisplayMicrosoft Office Home and Student 20191 Year Onsite Warranty</td>\n",
       "      <td>DELL</td>\n",
       "      <td></td>\n",
       "      <td>64 bit Windows 10</td>\n",
       "      <td>8 GB</td>\n",
       "      <td>512 GB SSD</td>\n",
       "      <td>14</td>\n",
       "      <td>DDR4</td>\n",
       "    </tr>\n",
       "    <tr>\n",
       "      <th>393</th>\n",
       "      <td>acer Aspire 5 Core i5 11th Gen - (8 GB/1 TB HDD/Windows 10 Home) A515-56 Thin and Light Laptop</td>\n",
       "      <td>4.0</td>\n",
       "      <td>47130</td>\n",
       "      <td>Free upgrade to Windows 11 when availableIntel Core i5 Processor (11th Gen)8 GB DDR4 RAM64 bit Windows 10 Operating System1 TB HDD39.62 cm (15.6 inch) DisplayAcer Care Center, Quick Access, Acer Product Registration1 Year International Travelers Warranty (ITW)</td>\n",
       "      <td>acer</td>\n",
       "      <td></td>\n",
       "      <td>64 bit Windows 10</td>\n",
       "      <td>8 GB</td>\n",
       "      <td>1 TB HDD</td>\n",
       "      <td>15.6</td>\n",
       "      <td>DDR4</td>\n",
       "    </tr>\n",
       "    <tr>\n",
       "      <th>438</th>\n",
       "      <td>acer Predator Helios 300 Core i5 7th Gen - (8 GB/1 TB HDD/128 GB SSD/Windows 10 Home/4 GB Graphics/NVI...</td>\n",
       "      <td>4.5</td>\n",
       "      <td>129999</td>\n",
       "      <td>Pre-installed Genuine Windows 10 Operating System (Includes Built-in Security, Free Automated Updates, Latest Features)Dual Fan Cooling with Metal AeroBlade 3D128 GB SSD for Reduced Boot Up Time and in Game LoadingUpgradable SSD Upto 512 GB and RAM Upto 32 GBNVIDIA Geforce GTX 1050Ti for Desktop Level PerformanceIntel Core i5 Processor (7th Gen)8 GB DDR4 RAM64 bit Windows 10 Operating System1 TB HDD|128 GB SSD39.62 cm (15.6 inch) DisplayAcer Care Center, Acer Collection, Acer Configuration Manager, Quick Access1 Year International Travelers Warranty (ITW)</td>\n",
       "      <td>acer</td>\n",
       "      <td></td>\n",
       "      <td>Windows 1064 bit Windows 10</td>\n",
       "      <td>128 GB512 GB8 GB</td>\n",
       "      <td>128 GB SSD1 TB HDD128 GB SSD</td>\n",
       "      <td>15.6</td>\n",
       "      <td>SSD for Reduced Boot Up Time and in Game LoadingUpgradable SSD Upto 512 GB and RAM8 GB DDR4</td>\n",
       "    </tr>\n",
       "    <tr>\n",
       "      <th>443</th>\n",
       "      <td>MSI Pulse GL66 Core i7 11th Gen - (16 GB/512 GB SSD/Windows 10 Home/4 GB Graphics/NVIDIA GeForce RTX 3...</td>\n",
       "      <td>4.6</td>\n",
       "      <td>107790</td>\n",
       "      <td>Pre-installed Genuine Windows 10 Home OSIntel Core i7 Processor (11th Gen)16 GB DDR4 RAM64 bit Windows 10 Operating System512 GB SSD39.62 cm (15.6 inches) DisplayCooler Boost 5, Hi-Res Audio, Nahimic 3, Speaker Tuning Engine, MSI Center2 Year Warranty Term</td>\n",
       "      <td>MSI</td>\n",
       "      <td></td>\n",
       "      <td>64 bit Windows 10</td>\n",
       "      <td>16 GB</td>\n",
       "      <td>512 GB SSD</td>\n",
       "      <td>15.6</td>\n",
       "      <td>DDR4</td>\n",
       "    </tr>\n",
       "    <tr>\n",
       "      <th>502</th>\n",
       "      <td>acer Nitro 5 Ryzen 5 Hexa Core 4600H - (8 GB/1 TB HDD/256 GB SSD/Windows 10 Home/4 GB Graphics/NVIDIA ...</td>\n",
       "      <td>4.5</td>\n",
       "      <td>61490</td>\n",
       "      <td>Free upgrade to Windows 11 when availableAMD Ryzen 5 Hexa Core Processor8 GB DDR4 RAM64 bit Windows 10 Operating System1 TB HDD|256 GB SSD39.62 cm (15.6 inch) DisplayAcer Care Center, Acer Product Registration, Acer Configuration Manager, NitroSense1 Year International Travelers Warranty (ITW)</td>\n",
       "      <td>acer</td>\n",
       "      <td></td>\n",
       "      <td>64 bit Windows 10</td>\n",
       "      <td>8 GB</td>\n",
       "      <td>1 TB HDD256 GB SSD</td>\n",
       "      <td>15.6</td>\n",
       "      <td>DDR4</td>\n",
       "    </tr>\n",
       "    <tr>\n",
       "      <th>508</th>\n",
       "      <td>MSI GF63 Thin Core i5 9th Gen - (8 GB/1 TB HDD/Windows 10 Home/4 GB Graphics/NVIDIA GeForce GTX 1650 T...</td>\n",
       "      <td>4.2</td>\n",
       "      <td>62190</td>\n",
       "      <td>15.6 inches Full HD IPS Thin Bezel Display (60Hz, 45% NTSC Color Gamut)Intel Core i5 Processor (9th Gen)8 GB DDR4 RAM64 bit Windows 10 Operating System1 TB HDD39.62 cm (15.6 inch) DisplayCooler Boost, Audio Boost, Dragon Center, Nahimic 32 Year Warranty Term for Gaming</td>\n",
       "      <td>MSI</td>\n",
       "      <td></td>\n",
       "      <td>64 bit Windows 10</td>\n",
       "      <td>8 GB</td>\n",
       "      <td>1 TB HDD</td>\n",
       "      <td>15.6</td>\n",
       "      <td>DDR4</td>\n",
       "    </tr>\n",
       "    <tr>\n",
       "      <th>593</th>\n",
       "      <td>DELL Core i7 11th Gen - (16 GB/512 GB SSD/Windows 11 Home/4 GB Graphics/NVIDIA GeForce RTX 3050 Ti) G1...</td>\n",
       "      <td>4.2</td>\n",
       "      <td>101990</td>\n",
       "      <td>Processor: Intel i7-11800H- (2.30 GHz up to 4.60 GHz) 16MB L3RAM &amp; Storage: 16GB DDR4 (2 DIMM Slots) &amp; 512GB SSDGraphics: NVIDIA� GEFORCE� RTX 3050 Ti (4GB GDDR6)Display: 15.6\" FHD WVA AG 250 nits 120Hz Narrow Border, Backlit Keyboard OrangeColor: Dark Shadow GreyPorts: 1. HiSpeed USB 2.0 | 2. HiSpeed USB 2.0 with PowerShare | 3. USB 3.2 Gen 1 Type-C port with DisplayPort with alt mode | 4. SuperSpeed USB 3.2 | 5. HDMI | 6. Power in | 7. RJ45 | 8. Headphones/micIntel Core i7 Processor (11th Gen)16 GB DDR4 RAM64 bit Windows 11 Operating System512 GB SSD39.62 cm (15.6 inch) DisplayOffice Home and Student 20211 Year Premium Support</td>\n",
       "      <td>DELL</td>\n",
       "      <td></td>\n",
       "      <td>64 bit Windows 11</td>\n",
       "      <td>16 GB</td>\n",
       "      <td>512 GB SSD</td>\n",
       "      <td>15.6</td>\n",
       "      <td>DDR4</td>\n",
       "    </tr>\n",
       "    <tr>\n",
       "      <th>622</th>\n",
       "      <td>MSI GP65 Leopard Core i7 10th Gen - (16 GB/1 TB HDD/256 GB SSD/Windows 10 Home/6 GB Graphics/NVIDIA Ge...</td>\n",
       "      <td>4.5</td>\n",
       "      <td>99990</td>\n",
       "      <td>15.6 inches Full HD IPS Thin Bezel Display (144Hz, 45% NTSC Color Gamut)Intel Core i7 Processor (10th Gen)16 GB DDR4 RAM64 bit Windows 10 Operating System1 TB HDD|256 GB SSD39.62 cm (15.6 inch) DisplaySHIFT, SteelSeries Engine 3, Matrix Display (Extend), Dragon Center, GamingMode, VR Ready, Cooler Boost 5, Nahimic 3, Nahimic VR, Giant Speaker2 Year Warranty Term for Gaming</td>\n",
       "      <td>MSI</td>\n",
       "      <td></td>\n",
       "      <td>64 bit Windows 10</td>\n",
       "      <td>16 GB</td>\n",
       "      <td>1 TB HDD256 GB SSD</td>\n",
       "      <td>15.6</td>\n",
       "      <td>DDR4</td>\n",
       "    </tr>\n",
       "    <tr>\n",
       "      <th>628</th>\n",
       "      <td>ALIENWARE Core i9 10th Gen - (32 GB/1 TB SSD/Windows 10 Home/8 GB Graphics/NVIDIA GeForce RTX 2080 wit...</td>\n",
       "      <td>4.6</td>\n",
       "      <td>345390</td>\n",
       "      <td>NVIDIA GeForce RTX 2080 with Max-Q15.6 inch Full HD LED Backlit Anti-glare IPS Display, 300 Hz, 300 NitsAlienware Cryo-tech thermal technology to keep the system cool and running at highest performanceTobii-eye tracking to track head pose, presence, fine gaze and eye positionIn-built Alienware Command center software with enhanced control over system settingsIntel Core i9 Processor (10th Gen)32 GB DDR4 RAM64 bit Windows 10 Operating System1 TB SSD39.62 cm (15.6 inch) DisplayMicrosoft Office Home and Student 20191 Year Limited Hardware Warranty, In Home Service After Remote Diagnosis - Retail</td>\n",
       "      <td>ALIENWARE</td>\n",
       "      <td></td>\n",
       "      <td>64 bit Windows 10</td>\n",
       "      <td>32 GB</td>\n",
       "      <td>1 TB SSD</td>\n",
       "      <td>15.6</td>\n",
       "      <td>DDR4</td>\n",
       "    </tr>\n",
       "    <tr>\n",
       "      <th>643</th>\n",
       "      <td>ASUS ZenBook Pro 15 Core i7 8th Gen - (16 GB/1 TB SSD/Windows 10 Home/4 GB Graphics) UX580GE-E2014T La...</td>\n",
       "      <td>4.8</td>\n",
       "      <td>110990</td>\n",
       "      <td>First Ever ScreenpadNVIDIA GeForce GTX 1050 TiIntel Core i7 Processor (8th Gen)16 GB DDR4 RAM64 bit Windows 10 Operating System1 TB SSD39.62 cm (15.6 inch) Touchscreen Display1 Year Onsite Warranty</td>\n",
       "      <td>ASUS</td>\n",
       "      <td></td>\n",
       "      <td>64 bit Windows 10</td>\n",
       "      <td>16 GB</td>\n",
       "      <td>1 TB SSD</td>\n",
       "      <td>15.6</td>\n",
       "      <td>DDR4</td>\n",
       "    </tr>\n",
       "    <tr>\n",
       "      <th>644</th>\n",
       "      <td>acer Predator Helios 300 Core i5 8th Gen - (8 GB/1 TB HDD/128 GB SSD/Windows 10 Home/4 GB Graphics/NVI...</td>\n",
       "      <td>4.6</td>\n",
       "      <td>74590</td>\n",
       "      <td>NVIDIA Geforce GTX 1050 Ti for Desktop Level PerformanceOptimized Dolby Audio Premium Sound Enhancement128 GB SSD Capacity for Reduced Boot Up Time and in Game LoadingDual Fan Cooling with Metal AeroBlade for Interuption Free GamingFineTip Backlit Keyboard with Independent Standard Numeric KeypadIntel Core i5 Processor (8th Gen)8 GB DDR4 RAM64 bit Windows 10 Operating System1 TB HDD|128 GB SSD39.62 cm (15.6 inch) DisplayAcer Care Center, Acer Portal, Acer Quick Access, Acer Configuration Manager1 Year International Travelers Warranty (ITW)</td>\n",
       "      <td>acer</td>\n",
       "      <td></td>\n",
       "      <td>64 bit Windows 10</td>\n",
       "      <td>8 GB</td>\n",
       "      <td>128 GB SSD1 TB HDD128 GB SSD</td>\n",
       "      <td>15.6</td>\n",
       "      <td>DDR4</td>\n",
       "    </tr>\n",
       "    <tr>\n",
       "      <th>645</th>\n",
       "      <td>DELL Ryzen 5 Hexa Core AMD R5-5600H - (8 GB/512 GB SSD/Windows 11 Home/4 GB Graphics/NVIDIA GeForce RT...</td>\n",
       "      <td>4.7</td>\n",
       "      <td>71990</td>\n",
       "      <td>NVIDIA RTX 3050 Graphics upto 90W TGP15.6 inch Full HD AG Display (250 nits Brightness, 120Hz, Narrow Border)Alienware Command CenterAMD Ryzen 5 Hexa Core Processor8 GB DDR4 RAM64 bit Windows 11 Operating System512 GB SSD39.62 cm (15.6 inch) DisplayOffice Home and Student 20211 Year Onsite Hardware Service</td>\n",
       "      <td>DELL</td>\n",
       "      <td></td>\n",
       "      <td>64 bit Windows 11</td>\n",
       "      <td>8 GB</td>\n",
       "      <td>512 GB SSD</td>\n",
       "      <td>15.6</td>\n",
       "      <td>DDR4</td>\n",
       "    </tr>\n",
       "    <tr>\n",
       "      <th>688</th>\n",
       "      <td>ALIENWARE Core i7 10th Gen - (16 GB/1 TB SSD/Windows 10 Home/6 GB Graphics/NVIDIA GeForce RTX 2060/300...</td>\n",
       "      <td>4.1</td>\n",
       "      <td>214790</td>\n",
       "      <td>NVIDIA GeForce RTX 206015.6 inch Full HD LED Backlit Anti-glare IPS Display, 300 Hz, 300 NitsAlienware Cryo-tech thermal technology to keep the system cool and running at highest performanceTobii-eye tracking to track head pose, presence, fine gaze and eye positionIn-built Alienware Command center software with enhanced control over system settingsIntel Core i7 Processor (10th Gen)16 GB DDR4 RAM64 bit Windows 10 Operating System1 TB SSD39.62 cm (15.6 inch) DisplayMicrosoft Office Home and Student 20191 Year Complete Cover Warranty</td>\n",
       "      <td>ALIENWARE</td>\n",
       "      <td></td>\n",
       "      <td>64 bit Windows 10</td>\n",
       "      <td>16 GB</td>\n",
       "      <td>1 TB SSD</td>\n",
       "      <td>15.6</td>\n",
       "      <td>DDR4</td>\n",
       "    </tr>\n",
       "    <tr>\n",
       "      <th>689</th>\n",
       "      <td>ALIENWARE Core i7 10th Gen - (16 GB/512 GB SSD/Windows 10 Home/6 GB Graphics/NVIDIA GeForce GTX 1660 T...</td>\n",
       "      <td>4.9</td>\n",
       "      <td>199990</td>\n",
       "      <td>NVIDIA GeForce GTX 1660 Ti15.6 inch Full HD LED Backlit Anti-glare IPS Display, 300 Hz, 300 NitsAlienware Cryo-tech thermal technology to keep the system cool and running at highest performanceTobii-eye tracking to track head pose, presence, fine gaze and eye positionIn-built Alienware Command center software with enhanced control over system settingsIntel Core i7 Processor (10th Gen)16 GB DDR4 RAM64 bit Windows 10 Operating System512 GB SSD39.62 cm (15.6 inch) DisplayMicrosoft Office Home and Student 20191 Year Limited Hardware Warranty, In Home Service After Remote Diagnosis - Retail</td>\n",
       "      <td>ALIENWARE</td>\n",
       "      <td></td>\n",
       "      <td>64 bit Windows 10</td>\n",
       "      <td>16 GB</td>\n",
       "      <td>512 GB SSD</td>\n",
       "      <td>15.6</td>\n",
       "      <td>DDR4</td>\n",
       "    </tr>\n",
       "  </tbody>\n",
       "</table>\n",
       "</div>"
      ],
      "text/plain": [
       "                                                                                                       Product  \\\n",
       "6    DELL Inspiron Core i3 11th Gen - (8 GB/1 TB HDD/256 GB SSD/Windows 11 Home) D560841WIN9S Thin and Ligh...   \n",
       "8       realme Book (Slim) Core i3 11th Gen - (8 GB/256 GB SSD/Windows 10 Home) RMNB1001 Thin and Light Laptop   \n",
       "29      realme Book (Slim) Core i3 11th Gen - (8 GB/256 GB SSD/Windows 10 Home) RMNB1001 Thin and Light Laptop   \n",
       "33   acer Aspire 7 Ryzen 5 Hexa Core AMD R5-5500U - (8 GB/512 GB SSD/Windows 11 Home/4 GB Graphics/NVIDIA G...   \n",
       "53   realme Book(Slim) Intel Evo Core i5 11th Gen - (8 GB/512 GB SSD/Windows 10 Home) RMNB1002 Thin and Lig...   \n",
       "54   acer Aspire 7 Core i5 10th Gen - (8 GB/512 GB SSD/Windows 10 Home/4 GB Graphics/NVIDIA GeForce GTX 165...   \n",
       "69   DELL Ryzen 5 Hexa Core AMD R5-5600H - (16 GB/512 GB SSD/Windows 11 Home/4 GB Graphics/NVIDIA GeForce R...   \n",
       "83   SAMSUNG Galaxy Book Go Snapdragon 7c Gen 2 - (4 GB/128 GB EMMC Storage/Windows 11 Home) NP340XLA-KA1IN...   \n",
       "94                     DELL Inspiron Pentium Silver - (8 GB/256 GB SSD/Windows 11 Home) Inspiron 3521 Notebook   \n",
       "116  realme Book(Slim) Intel Evo Core i5 11th Gen - (8 GB/512 GB SSD/Windows 10 Home) RMNB1002 Thin and Lig...   \n",
       "122  DELL Ryzen 7 Octa Core AMD R7-5800H - (16 GB/512 GB SSD/Windows 11 Home/4 GB Graphics/NVIDIA GeForce R...   \n",
       "142  DELL Vostro Ryzen 3 Dual Core R3-3250U - (8 GB/1 TB HDD/Windows 11 Home) Vostro 3405 Thin and Light La...   \n",
       "172  DELL Inspiron Core i3 11th Gen - (8 GB/1 TB HDD/256 GB SSD/Windows 11 Home) Inspiron 3511,Inspiron 300...   \n",
       "232  MSI Pulse GL66 Core i7 11th Gen - (16 GB/1 TB SSD/Windows 10 Home/6 GB Graphics/NVIDIA GeForce RTX 306...   \n",
       "249             DELL Inspiron Core i3 11th Gen - (8 GB/256 GB SSD/Windows 11 Home) INSPIRON 5410 2 in 1 Laptop   \n",
       "253  DELL Inspiron Ryzen 5 Dual Core 3450U - (8 GB/512 GB SSD/Windows 11 Home) INSPIRON 3515 Thin and Light...   \n",
       "259  DELL Core i5 11th Gen - (8 GB/512 GB SSD/Windows 11 Home/4 GB Graphics/NVIDIA GeForce RTX 3050) G15-55...   \n",
       "349  DELL Vostro Core i5 11th Gen - (8 GB/512 GB SSD/Windows 10/2 GB Graphics) Vostro 3400 Thin and Light L...   \n",
       "355              DELL Vostro Core i3 10th Gen - (8 GB/512 GB SSD/Windows 10) Vostro 3401 Thin and Light Laptop   \n",
       "393             acer Aspire 5 Core i5 11th Gen - (8 GB/1 TB HDD/Windows 10 Home) A515-56 Thin and Light Laptop   \n",
       "438  acer Predator Helios 300 Core i5 7th Gen - (8 GB/1 TB HDD/128 GB SSD/Windows 10 Home/4 GB Graphics/NVI...   \n",
       "443  MSI Pulse GL66 Core i7 11th Gen - (16 GB/512 GB SSD/Windows 10 Home/4 GB Graphics/NVIDIA GeForce RTX 3...   \n",
       "502  acer Nitro 5 Ryzen 5 Hexa Core 4600H - (8 GB/1 TB HDD/256 GB SSD/Windows 10 Home/4 GB Graphics/NVIDIA ...   \n",
       "508  MSI GF63 Thin Core i5 9th Gen - (8 GB/1 TB HDD/Windows 10 Home/4 GB Graphics/NVIDIA GeForce GTX 1650 T...   \n",
       "593  DELL Core i7 11th Gen - (16 GB/512 GB SSD/Windows 11 Home/4 GB Graphics/NVIDIA GeForce RTX 3050 Ti) G1...   \n",
       "622  MSI GP65 Leopard Core i7 10th Gen - (16 GB/1 TB HDD/256 GB SSD/Windows 10 Home/6 GB Graphics/NVIDIA Ge...   \n",
       "628  ALIENWARE Core i9 10th Gen - (32 GB/1 TB SSD/Windows 10 Home/8 GB Graphics/NVIDIA GeForce RTX 2080 wit...   \n",
       "643  ASUS ZenBook Pro 15 Core i7 8th Gen - (16 GB/1 TB SSD/Windows 10 Home/4 GB Graphics) UX580GE-E2014T La...   \n",
       "644  acer Predator Helios 300 Core i5 8th Gen - (8 GB/1 TB HDD/128 GB SSD/Windows 10 Home/4 GB Graphics/NVI...   \n",
       "645  DELL Ryzen 5 Hexa Core AMD R5-5600H - (8 GB/512 GB SSD/Windows 11 Home/4 GB Graphics/NVIDIA GeForce RT...   \n",
       "688  ALIENWARE Core i7 10th Gen - (16 GB/1 TB SSD/Windows 10 Home/6 GB Graphics/NVIDIA GeForce RTX 2060/300...   \n",
       "689  ALIENWARE Core i7 10th Gen - (16 GB/512 GB SSD/Windows 10 Home/6 GB Graphics/NVIDIA GeForce GTX 1660 T...   \n",
       "\n",
       "     Rating     MRP  \\\n",
       "6       4.3   38990   \n",
       "8       4.4   46990   \n",
       "29      4.4   46990   \n",
       "33      4.4   47990   \n",
       "53      4.4   59990   \n",
       "54      4.4   47990   \n",
       "69      4.6   70990   \n",
       "83      4.4   32990   \n",
       "94      4.2   30428   \n",
       "116     4.4   59990   \n",
       "122     5.0   89081   \n",
       "142     3.8   33099   \n",
       "172     4.3   45900   \n",
       "232     4.5  114990   \n",
       "249     4.3   54900   \n",
       "253     4.3   48184   \n",
       "259     4.4   67990   \n",
       "349     3.9   63090   \n",
       "355     4.1   43090   \n",
       "393     4.0   47130   \n",
       "438     4.5  129999   \n",
       "443     4.6  107790   \n",
       "502     4.5   61490   \n",
       "508     4.2   62190   \n",
       "593     4.2  101990   \n",
       "622     4.5   99990   \n",
       "628     4.6  345390   \n",
       "643     4.8  110990   \n",
       "644     4.6   74590   \n",
       "645     4.7   71990   \n",
       "688     4.1  214790   \n",
       "689     4.9  199990   \n",
       "\n",
       "                                                                                                                                                                                                                                                                                                                                                                                                                                                                                                                                                                                                                                                                                                           Feature  \\\n",
       "6                                                                                                                                                                                                                                    Processor: Intel i3-1115G4 (Base- 1.70 GHz & Turbo up to 4.10 GHz) 2 CoresRAM & Storage: 8GB DDR4 & 1TB + 256GB SSDGraphics & Keyboard: Integrated & Standard KeyboardDisplay: 15.6\" FHD WVA AG Narrow BorderPorts: 2x USB 3.2 Gen1 ,1x USB 2.0, HDMI 1.4, SD Card reader, Audio jack, 1 M.2 2230/2280 slot for solid-state drive/Intel OptaneIntel Core i3 Processor (11th Gen)8 GB DDR4 RAMWindows 11 Operating System1 TB HDD|256 GB SSD39.62 cm (15.6 inch) Display1 YEAR   \n",
       "8                                                                                                                                                                                                                                                                                                                           Stylish & Portable Thin and Light Laptop14 inch 2K QHD, IPS LCD Display ( 400nits peak brightness, 100% sRGB, 3:2 aspect ratio, Full Vision Display)Finger Print Sensor for Faster System AccessLight Laptop without Optical Disk DriveIntel Core i3 Processor (11th Gen)8 GB DDR4 RAM64 bit Windows 10 Operating System256 GB SSD35.56 cm (14 inch) DisplayNA1 Year Domestic Warranty   \n",
       "29                                                                                                                                                                                                                                                                                                                          Stylish & Portable Thin and Light Laptop14 inch 2K QHD, IPS LCD Display ( 400nits peak brightness, 100% sRGB, 3:2 aspect ratio, Full Vision Display)Finger Print Sensor for Faster System AccessLight Laptop without Optical Disk DriveIntel Core i3 Processor (11th Gen)8 GB DDR4 RAM64 bit Windows 10 Operating System256 GB SSD35.56 cm (14 inch) DisplayNA1 Year Domestic Warranty   \n",
       "33                                                                                                                                                                                                                                                                                                                                                                                                                           Free upgrade to Windows 11 when availableAMD Ryzen 5 Hexa Core Processor8 GB DDR4 RAM64 bit Windows 11 Operating System512 GB SSD39.62 cm (15.6 inch) DisplayAcer Collection , Acer Product Registration, Acer Care Center, Quick Access1 Year International Travelers Warranty (ITW)   \n",
       "53                                                                                                                                                                                                                                                                                                                                                                           Powered by 11th Gen Intel Evo Core i5 ProcessorMicrosoft Office 2019 Home & Student IncludedStylish Thin and Light Laptop without Optical Disk DriveIntel Core i5 Processor (11th Gen)8 GB DDR4 RAM64 bit Windows 10 Operating System512 GB SSD35.56 cm (14 inch) DisplayMicrosoft Office 2019 Home & Student1 Year Domestic Warranty   \n",
       "54                                                                                                                                                                                                                                                                                                                                                                                                                               Free upgrade to Windows 11 when availableIntel Core i5 Processor (10th Gen)8 GB DDR4 RAM64 bit Windows 10 Operating System512 GB SSD39.62 cm (15.6 inch) DisplayQuick Access, Acer Care Center, Acer Product Registration, Acer Collection1 Year International Travelers Warranty   \n",
       "69   Processor: AMD Ryzen R5-5600H (3.30 GHz up to 4.20 GHz) 16MB L3RAM & Storage: 16GB DDR4 (2 DIMM Slots) & 512GB SSDGraphics: NVIDIA GEFORCE RTX 3050 (4GB GDDR6) TGP Up To 80WDisplay: 15.6\" FHD WVA AG 250 nits 120Hz Narrow Border, Backlit Keyboard OrangeColor: Phantom Grey with specklesPorts: (1) HDMI 2.1, (2) SuperSpeed USB 2.0 Gen 1 Type-A including (1) with PowerShare, (1) SuperSpeed USB 3.2, (1) USB-C Data/Display Port Alt-Mode, Headphone/Mic, (1) RJ45WiFi & BT: Killer Wi-Fi 6 AX1650 (2x2) and BluetoothAMD Ryzen 5 Hexa Core Processor16 GB DDR4 RAM64 bit Windows 11 Operating System512 GB SSD39.62 cm (15.6 inch) DisplayOffice Home and Student 20211 Year Onsite Hardware Service   \n",
       "83                                                                                                                                                                                                                                                                                                                                                                                                                                                                                                                                                   Qualcomm Snapdragon 7c Gen 2 Processor4 GB LPDDR4X RAMWindows 11 Operating System35.56 cm (14 Inch) DisplayOffice Home and Student 20211 Year Onsite Warranty   \n",
       "94                                                                                                                                                                                                                                        Processor: Intel PQC-N5030 (1.10 GHz up to 3.10 GHz)RAM & Storage: 8GB DDR4 & 256GB SSDDisplay: 15.6\" HD AG Narrow BorderSoftware: Win 11 + Office H&S 20212x USB 3.2 Gen1 ,1x USB 2.0, HDMI 1.4, SD Card reader, Audio jack, 1 M.2 2230/2280 slot for solid-state drive/Intel OptaneWiFi & BT: 802.11ac 1x1 WiFi and BluetoothIntel Pentium Silver Processor8 GB DDR4 RAM64 bit Windows 11 Operating System256 GB SSD39.62 cm (15.6 Inch) Display1 Year Onsite Warranty   \n",
       "116                                                                                                                                                                                                                                                                                                                                                                          Powered by 11th Gen Intel Evo Core i5 ProcessorMicrosoft Office 2019 Home & Student IncludedStylish Thin and Light Laptop without Optical Disk DriveIntel Core i5 Processor (11th Gen)8 GB DDR4 RAM64 bit Windows 10 Operating System512 GB SSD35.56 cm (14 inch) DisplayMicrosoft Office 2019 Home & Student1 Year Domestic Warranty   \n",
       "122                                                                                                                                                                                                                                                                                                                                                                                                   NVIDIA RTX 3050 Graphics upto 90W TGP15.6 inch Full HD AG Display (250 nits Brightness, 120Hz, Narrow Border)Alienware Command CenterAMD Ryzen 7 Octa Core Processor16 GB DDR4 RAM64 bit Windows 11 Operating System512 GB SSD39.62 cm (15.6 inch) DisplayOffice Home and Student 20211 Year Premium Support   \n",
       "142                                                                                                                                                                             Processor: AMD Ryzen 3-3250U (2.60 GHz up to 3.50 GHz)RAM & Storage: 8GB DDR4 (2 DIMM Slots) & 1TB HDDSoftware: Win 11 + Office H&S 2021Display: 14.0\" FHD WVA AG Narrow BorderPorts: USB 3.2 Gen 1 (x2), USB2.0 (x1), HDMI 1.4, SD Media Card Reader (SD, SDHC, SDXC), RJ45 - 10/100MbpsWiFi & BT: 802.11ac 1x1 WiFi and BluetoothAMD Ryzen 3 Dual Core Processor8 GB DDR4 RAM64 bit Windows 11 Operating System1 TB HDD88.9 cm (35 cm) DisplayMicrosoft Office Home and Student 20211 Year Onsite Warranty1 Year Onsite Warranty   \n",
       "172                                                                                                                                                                                                           Processor: Intel i3-1115G4 (Base- 1.70 GHz & Turbo up to 4.10 GHz) 2 CoresRAM & Storage: 8GB DDR4 & 1TB + 256GB SSDGraphics & Keyboard: Integrated & Standard KeyboardDisplay: 15.6\" FHD WVA AG Narrow BorderPorts: 2x USB 3.2 Gen1 ,1x USB 2.0, HDMI 1.4, SD Card reader, Audio jack, 1 M.2 2230/2280 slot for solid-state drive/Intel OptaneIntel Core i3 Processor (11th Gen)8 GB DDR4 RAM64 bit Windows 11 Operating System1 TB HDD|256 GB SSD39.62 cm (15.6 inch) Display1 Year Onsite Warranty   \n",
       "232                                                                                                                                                                                                                                                                                                                                                                                                                                              Pre-installed Genuine Windows 10 Home OSIntel Core i7 Processor (11th Gen)16 GB DDR4 RAM64 bit Windows 10 Operating System1 TB SSD39.62 cm (15.6 inches) DisplayCooler Boost 5, Hi-Res Audio, Nahimic 3, Speaker Tuning Engine, MSI Center2 Year On-Site Warranty   \n",
       "249                                                                                                    Processor: Intel i3-1125G4 (2.00 GHz up to 3.70 GHz)RAM & Storage: 8GB DDR4 (2 DIMM Slots) & 256GB SSDSoftware: Win 11 + Office H&S 2021Display: 14.0\" FHD WVA Truelife Touch Narrow Border 60HzPorts: \"1 HDMI out 1.4a, 2 USB 3.2 Gen 1 Type-A, 1 USB 3.2 Gen 2 Type-C with Power Delivery and Video, 1 DC-in port, 1 3.5mm Headphone/Microphone combination jack\"WiFi & BT: Intel Wi-Fi 6 2x2 (Gig+) and Bluetooth 5.1Intel Core i3 Processor (11th Gen)8 GB DDR4 RAM64 bit Windows 11 Operating System256 GB SSD35.56 cm (14 inch) Touchscreen DisplayOffice Home and Student 20211 Year Onsite Warranty   \n",
       "253                                                                                                                                                                                                                            Processor: AMD Ryzen 5-3450U (2.10 GHz up to 3.50 GHz)RAM & Storage: 8GB DDR4 (2 DIMM Slots) & 512GB SSDSoftware: Win 11 + Office H&S 2021Display: 15.6\" FHD WVA AG Narrow BorderPorts: \"2x USB 3.2 Gen1 ,1x USB 2.0, HDMI 1.4b, SD Card reader, Audio jackWiFi & BT: 802.11ac 1x1 WiFi and BluetoothAMD Ryzen 5 Dual Core Processor8 GB DDR4 RAM64 bit Windows 11 Operating System512 GB SSD39.62 cm (15.6 Inch) DisplayMicrosoft Office Home & Student 20211 Year Onsite Warranty   \n",
       "259                                                                                                                                                                                                                                                                                                                                                                                         NVIDIA RTX 3050 Graphics upto 90W TGP15.6 inch Full HD AG Display (250 nits Brightness, 120Hz, Narrow Border)Alienware Command CenterIntel Core i5 Processor (11th Gen)8 GB DDR4 RAM64 bit Windows 11 Operating System512 GB SSD39.62 cm (15.6 inch) DisplayOffice Home and Student 20211 Year Onsite Hardware Service   \n",
       "349                                                        Processor: 11th Generation Intel Core i5-1135G7 Processor (8MB Cache, up to 4.2 GHz),Memory & Storage:8GB DDR4, 2666MHz | 512GB M.2 PCIe NVMe Solid State DriveDisplay:14.0-inch FHD (1920 x 1080) Anti-glare LED Backlight Narrow Border WVA DisplayGraphics: Dedicated NVIDIA MX330 2GB GDDR5Operating System & Software:Windows 10 Home Single Language | Microsoft Office Home and Student 2019I/O ports: 2x USB 3.2 Gen-1, 1xUSB 2.0, 1xHDMI port, 1xEthernet port,1x Headset jack, 1xSD Media Card ReaderIntel Core i5 Processor (11th Gen)8 GB DDR4 RAM64 bit Windows 10 Operating System512 GB SSD88.9 cm (35 cm) Display1 Year Onsite Warranty   \n",
       "355          Processor: 10th Generation Intel Core i3-1005G1 Processor (4MB Cache, up to 3.4 GHz)RAM & Storage:8GB RAM | 512GB M.2 PCIe NVMe Solid State DriveDisplay:14.0-inch FHD (1920 x 1080) Anti-glare LED Backlight Narrow Border WVA DisplayGraphics:Intel UHD Graphics with shared graphics memoryOperating System & Software:Windows 10 Home Single Language | Microsoft Office Home and Student 2019Ports: USB 3.2 Gen 1 (x2), USB2.0 (x1), HDMI 1.4,SD Media Card Reader (SD, SDHC, SDXC), RJ45 - 10/100/1000Mbps GbEIntel Core i3 Processor (10th Gen)8 GB DDR4 RAM64 bit Windows 10 Operating System512 GB SSD35.56 cm (14 Inch) DisplayMicrosoft Office Home and Student 20191 Year Onsite Warranty   \n",
       "393                                                                                                                                                                                                                                                                                                                                                                                                                                           Free upgrade to Windows 11 when availableIntel Core i5 Processor (11th Gen)8 GB DDR4 RAM64 bit Windows 10 Operating System1 TB HDD39.62 cm (15.6 inch) DisplayAcer Care Center, Quick Access, Acer Product Registration1 Year International Travelers Warranty (ITW)   \n",
       "438                                                                                                                              Pre-installed Genuine Windows 10 Operating System (Includes Built-in Security, Free Automated Updates, Latest Features)Dual Fan Cooling with Metal AeroBlade 3D128 GB SSD for Reduced Boot Up Time and in Game LoadingUpgradable SSD Upto 512 GB and RAM Upto 32 GBNVIDIA Geforce GTX 1050Ti for Desktop Level PerformanceIntel Core i5 Processor (7th Gen)8 GB DDR4 RAM64 bit Windows 10 Operating System1 TB HDD|128 GB SSD39.62 cm (15.6 inch) DisplayAcer Care Center, Acer Collection, Acer Configuration Manager, Quick Access1 Year International Travelers Warranty (ITW)   \n",
       "443                                                                                                                                                                                                                                                                                                                                                                                                                                               Pre-installed Genuine Windows 10 Home OSIntel Core i7 Processor (11th Gen)16 GB DDR4 RAM64 bit Windows 10 Operating System512 GB SSD39.62 cm (15.6 inches) DisplayCooler Boost 5, Hi-Res Audio, Nahimic 3, Speaker Tuning Engine, MSI Center2 Year Warranty Term   \n",
       "502                                                                                                                                                                                                                                                                                                                                                                                                         Free upgrade to Windows 11 when availableAMD Ryzen 5 Hexa Core Processor8 GB DDR4 RAM64 bit Windows 10 Operating System1 TB HDD|256 GB SSD39.62 cm (15.6 inch) DisplayAcer Care Center, Acer Product Registration, Acer Configuration Manager, NitroSense1 Year International Travelers Warranty (ITW)   \n",
       "508                                                                                                                                                                                                                                                                                                                                                                                                                                  15.6 inches Full HD IPS Thin Bezel Display (60Hz, 45% NTSC Color Gamut)Intel Core i5 Processor (9th Gen)8 GB DDR4 RAM64 bit Windows 10 Operating System1 TB HDD39.62 cm (15.6 inch) DisplayCooler Boost, Audio Boost, Dragon Center, Nahimic 32 Year Warranty Term for Gaming   \n",
       "593                                                   Processor: Intel i7-11800H- (2.30 GHz up to 4.60 GHz) 16MB L3RAM & Storage: 16GB DDR4 (2 DIMM Slots) & 512GB SSDGraphics: NVIDIA� GEFORCE� RTX 3050 Ti (4GB GDDR6)Display: 15.6\" FHD WVA AG 250 nits 120Hz Narrow Border, Backlit Keyboard OrangeColor: Dark Shadow GreyPorts: 1. HiSpeed USB 2.0 | 2. HiSpeed USB 2.0 with PowerShare | 3. USB 3.2 Gen 1 Type-C port with DisplayPort with alt mode | 4. SuperSpeed USB 3.2 | 5. HDMI | 6. Power in | 7. RJ45 | 8. Headphones/micIntel Core i7 Processor (11th Gen)16 GB DDR4 RAM64 bit Windows 11 Operating System512 GB SSD39.62 cm (15.6 inch) DisplayOffice Home and Student 20211 Year Premium Support   \n",
       "622                                                                                                                                                                                                                                                                                                                        15.6 inches Full HD IPS Thin Bezel Display (144Hz, 45% NTSC Color Gamut)Intel Core i7 Processor (10th Gen)16 GB DDR4 RAM64 bit Windows 10 Operating System1 TB HDD|256 GB SSD39.62 cm (15.6 inch) DisplaySHIFT, SteelSeries Engine 3, Matrix Display (Extend), Dragon Center, GamingMode, VR Ready, Cooler Boost 5, Nahimic 3, Nahimic VR, Giant Speaker2 Year Warranty Term for Gaming   \n",
       "628                                                                                         NVIDIA GeForce RTX 2080 with Max-Q15.6 inch Full HD LED Backlit Anti-glare IPS Display, 300 Hz, 300 NitsAlienware Cryo-tech thermal technology to keep the system cool and running at highest performanceTobii-eye tracking to track head pose, presence, fine gaze and eye positionIn-built Alienware Command center software with enhanced control over system settingsIntel Core i9 Processor (10th Gen)32 GB DDR4 RAM64 bit Windows 10 Operating System1 TB SSD39.62 cm (15.6 inch) DisplayMicrosoft Office Home and Student 20191 Year Limited Hardware Warranty, In Home Service After Remote Diagnosis - Retail   \n",
       "643                                                                                                                                                                                                                                                                                                                                                                                                                                                                                                          First Ever ScreenpadNVIDIA GeForce GTX 1050 TiIntel Core i7 Processor (8th Gen)16 GB DDR4 RAM64 bit Windows 10 Operating System1 TB SSD39.62 cm (15.6 inch) Touchscreen Display1 Year Onsite Warranty   \n",
       "644                                                                                                                                              NVIDIA Geforce GTX 1050 Ti for Desktop Level PerformanceOptimized Dolby Audio Premium Sound Enhancement128 GB SSD Capacity for Reduced Boot Up Time and in Game LoadingDual Fan Cooling with Metal AeroBlade for Interuption Free GamingFineTip Backlit Keyboard with Independent Standard Numeric KeypadIntel Core i5 Processor (8th Gen)8 GB DDR4 RAM64 bit Windows 10 Operating System1 TB HDD|128 GB SSD39.62 cm (15.6 inch) DisplayAcer Care Center, Acer Portal, Acer Quick Access, Acer Configuration Manager1 Year International Travelers Warranty (ITW)   \n",
       "645                                                                                                                                                                                                                                                                                                                                                                                            NVIDIA RTX 3050 Graphics upto 90W TGP15.6 inch Full HD AG Display (250 nits Brightness, 120Hz, Narrow Border)Alienware Command CenterAMD Ryzen 5 Hexa Core Processor8 GB DDR4 RAM64 bit Windows 11 Operating System512 GB SSD39.62 cm (15.6 inch) DisplayOffice Home and Student 20211 Year Onsite Hardware Service   \n",
       "688                                                                                                                                                       NVIDIA GeForce RTX 206015.6 inch Full HD LED Backlit Anti-glare IPS Display, 300 Hz, 300 NitsAlienware Cryo-tech thermal technology to keep the system cool and running at highest performanceTobii-eye tracking to track head pose, presence, fine gaze and eye positionIn-built Alienware Command center software with enhanced control over system settingsIntel Core i7 Processor (10th Gen)16 GB DDR4 RAM64 bit Windows 10 Operating System1 TB SSD39.62 cm (15.6 inch) DisplayMicrosoft Office Home and Student 20191 Year Complete Cover Warranty   \n",
       "689                                                                                               NVIDIA GeForce GTX 1660 Ti15.6 inch Full HD LED Backlit Anti-glare IPS Display, 300 Hz, 300 NitsAlienware Cryo-tech thermal technology to keep the system cool and running at highest performanceTobii-eye tracking to track head pose, presence, fine gaze and eye positionIn-built Alienware Command center software with enhanced control over system settingsIntel Core i7 Processor (10th Gen)16 GB DDR4 RAM64 bit Windows 10 Operating System512 GB SSD39.62 cm (15.6 inch) DisplayMicrosoft Office Home and Student 20191 Year Limited Hardware Warranty, In Home Service After Remote Diagnosis - Retail   \n",
       "\n",
       "         Brand Processor_Type                    Operating_System  \\\n",
       "6         DELL                                         Windows 11   \n",
       "8       realme                                  64 bit Windows 10   \n",
       "29      realme                                  64 bit Windows 10   \n",
       "33        acer                                  64 bit Windows 11   \n",
       "53      realme                                  64 bit Windows 10   \n",
       "54        acer                                  64 bit Windows 10   \n",
       "69        DELL                                  64 bit Windows 11   \n",
       "83     SAMSUNG                                         Windows 11   \n",
       "94        DELL                                  64 bit Windows 11   \n",
       "116     realme                                  64 bit Windows 10   \n",
       "122       DELL                                  64 bit Windows 11   \n",
       "142       DELL                                  64 bit Windows 11   \n",
       "172       DELL                                  64 bit Windows 11   \n",
       "232        MSI                                  64 bit Windows 10   \n",
       "249       DELL                                  64 bit Windows 11   \n",
       "253       DELL                                  64 bit Windows 11   \n",
       "259       DELL                                  64 bit Windows 11   \n",
       "349       DELL                 5Operating System64 bit Windows 10   \n",
       "355       DELL                                  64 bit Windows 10   \n",
       "393       acer                                  64 bit Windows 10   \n",
       "438       acer                        Windows 1064 bit Windows 10   \n",
       "443        MSI                                  64 bit Windows 10   \n",
       "502       acer                                  64 bit Windows 10   \n",
       "508        MSI                                  64 bit Windows 10   \n",
       "593       DELL                                  64 bit Windows 11   \n",
       "622        MSI                                  64 bit Windows 10   \n",
       "628  ALIENWARE                                  64 bit Windows 10   \n",
       "643       ASUS                                  64 bit Windows 10   \n",
       "644       acer                                  64 bit Windows 10   \n",
       "645       DELL                                  64 bit Windows 11   \n",
       "688  ALIENWARE                                  64 bit Windows 10   \n",
       "689  ALIENWARE                                  64 bit Windows 10   \n",
       "\n",
       "                  RAM                       Storage Display_inchs  \\\n",
       "6                8 GB            1 TB HDD256 GB SSD          15.6   \n",
       "8                8 GB                    256 GB SSD            14   \n",
       "29               8 GB                    256 GB SSD            14   \n",
       "33               8 GB                    512 GB SSD          15.6   \n",
       "53               8 GB                    512 GB SSD            14   \n",
       "54               8 GB                    512 GB SSD          15.6   \n",
       "69              16 GB                    512 GB SSD          15.6   \n",
       "83               4 GB                                          14   \n",
       "94               8 GB                    256 GB SSD          15.6   \n",
       "116              8 GB                    512 GB SSD            14   \n",
       "122             16 GB                    512 GB SSD          15.6   \n",
       "142              8 GB                      1 TB HDD           NaN   \n",
       "172              8 GB            1 TB HDD256 GB SSD          15.6   \n",
       "232             16 GB                      1 TB SSD          15.6   \n",
       "249              8 GB                    256 GB SSD            14   \n",
       "253              8 GB                    512 GB SSD          15.6   \n",
       "259              8 GB                    512 GB SSD          15.6   \n",
       "349              8 GB                    512 GB SSD           NaN   \n",
       "355              8 GB                    512 GB SSD            14   \n",
       "393              8 GB                      1 TB HDD          15.6   \n",
       "438  128 GB512 GB8 GB  128 GB SSD1 TB HDD128 GB SSD          15.6   \n",
       "443             16 GB                    512 GB SSD          15.6   \n",
       "502              8 GB            1 TB HDD256 GB SSD          15.6   \n",
       "508              8 GB                      1 TB HDD          15.6   \n",
       "593             16 GB                    512 GB SSD          15.6   \n",
       "622             16 GB            1 TB HDD256 GB SSD          15.6   \n",
       "628             32 GB                      1 TB SSD          15.6   \n",
       "643             16 GB                      1 TB SSD          15.6   \n",
       "644              8 GB  128 GB SSD1 TB HDD128 GB SSD          15.6   \n",
       "645              8 GB                    512 GB SSD          15.6   \n",
       "688             16 GB                      1 TB SSD          15.6   \n",
       "689             16 GB                    512 GB SSD          15.6   \n",
       "\n",
       "                                                                                        RAM_Type  \n",
       "6                                                                                           DDR4  \n",
       "8                                                                                           DDR4  \n",
       "29                                                                                          DDR4  \n",
       "33                                                                                          DDR4  \n",
       "53                                                                                          DDR4  \n",
       "54                                                                                          DDR4  \n",
       "69                                                                                          DDR4  \n",
       "83                                                                                       LPDDR4X  \n",
       "94                                                                                          DDR4  \n",
       "116                                                                                         DDR4  \n",
       "122                                                                                         DDR4  \n",
       "142                                                                                         DDR4  \n",
       "172                                                                                         DDR4  \n",
       "232                                                                                         DDR4  \n",
       "249                                                                                         DDR4  \n",
       "253                                                                                         DDR4  \n",
       "259                                                                                         DDR4  \n",
       "349                                                                                         DDR4  \n",
       "355                                                                                         DDR4  \n",
       "393                                                                                         DDR4  \n",
       "438  SSD for Reduced Boot Up Time and in Game LoadingUpgradable SSD Upto 512 GB and RAM8 GB DDR4  \n",
       "443                                                                                         DDR4  \n",
       "502                                                                                         DDR4  \n",
       "508                                                                                         DDR4  \n",
       "593                                                                                         DDR4  \n",
       "622                                                                                         DDR4  \n",
       "628                                                                                         DDR4  \n",
       "643                                                                                         DDR4  \n",
       "644                                                                                         DDR4  \n",
       "645                                                                                         DDR4  \n",
       "688                                                                                         DDR4  \n",
       "689                                                                                         DDR4  "
      ]
     },
     "execution_count": 164,
     "metadata": {},
     "output_type": "execute_result"
    }
   ],
   "source": [
    "df[df['Processor_Type']=='']"
   ]
  },
  {
   "cell_type": "code",
   "execution_count": 165,
   "id": "d34fc15a",
   "metadata": {},
   "outputs": [],
   "source": [
    "df.iloc[6,5]='Intel i3-1115G4'\n",
    "df.iloc[8,5]='Intel Core i3'\n",
    "df.iloc[29,5]='Intel Core i3'\n",
    "df.iloc[33,5]='AMD Ryzen 5 Hexa Core'\n",
    "df.iloc[53,5]='Intel Evo Core i5'\n",
    "df.iloc[54,5]='Intel Core i5'\n",
    "df.iloc[69,5]='AMD Ryzen R5-5600H'\n",
    "df.iloc[83,5]='Qualcomm Snapdragon 7c Gen 2'\n",
    "df.iloc[94,5]='Intel PQC-N5030'\n",
    "df.iloc[116,5]='Gen Intel Evo Core i5'\n",
    "df.iloc[122,5]='AMD Ryzen 7 Octa Core'\n",
    "df.iloc[142,5]='AMD Ryzen 3 Dual Core'\n",
    "df.iloc[172,5]='Intel i3-1115G4'\n",
    "df.iloc[232,5]='Intel Core i7'\n",
    "df.iloc[249,5]='Intel i3-1125G4'\n",
    "df.iloc[253,5]='AMD Ryzen 5-3450U'\n",
    "df.iloc[259,5]='Intel Core i5'\n",
    "df.iloc[349,5]='Intel Core i5-1135G7'\n",
    "df.iloc[355,5]='Intel Core i3-1005G1'\n",
    "df.iloc[393,5]='Intel Core i5'\n",
    "df.iloc[438,5]='Intel Core i5'\n",
    "df.iloc[443,5]='Intel Core i7'\n",
    "df.iloc[502,5]='AMD Ryzen 5 Hexa Core'\n",
    "df.iloc[508,5]='Intel Core i5 Pro'\n",
    "df.iloc[593,5]='Intel i7-11800H'\n",
    "df.iloc[622,5]='Intel Core i7'\n",
    "df.iloc[628,5]='Intel Core i9'\n",
    "df.iloc[643,5]='Intel Core i7'\n",
    "df.iloc[644,5]='Intel Core i5'\n",
    "df.iloc[645,5]='AMD Ryzen 5 Hexa Core'\n",
    "df.iloc[688,5]='Intel Core i7'\n",
    "df.iloc[689,5]='Intel Core i7'"
   ]
  },
  {
   "cell_type": "code",
   "execution_count": 166,
   "id": "9a6912ae",
   "metadata": {},
   "outputs": [
    {
     "data": {
      "text/plain": [
       "Intel Core i5                   155\n",
       "Intel Core i3                   131\n",
       "AMD Ryzen 9 Octa Core            87\n",
       "AMD Ryzen 7 Octa Core            80\n",
       "Intel Core i7                    55\n",
       "AMD Ryzen 5 Hexa Core            51\n",
       "AMD Ryzen 3 Dual Core            43\n",
       "AMD Ryzen 5 Quad Core            37\n",
       "Intel Celeron Dual Core          20\n",
       "Intel Core i9                    11\n",
       "Apple M1                          7\n",
       "Apple M1 Pro                      6\n",
       "Apple M2                          5\n",
       "AMD Ryzen 3 Quad Core             4\n",
       "Intel Celeron Quad Core           3\n",
       "Intel Pentium Quad Core           3\n",
       "Intel i3-1115G4                   2\n",
       "AMD Athlon Dual Core              2\n",
       "Intel Pentium Silver              2\n",
       "Intel Core i3-1005G1              1\n",
       "Intel Core i5-1135G7              1\n",
       "AMD Dual Core                     1\n",
       "Intel Core i5 Pro                 1\n",
       "AMD Ryzen 5-3450U                 1\n",
       "Intel i7-11800H                   1\n",
       "AMD Ryzen 5 Dual Core             1\n",
       "Intel PQC-N5030                   1\n",
       "Intel i3-1125G4                   1\n",
       "Apple M1 Max                      1\n",
       "Gen Intel Evo Core i5             1\n",
       "AMD Ryzen 7 Quad Core             1\n",
       "Qualcomm Snapdragon 7c Gen 2      1\n",
       "AMD Ryzen R5-5600H                1\n",
       "Intel Evo Core i5                 1\n",
       "AMD Ryzen 3 Hexa Core             1\n",
       "Name: Processor_Type, dtype: int64"
      ]
     },
     "execution_count": 166,
     "metadata": {},
     "output_type": "execute_result"
    }
   ],
   "source": [
    "df['Processor_Type'].value_counts()"
   ]
  },
  {
   "cell_type": "markdown",
   "id": "4ac0199f",
   "metadata": {},
   "source": [
    "## Create column with only main processors"
   ]
  },
  {
   "cell_type": "code",
   "execution_count": 167,
   "id": "ea2141e0",
   "metadata": {},
   "outputs": [],
   "source": [
    "df['Processor_Type'].replace(\"Gen Intel Evo Core i5\",\"Intel Evo Core i5\", inplace=True)"
   ]
  },
  {
   "cell_type": "code",
   "execution_count": 168,
   "id": "3ad9eafe",
   "metadata": {},
   "outputs": [
    {
     "data": {
      "text/plain": [
       "Intel       390\n",
       "AMD         310\n",
       "Apple        19\n",
       "Qualcomm      1\n",
       "Name: Processor, dtype: int64"
      ]
     },
     "execution_count": 168,
     "metadata": {},
     "output_type": "execute_result"
    }
   ],
   "source": [
    "df[['Processor','x','y','z','a']]=df['Processor_Type'].str.split(\" \", expand=True)\n",
    "df.drop(['Processor_Type','x','y','z','a'], axis=1, inplace=True)\n",
    "df['Processor'].value_counts()"
   ]
  },
  {
   "cell_type": "markdown",
   "id": "a322052a",
   "metadata": {},
   "source": [
    "## Operating System Column"
   ]
  },
  {
   "cell_type": "code",
   "execution_count": 169,
   "id": "65339a27",
   "metadata": {},
   "outputs": [
    {
     "data": {
      "text/plain": [
       "64 bit Windows 11                     404\n",
       "Windows 11                            156\n",
       "64 bit Windows 10                     115\n",
       "MMac OS                                19\n",
       "Windows 10                             12\n",
       "MChrome                                 6\n",
       "OS                                      2\n",
       "64 bit DOS                              2\n",
       "32 bit Windows 11                       1\n",
       "5Operating System64 bit Windows 10      1\n",
       " Windows 1064 bit Windows 10            1\n",
       "64 bit Chrome                           1\n",
       "Name: Operating_System, dtype: int64"
      ]
     },
     "execution_count": 169,
     "metadata": {},
     "output_type": "execute_result"
    }
   ],
   "source": [
    "df['Operating_System'].value_counts()"
   ]
  },
  {
   "cell_type": "code",
   "execution_count": 170,
   "id": "590ec20f",
   "metadata": {},
   "outputs": [
    {
     "data": {
      "text/plain": [
       "0"
      ]
     },
     "execution_count": 170,
     "metadata": {},
     "output_type": "execute_result"
    }
   ],
   "source": [
    "len(df[df['Operating_System']==''])"
   ]
  },
  {
   "cell_type": "markdown",
   "id": "27157569",
   "metadata": {},
   "source": [
    "## Replace some of Operating system with suitable name."
   ]
  },
  {
   "cell_type": "code",
   "execution_count": 171,
   "id": "7ccd1861",
   "metadata": {},
   "outputs": [
    {
     "data": {
      "text/plain": [
       "Windows 11    561\n",
       "Windows 10    129\n",
       "Mac            21\n",
       "Chrome          7\n",
       "DOS             2\n",
       "Name: Operating_System, dtype: int64"
      ]
     },
     "execution_count": 171,
     "metadata": {},
     "output_type": "execute_result"
    }
   ],
   "source": [
    "\n",
    "\n",
    "df['Operating_System'].replace({'MMac OS':'Mac', 'OS':'Mac', 'MChrome':'Chrome',\n",
    "                                '5Operating System64 bit Windows 10':'Windows 10',\n",
    "                               ' Windows 1064 bit Windows 10':'Windows 10',\n",
    "                               '64 bit Chrome':'Chrome'}, inplace=True)\n",
    "\n",
    "df['Operating_System']=df['Operating_System'].apply(lambda x: x.replace('64 bit ', '').replace('32 bit ','').replace('64 bit ',''))\n",
    "df['Operating_System'].value_counts()"
   ]
  },
  {
   "cell_type": "markdown",
   "id": "923823a2",
   "metadata": {},
   "source": [
    "## RAM column"
   ]
  },
  {
   "cell_type": "code",
   "execution_count": 172,
   "id": "d60c53cf",
   "metadata": {},
   "outputs": [
    {
     "data": {
      "text/plain": [
       "8 GB                402\n",
       "16 GB               263\n",
       "4 GB                 37\n",
       "32 GB                17\n",
       "128 GB512 GB8 GB      1\n",
       "Name: RAM, dtype: int64"
      ]
     },
     "execution_count": 172,
     "metadata": {},
     "output_type": "execute_result"
    }
   ],
   "source": [
    "df['RAM'].value_counts()"
   ]
  },
  {
   "cell_type": "code",
   "execution_count": 173,
   "id": "d0e20e63",
   "metadata": {},
   "outputs": [],
   "source": [
    "df['RAM']=df['RAM'].apply(lambda x: x.replace(\"128 GB512 GB8 GB\",\"8 GB\"))"
   ]
  },
  {
   "cell_type": "code",
   "execution_count": 174,
   "id": "8a60e679",
   "metadata": {},
   "outputs": [
    {
     "data": {
      "text/plain": [
       "8 GB     403\n",
       "16 GB    263\n",
       "4 GB      37\n",
       "32 GB     17\n",
       "Name: RAM, dtype: int64"
      ]
     },
     "execution_count": 174,
     "metadata": {},
     "output_type": "execute_result"
    }
   ],
   "source": [
    "df['RAM'].value_counts()"
   ]
  },
  {
   "cell_type": "code",
   "execution_count": 175,
   "id": "6a4bcd10",
   "metadata": {},
   "outputs": [],
   "source": [
    "df['RAM']=df['RAM'].apply(lambda x: x.replace(\"64GB EMMC\",\"64 GB\"))\n",
    "df['RAM']=df['RAM'].apply(lambda x: x.replace(\"128GB EMMC\",\"64 GB\"))\n",
    "df['RAM']=df['RAM'].apply(lambda x: x.replace(\"32GB EMMC\",\"32 GB\"))"
   ]
  },
  {
   "cell_type": "code",
   "execution_count": 176,
   "id": "f7b7b78c",
   "metadata": {},
   "outputs": [
    {
     "data": {
      "text/plain": [
       "DDR4                                                                                           560\n",
       "DDR5                                                                                            92\n",
       "LPDDR4X                                                                                         37\n",
       "Unified Memory                                                                                  12\n",
       "LPDDR5                                                                                           9\n",
       "LPDDR4                                                                                           8\n",
       "SSD for Reduced Boot Up Time and in Game LoadingUpgradable SSD Upto 512 GB and RAM8 GB DDR4      1\n",
       "LPDDR3                                                                                           1\n",
       "Name: RAM_Type, dtype: int64"
      ]
     },
     "execution_count": 176,
     "metadata": {},
     "output_type": "execute_result"
    }
   ],
   "source": [
    "df['RAM_Type'].value_counts()"
   ]
  },
  {
   "cell_type": "code",
   "execution_count": 177,
   "id": "38c52665",
   "metadata": {},
   "outputs": [],
   "source": [
    "df['RAM_Type']=df['RAM_Type'].apply(lambda x: x.replace(\"SSD for Reduced Boot Up Time and in Game LoadingUpgradable SSD Upto 512 GB and RAM8 GB DDR4\",\"DDR4\"))\n",
    "df['RAM_Type']=df['RAM_Type'].apply(lambda x: x.replace(\"Unified Memory\",\"Unified\"))"
   ]
  },
  {
   "cell_type": "code",
   "execution_count": 178,
   "id": "a822f3b9",
   "metadata": {},
   "outputs": [
    {
     "data": {
      "text/plain": [
       "DDR4       561\n",
       "DDR5        92\n",
       "LPDDR4X     37\n",
       "Unified     12\n",
       "LPDDR5       9\n",
       "LPDDR4       8\n",
       "LPDDR3       1\n",
       "Name: RAM_Type, dtype: int64"
      ]
     },
     "execution_count": 178,
     "metadata": {},
     "output_type": "execute_result"
    }
   ],
   "source": [
    "df['RAM_Type'].value_counts()"
   ]
  },
  {
   "cell_type": "markdown",
   "id": "c4d48051",
   "metadata": {},
   "source": [
    "## Storage_column"
   ]
  },
  {
   "cell_type": "code",
   "execution_count": 179,
   "id": "558d6db7",
   "metadata": {},
   "outputs": [
    {
     "data": {
      "text/plain": [
       "512 GB SSD                      375\n",
       "1 TB SSD                        176\n",
       "256 GB SSD                       98\n",
       "1 TB HDD256 GB SSD               26\n",
       "1 TB HDD                         17\n",
       "                                 10\n",
       "2 TB SSD                          7\n",
       "128 GB SSD                        6\n",
       "1 TB HDD512 GB SSD                2\n",
       "128 GB SSD1 TB HDD128 GB SSD      2\n",
       "256 GB HDD256 GB SSD              1\n",
       "Name: Storage, dtype: int64"
      ]
     },
     "execution_count": 179,
     "metadata": {},
     "output_type": "execute_result"
    }
   ],
   "source": [
    "df['Storage'].value_counts()"
   ]
  },
  {
   "cell_type": "code",
   "execution_count": 180,
   "id": "00295d05",
   "metadata": {},
   "outputs": [
    {
     "data": {
      "text/html": [
       "<div>\n",
       "<style scoped>\n",
       "    .dataframe tbody tr th:only-of-type {\n",
       "        vertical-align: middle;\n",
       "    }\n",
       "\n",
       "    .dataframe tbody tr th {\n",
       "        vertical-align: top;\n",
       "    }\n",
       "\n",
       "    .dataframe thead th {\n",
       "        text-align: right;\n",
       "    }\n",
       "</style>\n",
       "<table border=\"1\" class=\"dataframe\">\n",
       "  <thead>\n",
       "    <tr style=\"text-align: right;\">\n",
       "      <th></th>\n",
       "      <th>Product</th>\n",
       "      <th>Rating</th>\n",
       "      <th>MRP</th>\n",
       "      <th>Feature</th>\n",
       "      <th>Brand</th>\n",
       "      <th>Operating_System</th>\n",
       "      <th>RAM</th>\n",
       "      <th>Storage</th>\n",
       "      <th>Display_inchs</th>\n",
       "      <th>RAM_Type</th>\n",
       "      <th>Processor</th>\n",
       "    </tr>\n",
       "  </thead>\n",
       "  <tbody>\n",
       "    <tr>\n",
       "      <th>83</th>\n",
       "      <td>SAMSUNG Galaxy Book Go Snapdragon 7c Gen 2 - (4 GB/128 GB EMMC Storage/Windows 11 Home) NP340XLA-KA1IN...</td>\n",
       "      <td>4.4</td>\n",
       "      <td>32990</td>\n",
       "      <td>Qualcomm Snapdragon 7c Gen 2 Processor4 GB LPDDR4X RAMWindows 11 Operating System35.56 cm (14 Inch) DisplayOffice Home and Student 20211 Year Onsite Warranty</td>\n",
       "      <td>SAMSUNG</td>\n",
       "      <td>Windows 11</td>\n",
       "      <td>4 GB</td>\n",
       "      <td></td>\n",
       "      <td>14</td>\n",
       "      <td>LPDDR4X</td>\n",
       "      <td>Qualcomm</td>\n",
       "    </tr>\n",
       "    <tr>\n",
       "      <th>89</th>\n",
       "      <td>Lenovo IdeaPad 3 CB Celeron Dual Core - (4 GB/64 GB EMMC Storage/Chrome OS) 14IGL05 Thin and Light Lap...</td>\n",
       "      <td>NaN</td>\n",
       "      <td>19490</td>\n",
       "      <td>Intel Celeron Dual Core Processor4 GB DDR4 RAMChrome Operating System35.56 cm (14 Inch) Display1 Year Carry-in Warranty</td>\n",
       "      <td>Lenovo</td>\n",
       "      <td>Chrome</td>\n",
       "      <td>4 GB</td>\n",
       "      <td></td>\n",
       "      <td>14</td>\n",
       "      <td>DDR4</td>\n",
       "      <td>Intel</td>\n",
       "    </tr>\n",
       "    <tr>\n",
       "      <th>96</th>\n",
       "      <td>Lenovo IdeaPad 3 CB Celeron Dual Core - (4 GB/64 GB EMMC Storage/Chrome OS) 14IGL05 Thin and Light Lap...</td>\n",
       "      <td>NaN</td>\n",
       "      <td>19490</td>\n",
       "      <td>Intel Celeron Dual Core Processor4 GB DDR4 RAMChrome Operating System35.56 cm (14 Inch) Display1 Year Carry-in Warranty</td>\n",
       "      <td>Lenovo</td>\n",
       "      <td>Chrome</td>\n",
       "      <td>4 GB</td>\n",
       "      <td></td>\n",
       "      <td>14</td>\n",
       "      <td>DDR4</td>\n",
       "      <td>Intel</td>\n",
       "    </tr>\n",
       "    <tr>\n",
       "      <th>345</th>\n",
       "      <td>ASUS Chromebook Flip Touch Celeron Dual Core - (4 GB/32 GB EMMC Storage/Chrome OS) C214MA-BU0704 Chrom...</td>\n",
       "      <td>4.0</td>\n",
       "      <td>14990</td>\n",
       "      <td>Intel Celeron Dual Core Processor4 GB LPDDR4 RAMChrome Operating System29.46 cm (11.6 inch) Touchscreen Display1 Year Onsite Warranty</td>\n",
       "      <td>ASUS</td>\n",
       "      <td>Chrome</td>\n",
       "      <td>4 GB</td>\n",
       "      <td></td>\n",
       "      <td>11.6</td>\n",
       "      <td>LPDDR4</td>\n",
       "      <td>Intel</td>\n",
       "    </tr>\n",
       "    <tr>\n",
       "      <th>509</th>\n",
       "      <td>ASUS Chromebook Flip Touch Celeron Dual Core - (4 GB/64 GB EMMC Storage/Chrome OS) C523NA-A20303 Chrom...</td>\n",
       "      <td>4.0</td>\n",
       "      <td>24390</td>\n",
       "      <td>Intel Celeron Dual Core Processor4 GB LPDDR4 RAMChrome Operating System39.62 cm (15.6 inch) Touchscreen Display1 Year Onsite Warranty</td>\n",
       "      <td>ASUS</td>\n",
       "      <td>Chrome</td>\n",
       "      <td>4 GB</td>\n",
       "      <td></td>\n",
       "      <td>15.6</td>\n",
       "      <td>LPDDR4</td>\n",
       "      <td>Intel</td>\n",
       "    </tr>\n",
       "    <tr>\n",
       "      <th>544</th>\n",
       "      <td>ASUS EeeBook 12 Celeron Dual Core - (4 GB/64 GB EMMC Storage/Windows 11 Home) E210MA-GJ011W Thin and L...</td>\n",
       "      <td>4.5</td>\n",
       "      <td>21990</td>\n",
       "      <td>Intel Celeron Dual Core Processor4 GB DDR4 RAM64 bit Windows 11 Operating System29.46 cm (11.6 Inch) Display1 Year Onsite warranty</td>\n",
       "      <td>ASUS</td>\n",
       "      <td>Windows 11</td>\n",
       "      <td>4 GB</td>\n",
       "      <td></td>\n",
       "      <td>11.6</td>\n",
       "      <td>DDR4</td>\n",
       "      <td>Intel</td>\n",
       "    </tr>\n",
       "    <tr>\n",
       "      <th>559</th>\n",
       "      <td>ASUS EeeBook 12 Celeron Dual Core - (4 GB/64 GB EMMC Storage/Windows 11 Home) E210MA-GJ012W Thin and L...</td>\n",
       "      <td>4.0</td>\n",
       "      <td>19990</td>\n",
       "      <td>Intel Celeron Dual Core Processor4 GB DDR4 RAM64 bit Windows 11 Operating System29.46 cm (11.6 Inch) Display1 Year Onsite warranty</td>\n",
       "      <td>ASUS</td>\n",
       "      <td>Windows 11</td>\n",
       "      <td>4 GB</td>\n",
       "      <td></td>\n",
       "      <td>11.6</td>\n",
       "      <td>DDR4</td>\n",
       "      <td>Intel</td>\n",
       "    </tr>\n",
       "    <tr>\n",
       "      <th>632</th>\n",
       "      <td>Lenovo IdeaPad Flex 3 Chromebook Celeron Dual Core - (4 GB/128 GB EMMC Storage/Chrome OS) CB 11IJL6 Ch...</td>\n",
       "      <td>3.6</td>\n",
       "      <td>28490</td>\n",
       "      <td>Intel Celeron Dual Core Processor4 GB LPDDR4X RAM64 bit Chrome Operating System29.46 cm (11.6 inch) Touchscreen Display1 Year Onsite�Warranty</td>\n",
       "      <td>Lenovo</td>\n",
       "      <td>Chrome</td>\n",
       "      <td>4 GB</td>\n",
       "      <td></td>\n",
       "      <td>11.6</td>\n",
       "      <td>LPDDR4X</td>\n",
       "      <td>Intel</td>\n",
       "    </tr>\n",
       "    <tr>\n",
       "      <th>695</th>\n",
       "      <td>ASUS Chromebook Celeron Dual Core - (4 GB/64 GB EMMC Storage/Chrome OS) C423NA-EC0521 Chromebook</td>\n",
       "      <td>4.1</td>\n",
       "      <td>25990</td>\n",
       "      <td>Intel Celeron Dual Core Processor4 GB LPDDR4 RAMChrome Operating System35.56 cm (14 inch) Touchscreen Display1 Year Onsite Warranty</td>\n",
       "      <td>ASUS</td>\n",
       "      <td>Chrome</td>\n",
       "      <td>4 GB</td>\n",
       "      <td></td>\n",
       "      <td>14</td>\n",
       "      <td>LPDDR4</td>\n",
       "      <td>Intel</td>\n",
       "    </tr>\n",
       "    <tr>\n",
       "      <th>715</th>\n",
       "      <td>ASUS Chromebook Flip Touch Celeron Dual Core - (4 GB/64 GB EMMC Storage/Chrome OS) C214MA-BU0452 Chrom...</td>\n",
       "      <td>4.0</td>\n",
       "      <td>23490</td>\n",
       "      <td>Intel Celeron Dual Core Processor4 GB LPDDR4 RAMChrome Operating System29.46 cm (11.6 inch) Touchscreen Display1 Year Onsite Warranty</td>\n",
       "      <td>ASUS</td>\n",
       "      <td>Chrome</td>\n",
       "      <td>4 GB</td>\n",
       "      <td></td>\n",
       "      <td>11.6</td>\n",
       "      <td>LPDDR4</td>\n",
       "      <td>Intel</td>\n",
       "    </tr>\n",
       "  </tbody>\n",
       "</table>\n",
       "</div>"
      ],
      "text/plain": [
       "                                                                                                       Product  \\\n",
       "83   SAMSUNG Galaxy Book Go Snapdragon 7c Gen 2 - (4 GB/128 GB EMMC Storage/Windows 11 Home) NP340XLA-KA1IN...   \n",
       "89   Lenovo IdeaPad 3 CB Celeron Dual Core - (4 GB/64 GB EMMC Storage/Chrome OS) 14IGL05 Thin and Light Lap...   \n",
       "96   Lenovo IdeaPad 3 CB Celeron Dual Core - (4 GB/64 GB EMMC Storage/Chrome OS) 14IGL05 Thin and Light Lap...   \n",
       "345  ASUS Chromebook Flip Touch Celeron Dual Core - (4 GB/32 GB EMMC Storage/Chrome OS) C214MA-BU0704 Chrom...   \n",
       "509  ASUS Chromebook Flip Touch Celeron Dual Core - (4 GB/64 GB EMMC Storage/Chrome OS) C523NA-A20303 Chrom...   \n",
       "544  ASUS EeeBook 12 Celeron Dual Core - (4 GB/64 GB EMMC Storage/Windows 11 Home) E210MA-GJ011W Thin and L...   \n",
       "559  ASUS EeeBook 12 Celeron Dual Core - (4 GB/64 GB EMMC Storage/Windows 11 Home) E210MA-GJ012W Thin and L...   \n",
       "632  Lenovo IdeaPad Flex 3 Chromebook Celeron Dual Core - (4 GB/128 GB EMMC Storage/Chrome OS) CB 11IJL6 Ch...   \n",
       "695           ASUS Chromebook Celeron Dual Core - (4 GB/64 GB EMMC Storage/Chrome OS) C423NA-EC0521 Chromebook   \n",
       "715  ASUS Chromebook Flip Touch Celeron Dual Core - (4 GB/64 GB EMMC Storage/Chrome OS) C214MA-BU0452 Chrom...   \n",
       "\n",
       "     Rating    MRP  \\\n",
       "83      4.4  32990   \n",
       "89      NaN  19490   \n",
       "96      NaN  19490   \n",
       "345     4.0  14990   \n",
       "509     4.0  24390   \n",
       "544     4.5  21990   \n",
       "559     4.0  19990   \n",
       "632     3.6  28490   \n",
       "695     4.1  25990   \n",
       "715     4.0  23490   \n",
       "\n",
       "                                                                                                                                                           Feature  \\\n",
       "83   Qualcomm Snapdragon 7c Gen 2 Processor4 GB LPDDR4X RAMWindows 11 Operating System35.56 cm (14 Inch) DisplayOffice Home and Student 20211 Year Onsite Warranty   \n",
       "89                                         Intel Celeron Dual Core Processor4 GB DDR4 RAMChrome Operating System35.56 cm (14 Inch) Display1 Year Carry-in Warranty   \n",
       "96                                         Intel Celeron Dual Core Processor4 GB DDR4 RAMChrome Operating System35.56 cm (14 Inch) Display1 Year Carry-in Warranty   \n",
       "345                          Intel Celeron Dual Core Processor4 GB LPDDR4 RAMChrome Operating System29.46 cm (11.6 inch) Touchscreen Display1 Year Onsite Warranty   \n",
       "509                          Intel Celeron Dual Core Processor4 GB LPDDR4 RAMChrome Operating System39.62 cm (15.6 inch) Touchscreen Display1 Year Onsite Warranty   \n",
       "544                             Intel Celeron Dual Core Processor4 GB DDR4 RAM64 bit Windows 11 Operating System29.46 cm (11.6 Inch) Display1 Year Onsite warranty   \n",
       "559                             Intel Celeron Dual Core Processor4 GB DDR4 RAM64 bit Windows 11 Operating System29.46 cm (11.6 Inch) Display1 Year Onsite warranty   \n",
       "632                  Intel Celeron Dual Core Processor4 GB LPDDR4X RAM64 bit Chrome Operating System29.46 cm (11.6 inch) Touchscreen Display1 Year Onsite�Warranty   \n",
       "695                            Intel Celeron Dual Core Processor4 GB LPDDR4 RAMChrome Operating System35.56 cm (14 inch) Touchscreen Display1 Year Onsite Warranty   \n",
       "715                          Intel Celeron Dual Core Processor4 GB LPDDR4 RAMChrome Operating System29.46 cm (11.6 inch) Touchscreen Display1 Year Onsite Warranty   \n",
       "\n",
       "       Brand Operating_System   RAM Storage Display_inchs RAM_Type Processor  \n",
       "83   SAMSUNG       Windows 11  4 GB                    14  LPDDR4X  Qualcomm  \n",
       "89    Lenovo           Chrome  4 GB                    14     DDR4     Intel  \n",
       "96    Lenovo           Chrome  4 GB                    14     DDR4     Intel  \n",
       "345     ASUS           Chrome  4 GB                  11.6   LPDDR4     Intel  \n",
       "509     ASUS           Chrome  4 GB                  15.6   LPDDR4     Intel  \n",
       "544     ASUS       Windows 11  4 GB                  11.6     DDR4     Intel  \n",
       "559     ASUS       Windows 11  4 GB                  11.6     DDR4     Intel  \n",
       "632   Lenovo           Chrome  4 GB                  11.6  LPDDR4X     Intel  \n",
       "695     ASUS           Chrome  4 GB                    14   LPDDR4     Intel  \n",
       "715     ASUS           Chrome  4 GB                  11.6   LPDDR4     Intel  "
      ]
     },
     "execution_count": 180,
     "metadata": {},
     "output_type": "execute_result"
    }
   ],
   "source": [
    "df[df['Storage']=='']"
   ]
  },
  {
   "cell_type": "code",
   "execution_count": 181,
   "id": "ce5382d9",
   "metadata": {},
   "outputs": [
    {
     "data": {
      "text/plain": [
       "8 GB     403\n",
       "16 GB    263\n",
       "4 GB      37\n",
       "32 GB     17\n",
       "Name: RAM, dtype: int64"
      ]
     },
     "execution_count": 181,
     "metadata": {},
     "output_type": "execute_result"
    }
   ],
   "source": [
    "df['RAM'].value_counts()"
   ]
  },
  {
   "cell_type": "code",
   "execution_count": 182,
   "id": "4a1cabca",
   "metadata": {},
   "outputs": [
    {
     "data": {
      "text/plain": [
       "Index(['Product', 'Rating', 'MRP', 'Feature', 'Brand', 'Operating_System',\n",
       "       'RAM', 'Storage', 'Display_inchs', 'RAM_Type', 'Processor'],\n",
       "      dtype='object')"
      ]
     },
     "execution_count": 182,
     "metadata": {},
     "output_type": "execute_result"
    }
   ],
   "source": [
    "df.columns"
   ]
  },
  {
   "cell_type": "code",
   "execution_count": 183,
   "id": "bef1713c",
   "metadata": {},
   "outputs": [],
   "source": [
    "df['Storage'].replace({'256 GB SSD':'256GB SSD'}, inplace=True)\n",
    "df['Storage'].replace({'512 GB SSD':'512GB SSD'}, inplace=True)\n",
    "df['Storage'].replace({'1 TB SSD':'1TB SSD'}, inplace=True)\n",
    "df['Storage'].replace({'1 TB HDD':'1TB HDD'}, inplace=True)\n",
    "df['Storage'].replace({'128 GB SSD':'128GB SSD'}, inplace=True)\n",
    "df['Storage'].replace({'2 TB SSD':'2TB SSD'}, inplace=True)\n",
    "df['Storage'].replace({'1 TB HDD256 GB SSD':'1TB HDD'}, inplace=True)\n",
    "df['Storage'].replace({'256 GB HDD256 GB SSD':'256GB HDD'}, inplace=True)\n",
    "df['Storage'].replace({'1 TB HDD512 GB SSD':'1TB HDD'}, inplace=True)\n",
    "df['Storage'].replace({'128 GB SSD1 TB HDD128 GB SSD':'1TB HDD'}, inplace=True)"
   ]
  },
  {
   "cell_type": "code",
   "execution_count": 184,
   "id": "cc0bf8ed",
   "metadata": {},
   "outputs": [
    {
     "data": {
      "text/html": [
       "<div>\n",
       "<style scoped>\n",
       "    .dataframe tbody tr th:only-of-type {\n",
       "        vertical-align: middle;\n",
       "    }\n",
       "\n",
       "    .dataframe tbody tr th {\n",
       "        vertical-align: top;\n",
       "    }\n",
       "\n",
       "    .dataframe thead th {\n",
       "        text-align: right;\n",
       "    }\n",
       "</style>\n",
       "<table border=\"1\" class=\"dataframe\">\n",
       "  <thead>\n",
       "    <tr style=\"text-align: right;\">\n",
       "      <th></th>\n",
       "      <th>Product</th>\n",
       "      <th>Rating</th>\n",
       "      <th>MRP</th>\n",
       "      <th>Feature</th>\n",
       "      <th>Brand</th>\n",
       "      <th>Operating_System</th>\n",
       "      <th>RAM</th>\n",
       "      <th>Display_inchs</th>\n",
       "      <th>RAM_Type</th>\n",
       "      <th>Processor</th>\n",
       "      <th>Disc Size</th>\n",
       "      <th>Disc Type</th>\n",
       "    </tr>\n",
       "  </thead>\n",
       "  <tbody>\n",
       "    <tr>\n",
       "      <th>0</th>\n",
       "      <td>Lenovo IdeaPad 3 Core i3 11th Gen - (8 GB/256 GB SSD/Windows 11 Home) 14ITL05 Thin and Light Laptop</td>\n",
       "      <td>4.2</td>\n",
       "      <td>36990</td>\n",
       "      <td>Intel Core i3 Processor (11th Gen)8 GB DDR4 RAM64 bit Windows 11 Operating System256 GB SSD35.56 cm (14 inch) DisplayOffice Home and Student 20212 Year Onsite�Warranty</td>\n",
       "      <td>Lenovo</td>\n",
       "      <td>Windows 11</td>\n",
       "      <td>8 GB</td>\n",
       "      <td>14</td>\n",
       "      <td>DDR4</td>\n",
       "      <td>Intel</td>\n",
       "      <td>256GB</td>\n",
       "      <td>SSD</td>\n",
       "    </tr>\n",
       "    <tr>\n",
       "      <th>1</th>\n",
       "      <td>Lenovo IdeaPad 3 Core i3 11th Gen - (8 GB/512 GB SSD/Windows 11 Home) 82H801L7IN | 82H802FJIN | 82H802...</td>\n",
       "      <td>4.2</td>\n",
       "      <td>39990</td>\n",
       "      <td>Intel Core i3 Processor (11th Gen)8 GB DDR4 RAM64 bit Windows 11 Operating System512 GB SSD39.62 cm (15.6 inch) DisplayOffice Home and Student 20212 Year Onsite�Warranty</td>\n",
       "      <td>Lenovo</td>\n",
       "      <td>Windows 11</td>\n",
       "      <td>8 GB</td>\n",
       "      <td>15.6</td>\n",
       "      <td>DDR4</td>\n",
       "      <td>Intel</td>\n",
       "      <td>512GB</td>\n",
       "      <td>SSD</td>\n",
       "    </tr>\n",
       "    <tr>\n",
       "      <th>2</th>\n",
       "      <td>ASUS VivoBook 15 (2022) Core i3 10th Gen - (8 GB/512 GB SSD/Windows 11 Home) X515JA-EJ362WS | X515JA-E...</td>\n",
       "      <td>4.3</td>\n",
       "      <td>32990</td>\n",
       "      <td>Intel Core i3 Processor (10th Gen)8 GB DDR4 RAM64 bit Windows 11 Operating System512 GB SSD39.62 cm (15.6 inch) DisplayOffice Home and Student 20211 Year Onsite Warranty</td>\n",
       "      <td>ASUS</td>\n",
       "      <td>Windows 11</td>\n",
       "      <td>8 GB</td>\n",
       "      <td>15.6</td>\n",
       "      <td>DDR4</td>\n",
       "      <td>Intel</td>\n",
       "      <td>512GB</td>\n",
       "      <td>SSD</td>\n",
       "    </tr>\n",
       "    <tr>\n",
       "      <th>3</th>\n",
       "      <td>HP Pavilion Ryzen 5 Hexa Core AMD R5-5600H - (8 GB/512 GB SSD/Windows 10/4 GB Graphics/NVIDIA GeForce ...</td>\n",
       "      <td>4.4</td>\n",
       "      <td>49990</td>\n",
       "      <td>AMD Ryzen 5 Hexa Core Processor8 GB DDR4 RAM64 bit Windows 10 Operating System512 GB SSD39.62 cm (15.6 inch) DisplayHP Documentation, HP e-service, HP BIOS Recovery, HP SSRM, HP Smart, HP Jumpstarts1 Year Onsite Warranty</td>\n",
       "      <td>HP</td>\n",
       "      <td>Windows 10</td>\n",
       "      <td>8 GB</td>\n",
       "      <td>15.6</td>\n",
       "      <td>DDR4</td>\n",
       "      <td>AMD</td>\n",
       "      <td>512GB</td>\n",
       "      <td>SSD</td>\n",
       "    </tr>\n",
       "    <tr>\n",
       "      <th>4</th>\n",
       "      <td>ASUS TUF Gaming F15 Core i5 10th Gen - (8 GB/512 GB SSD/Windows 11 Home/4 GB Graphics/NVIDIA GeForce G...</td>\n",
       "      <td>4.4</td>\n",
       "      <td>49990</td>\n",
       "      <td>Intel Core i5 Processor (10th Gen)8 GB DDR4 RAMWindows 11 Operating System512 GB SSD39.62 cm (15.6 inch) Display1 Year Onsite Warranty</td>\n",
       "      <td>ASUS</td>\n",
       "      <td>Windows 11</td>\n",
       "      <td>8 GB</td>\n",
       "      <td>15.6</td>\n",
       "      <td>DDR4</td>\n",
       "      <td>Intel</td>\n",
       "      <td>512GB</td>\n",
       "      <td>SSD</td>\n",
       "    </tr>\n",
       "  </tbody>\n",
       "</table>\n",
       "</div>"
      ],
      "text/plain": [
       "                                                                                                     Product  \\\n",
       "0        Lenovo IdeaPad 3 Core i3 11th Gen - (8 GB/256 GB SSD/Windows 11 Home) 14ITL05 Thin and Light Laptop   \n",
       "1  Lenovo IdeaPad 3 Core i3 11th Gen - (8 GB/512 GB SSD/Windows 11 Home) 82H801L7IN | 82H802FJIN | 82H802...   \n",
       "2  ASUS VivoBook 15 (2022) Core i3 10th Gen - (8 GB/512 GB SSD/Windows 11 Home) X515JA-EJ362WS | X515JA-E...   \n",
       "3  HP Pavilion Ryzen 5 Hexa Core AMD R5-5600H - (8 GB/512 GB SSD/Windows 10/4 GB Graphics/NVIDIA GeForce ...   \n",
       "4  ASUS TUF Gaming F15 Core i5 10th Gen - (8 GB/512 GB SSD/Windows 11 Home/4 GB Graphics/NVIDIA GeForce G...   \n",
       "\n",
       "   Rating    MRP  \\\n",
       "0     4.2  36990   \n",
       "1     4.2  39990   \n",
       "2     4.3  32990   \n",
       "3     4.4  49990   \n",
       "4     4.4  49990   \n",
       "\n",
       "                                                                                                                                                                                                                        Feature  \\\n",
       "0                                                       Intel Core i3 Processor (11th Gen)8 GB DDR4 RAM64 bit Windows 11 Operating System256 GB SSD35.56 cm (14 inch) DisplayOffice Home and Student 20212 Year Onsite�Warranty   \n",
       "1                                                     Intel Core i3 Processor (11th Gen)8 GB DDR4 RAM64 bit Windows 11 Operating System512 GB SSD39.62 cm (15.6 inch) DisplayOffice Home and Student 20212 Year Onsite�Warranty   \n",
       "2                                                     Intel Core i3 Processor (10th Gen)8 GB DDR4 RAM64 bit Windows 11 Operating System512 GB SSD39.62 cm (15.6 inch) DisplayOffice Home and Student 20211 Year Onsite Warranty   \n",
       "3  AMD Ryzen 5 Hexa Core Processor8 GB DDR4 RAM64 bit Windows 10 Operating System512 GB SSD39.62 cm (15.6 inch) DisplayHP Documentation, HP e-service, HP BIOS Recovery, HP SSRM, HP Smart, HP Jumpstarts1 Year Onsite Warranty   \n",
       "4                                                                                        Intel Core i5 Processor (10th Gen)8 GB DDR4 RAMWindows 11 Operating System512 GB SSD39.62 cm (15.6 inch) Display1 Year Onsite Warranty   \n",
       "\n",
       "    Brand Operating_System   RAM Display_inchs RAM_Type Processor Disc Size  \\\n",
       "0  Lenovo       Windows 11  8 GB            14     DDR4     Intel     256GB   \n",
       "1  Lenovo       Windows 11  8 GB          15.6     DDR4     Intel     512GB   \n",
       "2    ASUS       Windows 11  8 GB          15.6     DDR4     Intel     512GB   \n",
       "3      HP       Windows 10  8 GB          15.6     DDR4       AMD     512GB   \n",
       "4    ASUS       Windows 11  8 GB          15.6     DDR4     Intel     512GB   \n",
       "\n",
       "  Disc Type  \n",
       "0       SSD  \n",
       "1       SSD  \n",
       "2       SSD  \n",
       "3       SSD  \n",
       "4       SSD  "
      ]
     },
     "execution_count": 184,
     "metadata": {},
     "output_type": "execute_result"
    }
   ],
   "source": [
    "df[['Disc Size','Disc Type']]=df['Storage'].str.split(' ', expand=True)\n",
    "\n",
    "df.drop(['Storage'], axis=1, inplace=True)\n",
    "df.head()"
   ]
  },
  {
   "cell_type": "code",
   "execution_count": 185,
   "id": "c528ee42",
   "metadata": {},
   "outputs": [
    {
     "data": {
      "text/plain": [
       "512GB    375\n",
       "1TB      223\n",
       "256GB     99\n",
       "          10\n",
       "2TB        7\n",
       "128GB      6\n",
       "Name: Disc Size, dtype: int64"
      ]
     },
     "execution_count": 185,
     "metadata": {},
     "output_type": "execute_result"
    }
   ],
   "source": [
    "df['Disc Size'].value_counts()"
   ]
  },
  {
   "cell_type": "code",
   "execution_count": 186,
   "id": "b1e069b7",
   "metadata": {},
   "outputs": [
    {
     "data": {
      "text/html": [
       "<div>\n",
       "<style scoped>\n",
       "    .dataframe tbody tr th:only-of-type {\n",
       "        vertical-align: middle;\n",
       "    }\n",
       "\n",
       "    .dataframe tbody tr th {\n",
       "        vertical-align: top;\n",
       "    }\n",
       "\n",
       "    .dataframe thead th {\n",
       "        text-align: right;\n",
       "    }\n",
       "</style>\n",
       "<table border=\"1\" class=\"dataframe\">\n",
       "  <thead>\n",
       "    <tr style=\"text-align: right;\">\n",
       "      <th></th>\n",
       "      <th>Product</th>\n",
       "      <th>Rating</th>\n",
       "      <th>MRP</th>\n",
       "      <th>Feature</th>\n",
       "      <th>Brand</th>\n",
       "      <th>Operating_System</th>\n",
       "      <th>RAM</th>\n",
       "      <th>Display_inchs</th>\n",
       "      <th>RAM_Type</th>\n",
       "      <th>Processor</th>\n",
       "      <th>Disc Size</th>\n",
       "      <th>Disc Type</th>\n",
       "    </tr>\n",
       "  </thead>\n",
       "  <tbody>\n",
       "    <tr>\n",
       "      <th>83</th>\n",
       "      <td>SAMSUNG Galaxy Book Go Snapdragon 7c Gen 2 - (4 GB/128 GB EMMC Storage/Windows 11 Home) NP340XLA-KA1IN...</td>\n",
       "      <td>4.4</td>\n",
       "      <td>32990</td>\n",
       "      <td>Qualcomm Snapdragon 7c Gen 2 Processor4 GB LPDDR4X RAMWindows 11 Operating System35.56 cm (14 Inch) DisplayOffice Home and Student 20211 Year Onsite Warranty</td>\n",
       "      <td>SAMSUNG</td>\n",
       "      <td>Windows 11</td>\n",
       "      <td>4 GB</td>\n",
       "      <td>14</td>\n",
       "      <td>LPDDR4X</td>\n",
       "      <td>Qualcomm</td>\n",
       "      <td></td>\n",
       "      <td>None</td>\n",
       "    </tr>\n",
       "    <tr>\n",
       "      <th>89</th>\n",
       "      <td>Lenovo IdeaPad 3 CB Celeron Dual Core - (4 GB/64 GB EMMC Storage/Chrome OS) 14IGL05 Thin and Light Lap...</td>\n",
       "      <td>NaN</td>\n",
       "      <td>19490</td>\n",
       "      <td>Intel Celeron Dual Core Processor4 GB DDR4 RAMChrome Operating System35.56 cm (14 Inch) Display1 Year Carry-in Warranty</td>\n",
       "      <td>Lenovo</td>\n",
       "      <td>Chrome</td>\n",
       "      <td>4 GB</td>\n",
       "      <td>14</td>\n",
       "      <td>DDR4</td>\n",
       "      <td>Intel</td>\n",
       "      <td></td>\n",
       "      <td>None</td>\n",
       "    </tr>\n",
       "    <tr>\n",
       "      <th>96</th>\n",
       "      <td>Lenovo IdeaPad 3 CB Celeron Dual Core - (4 GB/64 GB EMMC Storage/Chrome OS) 14IGL05 Thin and Light Lap...</td>\n",
       "      <td>NaN</td>\n",
       "      <td>19490</td>\n",
       "      <td>Intel Celeron Dual Core Processor4 GB DDR4 RAMChrome Operating System35.56 cm (14 Inch) Display1 Year Carry-in Warranty</td>\n",
       "      <td>Lenovo</td>\n",
       "      <td>Chrome</td>\n",
       "      <td>4 GB</td>\n",
       "      <td>14</td>\n",
       "      <td>DDR4</td>\n",
       "      <td>Intel</td>\n",
       "      <td></td>\n",
       "      <td>None</td>\n",
       "    </tr>\n",
       "    <tr>\n",
       "      <th>345</th>\n",
       "      <td>ASUS Chromebook Flip Touch Celeron Dual Core - (4 GB/32 GB EMMC Storage/Chrome OS) C214MA-BU0704 Chrom...</td>\n",
       "      <td>4.0</td>\n",
       "      <td>14990</td>\n",
       "      <td>Intel Celeron Dual Core Processor4 GB LPDDR4 RAMChrome Operating System29.46 cm (11.6 inch) Touchscreen Display1 Year Onsite Warranty</td>\n",
       "      <td>ASUS</td>\n",
       "      <td>Chrome</td>\n",
       "      <td>4 GB</td>\n",
       "      <td>11.6</td>\n",
       "      <td>LPDDR4</td>\n",
       "      <td>Intel</td>\n",
       "      <td></td>\n",
       "      <td>None</td>\n",
       "    </tr>\n",
       "    <tr>\n",
       "      <th>509</th>\n",
       "      <td>ASUS Chromebook Flip Touch Celeron Dual Core - (4 GB/64 GB EMMC Storage/Chrome OS) C523NA-A20303 Chrom...</td>\n",
       "      <td>4.0</td>\n",
       "      <td>24390</td>\n",
       "      <td>Intel Celeron Dual Core Processor4 GB LPDDR4 RAMChrome Operating System39.62 cm (15.6 inch) Touchscreen Display1 Year Onsite Warranty</td>\n",
       "      <td>ASUS</td>\n",
       "      <td>Chrome</td>\n",
       "      <td>4 GB</td>\n",
       "      <td>15.6</td>\n",
       "      <td>LPDDR4</td>\n",
       "      <td>Intel</td>\n",
       "      <td></td>\n",
       "      <td>None</td>\n",
       "    </tr>\n",
       "    <tr>\n",
       "      <th>544</th>\n",
       "      <td>ASUS EeeBook 12 Celeron Dual Core - (4 GB/64 GB EMMC Storage/Windows 11 Home) E210MA-GJ011W Thin and L...</td>\n",
       "      <td>4.5</td>\n",
       "      <td>21990</td>\n",
       "      <td>Intel Celeron Dual Core Processor4 GB DDR4 RAM64 bit Windows 11 Operating System29.46 cm (11.6 Inch) Display1 Year Onsite warranty</td>\n",
       "      <td>ASUS</td>\n",
       "      <td>Windows 11</td>\n",
       "      <td>4 GB</td>\n",
       "      <td>11.6</td>\n",
       "      <td>DDR4</td>\n",
       "      <td>Intel</td>\n",
       "      <td></td>\n",
       "      <td>None</td>\n",
       "    </tr>\n",
       "    <tr>\n",
       "      <th>559</th>\n",
       "      <td>ASUS EeeBook 12 Celeron Dual Core - (4 GB/64 GB EMMC Storage/Windows 11 Home) E210MA-GJ012W Thin and L...</td>\n",
       "      <td>4.0</td>\n",
       "      <td>19990</td>\n",
       "      <td>Intel Celeron Dual Core Processor4 GB DDR4 RAM64 bit Windows 11 Operating System29.46 cm (11.6 Inch) Display1 Year Onsite warranty</td>\n",
       "      <td>ASUS</td>\n",
       "      <td>Windows 11</td>\n",
       "      <td>4 GB</td>\n",
       "      <td>11.6</td>\n",
       "      <td>DDR4</td>\n",
       "      <td>Intel</td>\n",
       "      <td></td>\n",
       "      <td>None</td>\n",
       "    </tr>\n",
       "    <tr>\n",
       "      <th>632</th>\n",
       "      <td>Lenovo IdeaPad Flex 3 Chromebook Celeron Dual Core - (4 GB/128 GB EMMC Storage/Chrome OS) CB 11IJL6 Ch...</td>\n",
       "      <td>3.6</td>\n",
       "      <td>28490</td>\n",
       "      <td>Intel Celeron Dual Core Processor4 GB LPDDR4X RAM64 bit Chrome Operating System29.46 cm (11.6 inch) Touchscreen Display1 Year Onsite�Warranty</td>\n",
       "      <td>Lenovo</td>\n",
       "      <td>Chrome</td>\n",
       "      <td>4 GB</td>\n",
       "      <td>11.6</td>\n",
       "      <td>LPDDR4X</td>\n",
       "      <td>Intel</td>\n",
       "      <td></td>\n",
       "      <td>None</td>\n",
       "    </tr>\n",
       "    <tr>\n",
       "      <th>695</th>\n",
       "      <td>ASUS Chromebook Celeron Dual Core - (4 GB/64 GB EMMC Storage/Chrome OS) C423NA-EC0521 Chromebook</td>\n",
       "      <td>4.1</td>\n",
       "      <td>25990</td>\n",
       "      <td>Intel Celeron Dual Core Processor4 GB LPDDR4 RAMChrome Operating System35.56 cm (14 inch) Touchscreen Display1 Year Onsite Warranty</td>\n",
       "      <td>ASUS</td>\n",
       "      <td>Chrome</td>\n",
       "      <td>4 GB</td>\n",
       "      <td>14</td>\n",
       "      <td>LPDDR4</td>\n",
       "      <td>Intel</td>\n",
       "      <td></td>\n",
       "      <td>None</td>\n",
       "    </tr>\n",
       "    <tr>\n",
       "      <th>715</th>\n",
       "      <td>ASUS Chromebook Flip Touch Celeron Dual Core - (4 GB/64 GB EMMC Storage/Chrome OS) C214MA-BU0452 Chrom...</td>\n",
       "      <td>4.0</td>\n",
       "      <td>23490</td>\n",
       "      <td>Intel Celeron Dual Core Processor4 GB LPDDR4 RAMChrome Operating System29.46 cm (11.6 inch) Touchscreen Display1 Year Onsite Warranty</td>\n",
       "      <td>ASUS</td>\n",
       "      <td>Chrome</td>\n",
       "      <td>4 GB</td>\n",
       "      <td>11.6</td>\n",
       "      <td>LPDDR4</td>\n",
       "      <td>Intel</td>\n",
       "      <td></td>\n",
       "      <td>None</td>\n",
       "    </tr>\n",
       "  </tbody>\n",
       "</table>\n",
       "</div>"
      ],
      "text/plain": [
       "                                                                                                       Product  \\\n",
       "83   SAMSUNG Galaxy Book Go Snapdragon 7c Gen 2 - (4 GB/128 GB EMMC Storage/Windows 11 Home) NP340XLA-KA1IN...   \n",
       "89   Lenovo IdeaPad 3 CB Celeron Dual Core - (4 GB/64 GB EMMC Storage/Chrome OS) 14IGL05 Thin and Light Lap...   \n",
       "96   Lenovo IdeaPad 3 CB Celeron Dual Core - (4 GB/64 GB EMMC Storage/Chrome OS) 14IGL05 Thin and Light Lap...   \n",
       "345  ASUS Chromebook Flip Touch Celeron Dual Core - (4 GB/32 GB EMMC Storage/Chrome OS) C214MA-BU0704 Chrom...   \n",
       "509  ASUS Chromebook Flip Touch Celeron Dual Core - (4 GB/64 GB EMMC Storage/Chrome OS) C523NA-A20303 Chrom...   \n",
       "544  ASUS EeeBook 12 Celeron Dual Core - (4 GB/64 GB EMMC Storage/Windows 11 Home) E210MA-GJ011W Thin and L...   \n",
       "559  ASUS EeeBook 12 Celeron Dual Core - (4 GB/64 GB EMMC Storage/Windows 11 Home) E210MA-GJ012W Thin and L...   \n",
       "632  Lenovo IdeaPad Flex 3 Chromebook Celeron Dual Core - (4 GB/128 GB EMMC Storage/Chrome OS) CB 11IJL6 Ch...   \n",
       "695           ASUS Chromebook Celeron Dual Core - (4 GB/64 GB EMMC Storage/Chrome OS) C423NA-EC0521 Chromebook   \n",
       "715  ASUS Chromebook Flip Touch Celeron Dual Core - (4 GB/64 GB EMMC Storage/Chrome OS) C214MA-BU0452 Chrom...   \n",
       "\n",
       "     Rating    MRP  \\\n",
       "83      4.4  32990   \n",
       "89      NaN  19490   \n",
       "96      NaN  19490   \n",
       "345     4.0  14990   \n",
       "509     4.0  24390   \n",
       "544     4.5  21990   \n",
       "559     4.0  19990   \n",
       "632     3.6  28490   \n",
       "695     4.1  25990   \n",
       "715     4.0  23490   \n",
       "\n",
       "                                                                                                                                                           Feature  \\\n",
       "83   Qualcomm Snapdragon 7c Gen 2 Processor4 GB LPDDR4X RAMWindows 11 Operating System35.56 cm (14 Inch) DisplayOffice Home and Student 20211 Year Onsite Warranty   \n",
       "89                                         Intel Celeron Dual Core Processor4 GB DDR4 RAMChrome Operating System35.56 cm (14 Inch) Display1 Year Carry-in Warranty   \n",
       "96                                         Intel Celeron Dual Core Processor4 GB DDR4 RAMChrome Operating System35.56 cm (14 Inch) Display1 Year Carry-in Warranty   \n",
       "345                          Intel Celeron Dual Core Processor4 GB LPDDR4 RAMChrome Operating System29.46 cm (11.6 inch) Touchscreen Display1 Year Onsite Warranty   \n",
       "509                          Intel Celeron Dual Core Processor4 GB LPDDR4 RAMChrome Operating System39.62 cm (15.6 inch) Touchscreen Display1 Year Onsite Warranty   \n",
       "544                             Intel Celeron Dual Core Processor4 GB DDR4 RAM64 bit Windows 11 Operating System29.46 cm (11.6 Inch) Display1 Year Onsite warranty   \n",
       "559                             Intel Celeron Dual Core Processor4 GB DDR4 RAM64 bit Windows 11 Operating System29.46 cm (11.6 Inch) Display1 Year Onsite warranty   \n",
       "632                  Intel Celeron Dual Core Processor4 GB LPDDR4X RAM64 bit Chrome Operating System29.46 cm (11.6 inch) Touchscreen Display1 Year Onsite�Warranty   \n",
       "695                            Intel Celeron Dual Core Processor4 GB LPDDR4 RAMChrome Operating System35.56 cm (14 inch) Touchscreen Display1 Year Onsite Warranty   \n",
       "715                          Intel Celeron Dual Core Processor4 GB LPDDR4 RAMChrome Operating System29.46 cm (11.6 inch) Touchscreen Display1 Year Onsite Warranty   \n",
       "\n",
       "       Brand Operating_System   RAM Display_inchs RAM_Type Processor  \\\n",
       "83   SAMSUNG       Windows 11  4 GB            14  LPDDR4X  Qualcomm   \n",
       "89    Lenovo           Chrome  4 GB            14     DDR4     Intel   \n",
       "96    Lenovo           Chrome  4 GB            14     DDR4     Intel   \n",
       "345     ASUS           Chrome  4 GB          11.6   LPDDR4     Intel   \n",
       "509     ASUS           Chrome  4 GB          15.6   LPDDR4     Intel   \n",
       "544     ASUS       Windows 11  4 GB          11.6     DDR4     Intel   \n",
       "559     ASUS       Windows 11  4 GB          11.6     DDR4     Intel   \n",
       "632   Lenovo           Chrome  4 GB          11.6  LPDDR4X     Intel   \n",
       "695     ASUS           Chrome  4 GB            14   LPDDR4     Intel   \n",
       "715     ASUS           Chrome  4 GB          11.6   LPDDR4     Intel   \n",
       "\n",
       "    Disc Size Disc Type  \n",
       "83                 None  \n",
       "89                 None  \n",
       "96                 None  \n",
       "345                None  \n",
       "509                None  \n",
       "544                None  \n",
       "559                None  \n",
       "632                None  \n",
       "695                None  \n",
       "715                None  "
      ]
     },
     "execution_count": 186,
     "metadata": {},
     "output_type": "execute_result"
    }
   ],
   "source": [
    "df[df['Disc Size']=='']"
   ]
  },
  {
   "cell_type": "code",
   "execution_count": 187,
   "id": "cda0c6db",
   "metadata": {},
   "outputs": [
    {
     "data": {
      "text/plain": [
       "Index(['Product', 'Rating', 'MRP', 'Feature', 'Brand', 'Operating_System',\n",
       "       'RAM', 'Display_inchs', 'RAM_Type', 'Processor', 'Disc Size',\n",
       "       'Disc Type'],\n",
       "      dtype='object')"
      ]
     },
     "execution_count": 187,
     "metadata": {},
     "output_type": "execute_result"
    }
   ],
   "source": [
    "df.columns"
   ]
  },
  {
   "cell_type": "code",
   "execution_count": 188,
   "id": "1602c250",
   "metadata": {},
   "outputs": [],
   "source": [
    "df.iloc[83,-2]='128GB'\n",
    "df.iloc[89,-2]='64GB'\n",
    "df.iloc[96,-2]='64GB'\n",
    "df.iloc[345,-2]='32GB'\n",
    "df.iloc[509,-2]='64GB'\n",
    "df.iloc[544,-2]='64GB'\n",
    "df.iloc[559,-2]='64GB'\n",
    "df.iloc[632,-2]='128GB'\n",
    "df.iloc[695,-2]='64GB'\n",
    "df.iloc[715,-2]='64GB'"
   ]
  },
  {
   "cell_type": "code",
   "execution_count": 189,
   "id": "d9adc2d5",
   "metadata": {},
   "outputs": [
    {
     "data": {
      "text/plain": [
       "512GB    375\n",
       "1TB      223\n",
       "256GB     99\n",
       "128GB      8\n",
       "64GB       7\n",
       "2TB        7\n",
       "32GB       1\n",
       "Name: Disc Size, dtype: int64"
      ]
     },
     "execution_count": 189,
     "metadata": {},
     "output_type": "execute_result"
    }
   ],
   "source": [
    "df['Disc Size'].value_counts()"
   ]
  },
  {
   "cell_type": "code",
   "execution_count": 190,
   "id": "3f94ca47",
   "metadata": {},
   "outputs": [
    {
     "data": {
      "text/plain": [
       "SSD    662\n",
       "HDD     48\n",
       "Name: Disc Type, dtype: int64"
      ]
     },
     "execution_count": 190,
     "metadata": {},
     "output_type": "execute_result"
    }
   ],
   "source": [
    "df['Disc Type'].value_counts()"
   ]
  },
  {
   "cell_type": "code",
   "execution_count": 191,
   "id": "90f48b7e",
   "metadata": {},
   "outputs": [
    {
     "data": {
      "text/html": [
       "<div>\n",
       "<style scoped>\n",
       "    .dataframe tbody tr th:only-of-type {\n",
       "        vertical-align: middle;\n",
       "    }\n",
       "\n",
       "    .dataframe tbody tr th {\n",
       "        vertical-align: top;\n",
       "    }\n",
       "\n",
       "    .dataframe thead th {\n",
       "        text-align: right;\n",
       "    }\n",
       "</style>\n",
       "<table border=\"1\" class=\"dataframe\">\n",
       "  <thead>\n",
       "    <tr style=\"text-align: right;\">\n",
       "      <th></th>\n",
       "      <th>Product</th>\n",
       "      <th>Rating</th>\n",
       "      <th>MRP</th>\n",
       "      <th>Feature</th>\n",
       "      <th>Brand</th>\n",
       "      <th>Operating_System</th>\n",
       "      <th>RAM</th>\n",
       "      <th>Display_inchs</th>\n",
       "      <th>RAM_Type</th>\n",
       "      <th>Processor</th>\n",
       "      <th>Disc Size</th>\n",
       "      <th>Disc Type</th>\n",
       "    </tr>\n",
       "  </thead>\n",
       "  <tbody>\n",
       "    <tr>\n",
       "      <th>0</th>\n",
       "      <td>Lenovo IdeaPad 3 Core i3 11th Gen - (8 GB/256 GB SSD/Windows 11 Home) 14ITL05 Thin and Light Laptop</td>\n",
       "      <td>4.2</td>\n",
       "      <td>36990</td>\n",
       "      <td>Intel Core i3 Processor (11th Gen)8 GB DDR4 RAM64 bit Windows 11 Operating System256 GB SSD35.56 cm (14 inch) DisplayOffice Home and Student 20212 Year Onsite�Warranty</td>\n",
       "      <td>Lenovo</td>\n",
       "      <td>Windows 11</td>\n",
       "      <td>8 GB</td>\n",
       "      <td>14</td>\n",
       "      <td>DDR4</td>\n",
       "      <td>Intel</td>\n",
       "      <td>256GB</td>\n",
       "      <td>SSD</td>\n",
       "    </tr>\n",
       "    <tr>\n",
       "      <th>1</th>\n",
       "      <td>Lenovo IdeaPad 3 Core i3 11th Gen - (8 GB/512 GB SSD/Windows 11 Home) 82H801L7IN | 82H802FJIN | 82H802...</td>\n",
       "      <td>4.2</td>\n",
       "      <td>39990</td>\n",
       "      <td>Intel Core i3 Processor (11th Gen)8 GB DDR4 RAM64 bit Windows 11 Operating System512 GB SSD39.62 cm (15.6 inch) DisplayOffice Home and Student 20212 Year Onsite�Warranty</td>\n",
       "      <td>Lenovo</td>\n",
       "      <td>Windows 11</td>\n",
       "      <td>8 GB</td>\n",
       "      <td>15.6</td>\n",
       "      <td>DDR4</td>\n",
       "      <td>Intel</td>\n",
       "      <td>512GB</td>\n",
       "      <td>SSD</td>\n",
       "    </tr>\n",
       "    <tr>\n",
       "      <th>2</th>\n",
       "      <td>ASUS VivoBook 15 (2022) Core i3 10th Gen - (8 GB/512 GB SSD/Windows 11 Home) X515JA-EJ362WS | X515JA-E...</td>\n",
       "      <td>4.3</td>\n",
       "      <td>32990</td>\n",
       "      <td>Intel Core i3 Processor (10th Gen)8 GB DDR4 RAM64 bit Windows 11 Operating System512 GB SSD39.62 cm (15.6 inch) DisplayOffice Home and Student 20211 Year Onsite Warranty</td>\n",
       "      <td>ASUS</td>\n",
       "      <td>Windows 11</td>\n",
       "      <td>8 GB</td>\n",
       "      <td>15.6</td>\n",
       "      <td>DDR4</td>\n",
       "      <td>Intel</td>\n",
       "      <td>512GB</td>\n",
       "      <td>SSD</td>\n",
       "    </tr>\n",
       "    <tr>\n",
       "      <th>3</th>\n",
       "      <td>HP Pavilion Ryzen 5 Hexa Core AMD R5-5600H - (8 GB/512 GB SSD/Windows 10/4 GB Graphics/NVIDIA GeForce ...</td>\n",
       "      <td>4.4</td>\n",
       "      <td>49990</td>\n",
       "      <td>AMD Ryzen 5 Hexa Core Processor8 GB DDR4 RAM64 bit Windows 10 Operating System512 GB SSD39.62 cm (15.6 inch) DisplayHP Documentation, HP e-service, HP BIOS Recovery, HP SSRM, HP Smart, HP Jumpstarts1 Year Onsite Warranty</td>\n",
       "      <td>HP</td>\n",
       "      <td>Windows 10</td>\n",
       "      <td>8 GB</td>\n",
       "      <td>15.6</td>\n",
       "      <td>DDR4</td>\n",
       "      <td>AMD</td>\n",
       "      <td>512GB</td>\n",
       "      <td>SSD</td>\n",
       "    </tr>\n",
       "    <tr>\n",
       "      <th>4</th>\n",
       "      <td>ASUS TUF Gaming F15 Core i5 10th Gen - (8 GB/512 GB SSD/Windows 11 Home/4 GB Graphics/NVIDIA GeForce G...</td>\n",
       "      <td>4.4</td>\n",
       "      <td>49990</td>\n",
       "      <td>Intel Core i5 Processor (10th Gen)8 GB DDR4 RAMWindows 11 Operating System512 GB SSD39.62 cm (15.6 inch) Display1 Year Onsite Warranty</td>\n",
       "      <td>ASUS</td>\n",
       "      <td>Windows 11</td>\n",
       "      <td>8 GB</td>\n",
       "      <td>15.6</td>\n",
       "      <td>DDR4</td>\n",
       "      <td>Intel</td>\n",
       "      <td>512GB</td>\n",
       "      <td>SSD</td>\n",
       "    </tr>\n",
       "  </tbody>\n",
       "</table>\n",
       "</div>"
      ],
      "text/plain": [
       "                                                                                                     Product  \\\n",
       "0        Lenovo IdeaPad 3 Core i3 11th Gen - (8 GB/256 GB SSD/Windows 11 Home) 14ITL05 Thin and Light Laptop   \n",
       "1  Lenovo IdeaPad 3 Core i3 11th Gen - (8 GB/512 GB SSD/Windows 11 Home) 82H801L7IN | 82H802FJIN | 82H802...   \n",
       "2  ASUS VivoBook 15 (2022) Core i3 10th Gen - (8 GB/512 GB SSD/Windows 11 Home) X515JA-EJ362WS | X515JA-E...   \n",
       "3  HP Pavilion Ryzen 5 Hexa Core AMD R5-5600H - (8 GB/512 GB SSD/Windows 10/4 GB Graphics/NVIDIA GeForce ...   \n",
       "4  ASUS TUF Gaming F15 Core i5 10th Gen - (8 GB/512 GB SSD/Windows 11 Home/4 GB Graphics/NVIDIA GeForce G...   \n",
       "\n",
       "   Rating    MRP  \\\n",
       "0     4.2  36990   \n",
       "1     4.2  39990   \n",
       "2     4.3  32990   \n",
       "3     4.4  49990   \n",
       "4     4.4  49990   \n",
       "\n",
       "                                                                                                                                                                                                                        Feature  \\\n",
       "0                                                       Intel Core i3 Processor (11th Gen)8 GB DDR4 RAM64 bit Windows 11 Operating System256 GB SSD35.56 cm (14 inch) DisplayOffice Home and Student 20212 Year Onsite�Warranty   \n",
       "1                                                     Intel Core i3 Processor (11th Gen)8 GB DDR4 RAM64 bit Windows 11 Operating System512 GB SSD39.62 cm (15.6 inch) DisplayOffice Home and Student 20212 Year Onsite�Warranty   \n",
       "2                                                     Intel Core i3 Processor (10th Gen)8 GB DDR4 RAM64 bit Windows 11 Operating System512 GB SSD39.62 cm (15.6 inch) DisplayOffice Home and Student 20211 Year Onsite Warranty   \n",
       "3  AMD Ryzen 5 Hexa Core Processor8 GB DDR4 RAM64 bit Windows 10 Operating System512 GB SSD39.62 cm (15.6 inch) DisplayHP Documentation, HP e-service, HP BIOS Recovery, HP SSRM, HP Smart, HP Jumpstarts1 Year Onsite Warranty   \n",
       "4                                                                                        Intel Core i5 Processor (10th Gen)8 GB DDR4 RAMWindows 11 Operating System512 GB SSD39.62 cm (15.6 inch) Display1 Year Onsite Warranty   \n",
       "\n",
       "    Brand Operating_System   RAM Display_inchs RAM_Type Processor Disc Size  \\\n",
       "0  Lenovo       Windows 11  8 GB            14     DDR4     Intel     256GB   \n",
       "1  Lenovo       Windows 11  8 GB          15.6     DDR4     Intel     512GB   \n",
       "2    ASUS       Windows 11  8 GB          15.6     DDR4     Intel     512GB   \n",
       "3      HP       Windows 10  8 GB          15.6     DDR4       AMD     512GB   \n",
       "4    ASUS       Windows 11  8 GB          15.6     DDR4     Intel     512GB   \n",
       "\n",
       "  Disc Type  \n",
       "0       SSD  \n",
       "1       SSD  \n",
       "2       SSD  \n",
       "3       SSD  \n",
       "4       SSD  "
      ]
     },
     "execution_count": 191,
     "metadata": {},
     "output_type": "execute_result"
    }
   ],
   "source": [
    "df.head()"
   ]
  },
  {
   "cell_type": "code",
   "execution_count": 192,
   "id": "ea858b25",
   "metadata": {},
   "outputs": [],
   "source": [
    "df.drop(['Product','Feature'],axis=1,inplace=True)"
   ]
  },
  {
   "cell_type": "code",
   "execution_count": 193,
   "id": "d66dfdd4",
   "metadata": {},
   "outputs": [
    {
     "data": {
      "text/html": [
       "<div>\n",
       "<style scoped>\n",
       "    .dataframe tbody tr th:only-of-type {\n",
       "        vertical-align: middle;\n",
       "    }\n",
       "\n",
       "    .dataframe tbody tr th {\n",
       "        vertical-align: top;\n",
       "    }\n",
       "\n",
       "    .dataframe thead th {\n",
       "        text-align: right;\n",
       "    }\n",
       "</style>\n",
       "<table border=\"1\" class=\"dataframe\">\n",
       "  <thead>\n",
       "    <tr style=\"text-align: right;\">\n",
       "      <th></th>\n",
       "      <th>Rating</th>\n",
       "      <th>MRP</th>\n",
       "      <th>Brand</th>\n",
       "      <th>Operating_System</th>\n",
       "      <th>RAM</th>\n",
       "      <th>Display_inchs</th>\n",
       "      <th>RAM_Type</th>\n",
       "      <th>Processor</th>\n",
       "      <th>Disc Size</th>\n",
       "      <th>Disc Type</th>\n",
       "    </tr>\n",
       "  </thead>\n",
       "  <tbody>\n",
       "    <tr>\n",
       "      <th>0</th>\n",
       "      <td>4.2</td>\n",
       "      <td>36990</td>\n",
       "      <td>Lenovo</td>\n",
       "      <td>Windows 11</td>\n",
       "      <td>8 GB</td>\n",
       "      <td>14</td>\n",
       "      <td>DDR4</td>\n",
       "      <td>Intel</td>\n",
       "      <td>256GB</td>\n",
       "      <td>SSD</td>\n",
       "    </tr>\n",
       "    <tr>\n",
       "      <th>1</th>\n",
       "      <td>4.2</td>\n",
       "      <td>39990</td>\n",
       "      <td>Lenovo</td>\n",
       "      <td>Windows 11</td>\n",
       "      <td>8 GB</td>\n",
       "      <td>15.6</td>\n",
       "      <td>DDR4</td>\n",
       "      <td>Intel</td>\n",
       "      <td>512GB</td>\n",
       "      <td>SSD</td>\n",
       "    </tr>\n",
       "    <tr>\n",
       "      <th>2</th>\n",
       "      <td>4.3</td>\n",
       "      <td>32990</td>\n",
       "      <td>ASUS</td>\n",
       "      <td>Windows 11</td>\n",
       "      <td>8 GB</td>\n",
       "      <td>15.6</td>\n",
       "      <td>DDR4</td>\n",
       "      <td>Intel</td>\n",
       "      <td>512GB</td>\n",
       "      <td>SSD</td>\n",
       "    </tr>\n",
       "    <tr>\n",
       "      <th>3</th>\n",
       "      <td>4.4</td>\n",
       "      <td>49990</td>\n",
       "      <td>HP</td>\n",
       "      <td>Windows 10</td>\n",
       "      <td>8 GB</td>\n",
       "      <td>15.6</td>\n",
       "      <td>DDR4</td>\n",
       "      <td>AMD</td>\n",
       "      <td>512GB</td>\n",
       "      <td>SSD</td>\n",
       "    </tr>\n",
       "    <tr>\n",
       "      <th>4</th>\n",
       "      <td>4.4</td>\n",
       "      <td>49990</td>\n",
       "      <td>ASUS</td>\n",
       "      <td>Windows 11</td>\n",
       "      <td>8 GB</td>\n",
       "      <td>15.6</td>\n",
       "      <td>DDR4</td>\n",
       "      <td>Intel</td>\n",
       "      <td>512GB</td>\n",
       "      <td>SSD</td>\n",
       "    </tr>\n",
       "  </tbody>\n",
       "</table>\n",
       "</div>"
      ],
      "text/plain": [
       "   Rating    MRP   Brand Operating_System   RAM Display_inchs RAM_Type  \\\n",
       "0     4.2  36990  Lenovo       Windows 11  8 GB            14     DDR4   \n",
       "1     4.2  39990  Lenovo       Windows 11  8 GB          15.6     DDR4   \n",
       "2     4.3  32990    ASUS       Windows 11  8 GB          15.6     DDR4   \n",
       "3     4.4  49990      HP       Windows 10  8 GB          15.6     DDR4   \n",
       "4     4.4  49990    ASUS       Windows 11  8 GB          15.6     DDR4   \n",
       "\n",
       "  Processor Disc Size Disc Type  \n",
       "0     Intel     256GB       SSD  \n",
       "1     Intel     512GB       SSD  \n",
       "2     Intel     512GB       SSD  \n",
       "3       AMD     512GB       SSD  \n",
       "4     Intel     512GB       SSD  "
      ]
     },
     "execution_count": 193,
     "metadata": {},
     "output_type": "execute_result"
    }
   ],
   "source": [
    "df.head()"
   ]
  },
  {
   "cell_type": "code",
   "execution_count": 194,
   "id": "fbcfc8ad",
   "metadata": {},
   "outputs": [
    {
     "data": {
      "text/plain": [
       "Rating              139\n",
       "MRP                   0\n",
       "Brand                 0\n",
       "Operating_System      0\n",
       "RAM                   0\n",
       "Display_inchs         2\n",
       "RAM_Type              0\n",
       "Processor             0\n",
       "Disc Size             0\n",
       "Disc Type            10\n",
       "dtype: int64"
      ]
     },
     "execution_count": 194,
     "metadata": {},
     "output_type": "execute_result"
    }
   ],
   "source": [
    "df.isnull().sum()"
   ]
  },
  {
   "cell_type": "code",
   "execution_count": 195,
   "id": "9bf2a300",
   "metadata": {},
   "outputs": [
    {
     "data": {
      "text/plain": [
       "0"
      ]
     },
     "execution_count": 195,
     "metadata": {},
     "output_type": "execute_result"
    }
   ],
   "source": [
    "df['Rating'].fillna(df['Rating'].median(), inplace=True)\n",
    "df.Rating.isna().sum()"
   ]
  },
  {
   "cell_type": "code",
   "execution_count": 196,
   "id": "3c25b9e6",
   "metadata": {},
   "outputs": [],
   "source": [
    "df['Disc Type']=df['Disc Type'].fillna(df['Disc Type'].mode()[0])"
   ]
  },
  {
   "cell_type": "code",
   "execution_count": 197,
   "id": "fd0a9346",
   "metadata": {},
   "outputs": [
    {
     "data": {
      "text/plain": [
       "0"
      ]
     },
     "execution_count": 197,
     "metadata": {},
     "output_type": "execute_result"
    }
   ],
   "source": [
    "df['Display_inchs'].fillna(df['Display_inchs'].median(), inplace=True)\n",
    "df.Display_inchs.isna().sum()"
   ]
  },
  {
   "cell_type": "code",
   "execution_count": 198,
   "id": "6cd0719e",
   "metadata": {},
   "outputs": [
    {
     "data": {
      "text/plain": [
       "Rating              0\n",
       "MRP                 0\n",
       "Brand               0\n",
       "Operating_System    0\n",
       "RAM                 0\n",
       "Display_inchs       0\n",
       "RAM_Type            0\n",
       "Processor           0\n",
       "Disc Size           0\n",
       "Disc Type           0\n",
       "dtype: int64"
      ]
     },
     "execution_count": 198,
     "metadata": {},
     "output_type": "execute_result"
    }
   ],
   "source": [
    "df.isnull().sum()"
   ]
  },
  {
   "cell_type": "code",
   "execution_count": 199,
   "id": "99df7ca2",
   "metadata": {},
   "outputs": [
    {
     "data": {
      "text/plain": [
       "306"
      ]
     },
     "execution_count": 199,
     "metadata": {},
     "output_type": "execute_result"
    }
   ],
   "source": [
    "##drop duplicates\n",
    "df.duplicated().sum()\n"
   ]
  },
  {
   "cell_type": "code",
   "execution_count": 200,
   "id": "d5487dbb",
   "metadata": {},
   "outputs": [],
   "source": [
    "df.drop_duplicates(inplace=True)"
   ]
  },
  {
   "cell_type": "code",
   "execution_count": 201,
   "id": "62b5f5f5",
   "metadata": {},
   "outputs": [
    {
     "data": {
      "text/plain": [
       "0"
      ]
     },
     "execution_count": 201,
     "metadata": {},
     "output_type": "execute_result"
    }
   ],
   "source": [
    "df.duplicated().sum()"
   ]
  },
  {
   "cell_type": "code",
   "execution_count": 202,
   "id": "01e776dd",
   "metadata": {},
   "outputs": [],
   "source": [
    "df.reset_index(drop=True,inplace=True)"
   ]
  },
  {
   "cell_type": "code",
   "execution_count": 203,
   "id": "5de33a8b",
   "metadata": {},
   "outputs": [
    {
     "data": {
      "text/html": [
       "<div>\n",
       "<style scoped>\n",
       "    .dataframe tbody tr th:only-of-type {\n",
       "        vertical-align: middle;\n",
       "    }\n",
       "\n",
       "    .dataframe tbody tr th {\n",
       "        vertical-align: top;\n",
       "    }\n",
       "\n",
       "    .dataframe thead th {\n",
       "        text-align: right;\n",
       "    }\n",
       "</style>\n",
       "<table border=\"1\" class=\"dataframe\">\n",
       "  <thead>\n",
       "    <tr style=\"text-align: right;\">\n",
       "      <th></th>\n",
       "      <th>Rating</th>\n",
       "      <th>MRP</th>\n",
       "      <th>Brand</th>\n",
       "      <th>Operating_System</th>\n",
       "      <th>RAM</th>\n",
       "      <th>Display_inchs</th>\n",
       "      <th>RAM_Type</th>\n",
       "      <th>Processor</th>\n",
       "      <th>Disc Size</th>\n",
       "      <th>Disc Type</th>\n",
       "    </tr>\n",
       "  </thead>\n",
       "  <tbody>\n",
       "    <tr>\n",
       "      <th>0</th>\n",
       "      <td>4.2</td>\n",
       "      <td>36990</td>\n",
       "      <td>Lenovo</td>\n",
       "      <td>Windows 11</td>\n",
       "      <td>8 GB</td>\n",
       "      <td>14</td>\n",
       "      <td>DDR4</td>\n",
       "      <td>Intel</td>\n",
       "      <td>256GB</td>\n",
       "      <td>SSD</td>\n",
       "    </tr>\n",
       "    <tr>\n",
       "      <th>1</th>\n",
       "      <td>4.2</td>\n",
       "      <td>39990</td>\n",
       "      <td>Lenovo</td>\n",
       "      <td>Windows 11</td>\n",
       "      <td>8 GB</td>\n",
       "      <td>15.6</td>\n",
       "      <td>DDR4</td>\n",
       "      <td>Intel</td>\n",
       "      <td>512GB</td>\n",
       "      <td>SSD</td>\n",
       "    </tr>\n",
       "    <tr>\n",
       "      <th>2</th>\n",
       "      <td>4.3</td>\n",
       "      <td>32990</td>\n",
       "      <td>ASUS</td>\n",
       "      <td>Windows 11</td>\n",
       "      <td>8 GB</td>\n",
       "      <td>15.6</td>\n",
       "      <td>DDR4</td>\n",
       "      <td>Intel</td>\n",
       "      <td>512GB</td>\n",
       "      <td>SSD</td>\n",
       "    </tr>\n",
       "    <tr>\n",
       "      <th>3</th>\n",
       "      <td>4.4</td>\n",
       "      <td>49990</td>\n",
       "      <td>HP</td>\n",
       "      <td>Windows 10</td>\n",
       "      <td>8 GB</td>\n",
       "      <td>15.6</td>\n",
       "      <td>DDR4</td>\n",
       "      <td>AMD</td>\n",
       "      <td>512GB</td>\n",
       "      <td>SSD</td>\n",
       "    </tr>\n",
       "    <tr>\n",
       "      <th>4</th>\n",
       "      <td>4.4</td>\n",
       "      <td>49990</td>\n",
       "      <td>ASUS</td>\n",
       "      <td>Windows 11</td>\n",
       "      <td>8 GB</td>\n",
       "      <td>15.6</td>\n",
       "      <td>DDR4</td>\n",
       "      <td>Intel</td>\n",
       "      <td>512GB</td>\n",
       "      <td>SSD</td>\n",
       "    </tr>\n",
       "    <tr>\n",
       "      <th>...</th>\n",
       "      <td>...</td>\n",
       "      <td>...</td>\n",
       "      <td>...</td>\n",
       "      <td>...</td>\n",
       "      <td>...</td>\n",
       "      <td>...</td>\n",
       "      <td>...</td>\n",
       "      <td>...</td>\n",
       "      <td>...</td>\n",
       "      <td>...</td>\n",
       "    </tr>\n",
       "    <tr>\n",
       "      <th>409</th>\n",
       "      <td>4.3</td>\n",
       "      <td>76590</td>\n",
       "      <td>DELL</td>\n",
       "      <td>Windows 11</td>\n",
       "      <td>16 GB</td>\n",
       "      <td>13.3</td>\n",
       "      <td>DDR5</td>\n",
       "      <td>Intel</td>\n",
       "      <td>512GB</td>\n",
       "      <td>SSD</td>\n",
       "    </tr>\n",
       "    <tr>\n",
       "      <th>410</th>\n",
       "      <td>4.6</td>\n",
       "      <td>90000</td>\n",
       "      <td>HP</td>\n",
       "      <td>Windows 10</td>\n",
       "      <td>16 GB</td>\n",
       "      <td>15.6</td>\n",
       "      <td>DDR4</td>\n",
       "      <td>AMD</td>\n",
       "      <td>512GB</td>\n",
       "      <td>SSD</td>\n",
       "    </tr>\n",
       "    <tr>\n",
       "      <th>411</th>\n",
       "      <td>4.0</td>\n",
       "      <td>23490</td>\n",
       "      <td>ASUS</td>\n",
       "      <td>Chrome</td>\n",
       "      <td>4 GB</td>\n",
       "      <td>11.6</td>\n",
       "      <td>LPDDR4</td>\n",
       "      <td>Intel</td>\n",
       "      <td>64GB</td>\n",
       "      <td>SSD</td>\n",
       "    </tr>\n",
       "    <tr>\n",
       "      <th>412</th>\n",
       "      <td>3.0</td>\n",
       "      <td>125990</td>\n",
       "      <td>ASUS</td>\n",
       "      <td>Windows 11</td>\n",
       "      <td>16 GB</td>\n",
       "      <td>14</td>\n",
       "      <td>LPDDR5</td>\n",
       "      <td>Intel</td>\n",
       "      <td>512GB</td>\n",
       "      <td>SSD</td>\n",
       "    </tr>\n",
       "    <tr>\n",
       "      <th>413</th>\n",
       "      <td>4.2</td>\n",
       "      <td>50990</td>\n",
       "      <td>Lenovo</td>\n",
       "      <td>Windows 10</td>\n",
       "      <td>8 GB</td>\n",
       "      <td>15.6</td>\n",
       "      <td>DDR4</td>\n",
       "      <td>Intel</td>\n",
       "      <td>1TB</td>\n",
       "      <td>HDD</td>\n",
       "    </tr>\n",
       "  </tbody>\n",
       "</table>\n",
       "<p>414 rows × 10 columns</p>\n",
       "</div>"
      ],
      "text/plain": [
       "     Rating     MRP   Brand Operating_System    RAM Display_inchs RAM_Type  \\\n",
       "0       4.2   36990  Lenovo       Windows 11   8 GB            14     DDR4   \n",
       "1       4.2   39990  Lenovo       Windows 11   8 GB          15.6     DDR4   \n",
       "2       4.3   32990    ASUS       Windows 11   8 GB          15.6     DDR4   \n",
       "3       4.4   49990      HP       Windows 10   8 GB          15.6     DDR4   \n",
       "4       4.4   49990    ASUS       Windows 11   8 GB          15.6     DDR4   \n",
       "..      ...     ...     ...              ...    ...           ...      ...   \n",
       "409     4.3   76590    DELL       Windows 11  16 GB          13.3     DDR5   \n",
       "410     4.6   90000      HP       Windows 10  16 GB          15.6     DDR4   \n",
       "411     4.0   23490    ASUS           Chrome   4 GB          11.6   LPDDR4   \n",
       "412     3.0  125990    ASUS       Windows 11  16 GB            14   LPDDR5   \n",
       "413     4.2   50990  Lenovo       Windows 10   8 GB          15.6     DDR4   \n",
       "\n",
       "    Processor Disc Size Disc Type  \n",
       "0       Intel     256GB       SSD  \n",
       "1       Intel     512GB       SSD  \n",
       "2       Intel     512GB       SSD  \n",
       "3         AMD     512GB       SSD  \n",
       "4       Intel     512GB       SSD  \n",
       "..        ...       ...       ...  \n",
       "409     Intel     512GB       SSD  \n",
       "410       AMD     512GB       SSD  \n",
       "411     Intel      64GB       SSD  \n",
       "412     Intel     512GB       SSD  \n",
       "413     Intel       1TB       HDD  \n",
       "\n",
       "[414 rows x 10 columns]"
      ]
     },
     "execution_count": 203,
     "metadata": {},
     "output_type": "execute_result"
    }
   ],
   "source": [
    "df"
   ]
  },
  {
   "cell_type": "code",
   "execution_count": 204,
   "id": "95dfe668",
   "metadata": {},
   "outputs": [],
   "source": [
    "df.to_csv('Tesla.csv',index=False)"
   ]
  },
  {
   "cell_type": "code",
   "execution_count": 205,
   "id": "376dfc03",
   "metadata": {},
   "outputs": [
    {
     "data": {
      "text/html": [
       "<div>\n",
       "<style scoped>\n",
       "    .dataframe tbody tr th:only-of-type {\n",
       "        vertical-align: middle;\n",
       "    }\n",
       "\n",
       "    .dataframe tbody tr th {\n",
       "        vertical-align: top;\n",
       "    }\n",
       "\n",
       "    .dataframe thead th {\n",
       "        text-align: right;\n",
       "    }\n",
       "</style>\n",
       "<table border=\"1\" class=\"dataframe\">\n",
       "  <thead>\n",
       "    <tr style=\"text-align: right;\">\n",
       "      <th></th>\n",
       "      <th>Rating</th>\n",
       "      <th>MRP</th>\n",
       "      <th>Brand</th>\n",
       "      <th>Operating_System</th>\n",
       "      <th>RAM</th>\n",
       "      <th>Display_inchs</th>\n",
       "      <th>RAM_Type</th>\n",
       "      <th>Processor</th>\n",
       "      <th>Disc Size</th>\n",
       "      <th>Disc Type</th>\n",
       "    </tr>\n",
       "  </thead>\n",
       "  <tbody>\n",
       "    <tr>\n",
       "      <th>0</th>\n",
       "      <td>4.2</td>\n",
       "      <td>36990</td>\n",
       "      <td>Lenovo</td>\n",
       "      <td>Windows 11</td>\n",
       "      <td>8 GB</td>\n",
       "      <td>14</td>\n",
       "      <td>DDR4</td>\n",
       "      <td>Intel</td>\n",
       "      <td>256GB</td>\n",
       "      <td>SSD</td>\n",
       "    </tr>\n",
       "    <tr>\n",
       "      <th>1</th>\n",
       "      <td>4.2</td>\n",
       "      <td>39990</td>\n",
       "      <td>Lenovo</td>\n",
       "      <td>Windows 11</td>\n",
       "      <td>8 GB</td>\n",
       "      <td>15.6</td>\n",
       "      <td>DDR4</td>\n",
       "      <td>Intel</td>\n",
       "      <td>512GB</td>\n",
       "      <td>SSD</td>\n",
       "    </tr>\n",
       "    <tr>\n",
       "      <th>2</th>\n",
       "      <td>4.3</td>\n",
       "      <td>32990</td>\n",
       "      <td>ASUS</td>\n",
       "      <td>Windows 11</td>\n",
       "      <td>8 GB</td>\n",
       "      <td>15.6</td>\n",
       "      <td>DDR4</td>\n",
       "      <td>Intel</td>\n",
       "      <td>512GB</td>\n",
       "      <td>SSD</td>\n",
       "    </tr>\n",
       "    <tr>\n",
       "      <th>3</th>\n",
       "      <td>4.4</td>\n",
       "      <td>49990</td>\n",
       "      <td>HP</td>\n",
       "      <td>Windows 10</td>\n",
       "      <td>8 GB</td>\n",
       "      <td>15.6</td>\n",
       "      <td>DDR4</td>\n",
       "      <td>AMD</td>\n",
       "      <td>512GB</td>\n",
       "      <td>SSD</td>\n",
       "    </tr>\n",
       "    <tr>\n",
       "      <th>4</th>\n",
       "      <td>4.4</td>\n",
       "      <td>49990</td>\n",
       "      <td>ASUS</td>\n",
       "      <td>Windows 11</td>\n",
       "      <td>8 GB</td>\n",
       "      <td>15.6</td>\n",
       "      <td>DDR4</td>\n",
       "      <td>Intel</td>\n",
       "      <td>512GB</td>\n",
       "      <td>SSD</td>\n",
       "    </tr>\n",
       "    <tr>\n",
       "      <th>...</th>\n",
       "      <td>...</td>\n",
       "      <td>...</td>\n",
       "      <td>...</td>\n",
       "      <td>...</td>\n",
       "      <td>...</td>\n",
       "      <td>...</td>\n",
       "      <td>...</td>\n",
       "      <td>...</td>\n",
       "      <td>...</td>\n",
       "      <td>...</td>\n",
       "    </tr>\n",
       "    <tr>\n",
       "      <th>409</th>\n",
       "      <td>4.3</td>\n",
       "      <td>76590</td>\n",
       "      <td>DELL</td>\n",
       "      <td>Windows 11</td>\n",
       "      <td>16 GB</td>\n",
       "      <td>13.3</td>\n",
       "      <td>DDR5</td>\n",
       "      <td>Intel</td>\n",
       "      <td>512GB</td>\n",
       "      <td>SSD</td>\n",
       "    </tr>\n",
       "    <tr>\n",
       "      <th>410</th>\n",
       "      <td>4.6</td>\n",
       "      <td>90000</td>\n",
       "      <td>HP</td>\n",
       "      <td>Windows 10</td>\n",
       "      <td>16 GB</td>\n",
       "      <td>15.6</td>\n",
       "      <td>DDR4</td>\n",
       "      <td>AMD</td>\n",
       "      <td>512GB</td>\n",
       "      <td>SSD</td>\n",
       "    </tr>\n",
       "    <tr>\n",
       "      <th>411</th>\n",
       "      <td>4.0</td>\n",
       "      <td>23490</td>\n",
       "      <td>ASUS</td>\n",
       "      <td>Chrome</td>\n",
       "      <td>4 GB</td>\n",
       "      <td>11.6</td>\n",
       "      <td>LPDDR4</td>\n",
       "      <td>Intel</td>\n",
       "      <td>64GB</td>\n",
       "      <td>SSD</td>\n",
       "    </tr>\n",
       "    <tr>\n",
       "      <th>412</th>\n",
       "      <td>3.0</td>\n",
       "      <td>125990</td>\n",
       "      <td>ASUS</td>\n",
       "      <td>Windows 11</td>\n",
       "      <td>16 GB</td>\n",
       "      <td>14</td>\n",
       "      <td>LPDDR5</td>\n",
       "      <td>Intel</td>\n",
       "      <td>512GB</td>\n",
       "      <td>SSD</td>\n",
       "    </tr>\n",
       "    <tr>\n",
       "      <th>413</th>\n",
       "      <td>4.2</td>\n",
       "      <td>50990</td>\n",
       "      <td>Lenovo</td>\n",
       "      <td>Windows 10</td>\n",
       "      <td>8 GB</td>\n",
       "      <td>15.6</td>\n",
       "      <td>DDR4</td>\n",
       "      <td>Intel</td>\n",
       "      <td>1TB</td>\n",
       "      <td>HDD</td>\n",
       "    </tr>\n",
       "  </tbody>\n",
       "</table>\n",
       "<p>414 rows × 10 columns</p>\n",
       "</div>"
      ],
      "text/plain": [
       "     Rating     MRP   Brand Operating_System    RAM Display_inchs RAM_Type  \\\n",
       "0       4.2   36990  Lenovo       Windows 11   8 GB            14     DDR4   \n",
       "1       4.2   39990  Lenovo       Windows 11   8 GB          15.6     DDR4   \n",
       "2       4.3   32990    ASUS       Windows 11   8 GB          15.6     DDR4   \n",
       "3       4.4   49990      HP       Windows 10   8 GB          15.6     DDR4   \n",
       "4       4.4   49990    ASUS       Windows 11   8 GB          15.6     DDR4   \n",
       "..      ...     ...     ...              ...    ...           ...      ...   \n",
       "409     4.3   76590    DELL       Windows 11  16 GB          13.3     DDR5   \n",
       "410     4.6   90000      HP       Windows 10  16 GB          15.6     DDR4   \n",
       "411     4.0   23490    ASUS           Chrome   4 GB          11.6   LPDDR4   \n",
       "412     3.0  125990    ASUS       Windows 11  16 GB            14   LPDDR5   \n",
       "413     4.2   50990  Lenovo       Windows 10   8 GB          15.6     DDR4   \n",
       "\n",
       "    Processor Disc Size Disc Type  \n",
       "0       Intel     256GB       SSD  \n",
       "1       Intel     512GB       SSD  \n",
       "2       Intel     512GB       SSD  \n",
       "3         AMD     512GB       SSD  \n",
       "4       Intel     512GB       SSD  \n",
       "..        ...       ...       ...  \n",
       "409     Intel     512GB       SSD  \n",
       "410       AMD     512GB       SSD  \n",
       "411     Intel      64GB       SSD  \n",
       "412     Intel     512GB       SSD  \n",
       "413     Intel       1TB       HDD  \n",
       "\n",
       "[414 rows x 10 columns]"
      ]
     },
     "execution_count": 205,
     "metadata": {},
     "output_type": "execute_result"
    }
   ],
   "source": [
    "df"
   ]
  },
  {
   "cell_type": "markdown",
   "id": "77bd14c4",
   "metadata": {},
   "source": [
    "## Exploratory Data Analysis"
   ]
  },
  {
   "cell_type": "markdown",
   "id": "072d5e7e",
   "metadata": {},
   "source": [
    "## Outliers detection"
   ]
  },
  {
   "cell_type": "code",
   "execution_count": 206,
   "id": "70187a24",
   "metadata": {},
   "outputs": [
    {
     "data": {
      "text/plain": [
       "count       414.000000\n",
       "mean      80873.572464\n",
       "std       61946.214367\n",
       "min       14990.000000\n",
       "25%       41672.500000\n",
       "50%       61493.500000\n",
       "75%       94990.000000\n",
       "max      434830.000000\n",
       "Name: MRP, dtype: float64"
      ]
     },
     "execution_count": 206,
     "metadata": {},
     "output_type": "execute_result"
    }
   ],
   "source": [
    "df['MRP'].describe().T"
   ]
  },
  {
   "cell_type": "code",
   "execution_count": 207,
   "id": "d0e3cabd",
   "metadata": {},
   "outputs": [
    {
     "data": {
      "image/png": "[encoded data removed]",
      "text/plain": [
       "<Figure size 720x432 with 1 Axes>"
      ]
     },
     "metadata": {
      "needs_background": "light"
     },
     "output_type": "display_data"
    }
   ],
   "source": [
    "df['MRP'].plot(kind='box',figsize=(10,6));"
   ]
  },
  {
   "cell_type": "code",
   "execution_count": 208,
   "id": "1a18c214",
   "metadata": {},
   "outputs": [
    {
     "data": {
      "image/png": "[encoded data removed]",
      "text/plain": [
       "<Figure size 720x432 with 1 Axes>"
      ]
     },
     "metadata": {
      "needs_background": "light"
     },
     "output_type": "display_data"
    }
   ],
   "source": [
    "df['MRP'].plot(kind='hist',figsize=(10,6));\n"
   ]
  },
  {
   "cell_type": "code",
   "execution_count": 209,
   "id": "d4aae155",
   "metadata": {},
   "outputs": [],
   "source": [
    "import seaborn as sns\n",
    "import matplotlib.pyplot as plt"
   ]
  },
  {
   "cell_type": "code",
   "execution_count": 210,
   "id": "7c8bdf36",
   "metadata": {},
   "outputs": [
    {
     "data": {
      "image/png": "[encoded data removed]",
      "text/plain": [
       "<Figure size 1080x504 with 1 Axes>"
      ]
     },
     "metadata": {
      "needs_background": "light"
     },
     "output_type": "display_data"
    }
   ],
   "source": [
    "plt.figure(figsize=(15, 7))\n",
    "sns.barplot(x='MRP', y ='Brand', data=df);"
   ]
  },
  {
   "cell_type": "markdown",
   "id": "5c049624",
   "metadata": {},
   "source": [
    "# Observation:\n",
    "- Alienware brand laptop has more price compare to other laptops."
   ]
  },
  {
   "cell_type": "code",
   "execution_count": 212,
   "id": "ea459cba",
   "metadata": {},
   "outputs": [
    {
     "data": {
      "image/png": "[encoded data removed]",
      "text/plain": [
       "<Figure size 1080x504 with 1 Axes>"
      ]
     },
     "metadata": {
      "needs_background": "light"
     },
     "output_type": "display_data"
    }
   ],
   "source": [
    "plt.figure(figsize=(15, 7))\n",
    "sns.barplot(x='Operating_System', y ='MRP', data=df);"
   ]
  },
  {
   "cell_type": "markdown",
   "id": "7a96db4d",
   "metadata": {},
   "source": [
    "# Observation:\n",
    "- Mac Operating_System have more price compare to other operating systems"
   ]
  },
  {
   "cell_type": "code",
   "execution_count": 213,
   "id": "dd589c6a",
   "metadata": {},
   "outputs": [
    {
     "data": {
      "image/png": "[encoded data removed]",
      "text/plain": [
       "<Figure size 1080x504 with 1 Axes>"
      ]
     },
     "metadata": {
      "needs_background": "light"
     },
     "output_type": "display_data"
    }
   ],
   "source": [
    "plt.figure(figsize=(15, 7))\n",
    "sns.barplot(x='Processor', y ='MRP', data=df);"
   ]
  },
  {
   "cell_type": "markdown",
   "id": "8e4f9702",
   "metadata": {},
   "source": [
    "# Observation:\n",
    "- Apple processor has more price compare to other processors"
   ]
  },
  {
   "cell_type": "code",
   "execution_count": 214,
   "id": "fed1fbc9",
   "metadata": {},
   "outputs": [
    {
     "data": {
      "image/png": "[encoded data removed]",
      "text/plain": [
       "<Figure size 1080x504 with 1 Axes>"
      ]
     },
     "metadata": {
      "needs_background": "light"
     },
     "output_type": "display_data"
    }
   ],
   "source": [
    "plt.figure(figsize=(15, 7))\n",
    "sns.barplot(x='RAM', y ='MRP', data=df);"
   ]
  },
  {
   "cell_type": "markdown",
   "id": "78007ccc",
   "metadata": {},
   "source": [
    "## Observation:- \n",
    "- 32 GB RAM has more price compare to other RAMS "
   ]
  },
  {
   "cell_type": "code",
   "execution_count": 215,
   "id": "1a547bec",
   "metadata": {},
   "outputs": [
    {
     "data": {
      "image/png": "[encoded data removed]",
      "text/plain": [
       "<Figure size 1080x504 with 1 Axes>"
      ]
     },
     "metadata": {
      "needs_background": "light"
     },
     "output_type": "display_data"
    }
   ],
   "source": [
    "plt.figure(figsize=(15, 7))\n",
    "sns.barplot(x='RAM_Type', y ='MRP', data=df);"
   ]
  },
  {
   "cell_type": "markdown",
   "id": "4cd48fb1",
   "metadata": {},
   "source": [
    "# Observation:\n",
    "- LPDDR3 RAM_TYPE have most prices compare to the other ram_typyes"
   ]
  },
  {
   "cell_type": "code",
   "execution_count": 216,
   "id": "7bd06742",
   "metadata": {},
   "outputs": [
    {
     "data": {
      "image/png": "[encoded data removed]",
      "text/plain": [
       "<Figure size 1080x504 with 1 Axes>"
      ]
     },
     "metadata": {
      "needs_background": "light"
     },
     "output_type": "display_data"
    }
   ],
   "source": [
    "plt.figure(figsize=(15, 7))\n",
    "sns.barplot(x='Disc Size', y ='MRP', data=df);"
   ]
  },
  {
   "cell_type": "markdown",
   "id": "3117df19",
   "metadata": {},
   "source": [
    "# Observation:\n",
    "- 2TB Disc Size price is more compare to others Disc size"
   ]
  },
  {
   "cell_type": "code",
   "execution_count": 217,
   "id": "63b12194",
   "metadata": {},
   "outputs": [
    {
     "data": {
      "image/png": "[encoded data removed]",
      "text/plain": [
       "<Figure size 1080x504 with 1 Axes>"
      ]
     },
     "metadata": {
      "needs_background": "light"
     },
     "output_type": "display_data"
    }
   ],
   "source": [
    "plt.figure(figsize=(15, 7))\n",
    "sns.barplot(x='Disc Type', y ='MRP', data=df);"
   ]
  },
  {
   "cell_type": "markdown",
   "id": "7064a2a1",
   "metadata": {},
   "source": [
    "## Observation:\n",
    "- SSD price is more compare to HDD price"
   ]
  },
  {
   "cell_type": "code",
   "execution_count": 218,
   "id": "006c0e45",
   "metadata": {},
   "outputs": [
    {
     "data": {
      "image/png": "[encoded data removed]",
      "text/plain": [
       "<Figure size 1080x504 with 1 Axes>"
      ]
     },
     "metadata": {
      "needs_background": "light"
     },
     "output_type": "display_data"
    }
   ],
   "source": [
    "plt.figure(figsize=(15, 7))\n",
    "sns.scatterplot(x='Rating', y ='MRP', data=df);"
   ]
  },
  {
   "cell_type": "code",
   "execution_count": 219,
   "id": "9f7be6e2",
   "metadata": {},
   "outputs": [
    {
     "name": "stdout",
     "output_type": "stream",
     "text": [
      "<class 'pandas.core.frame.DataFrame'>\n",
      "RangeIndex: 414 entries, 0 to 413\n",
      "Data columns (total 10 columns):\n",
      " #   Column            Non-Null Count  Dtype  \n",
      "---  ------            --------------  -----  \n",
      " 0   Rating            414 non-null    float64\n",
      " 1   MRP               414 non-null    int32  \n",
      " 2   Brand             414 non-null    object \n",
      " 3   Operating_System  414 non-null    object \n",
      " 4   RAM               414 non-null    object \n",
      " 5   Display_inchs     414 non-null    object \n",
      " 6   RAM_Type          414 non-null    object \n",
      " 7   Processor         414 non-null    object \n",
      " 8   Disc Size         414 non-null    object \n",
      " 9   Disc Type         414 non-null    object \n",
      "dtypes: float64(1), int32(1), object(8)\n",
      "memory usage: 30.9+ KB\n"
     ]
    }
   ],
   "source": [
    "df.info()"
   ]
  },
  {
   "cell_type": "code",
   "execution_count": 220,
   "id": "5a9167ce",
   "metadata": {},
   "outputs": [
    {
     "data": {
      "image/png": "[encoded data removed]",
      "text/plain": [
       "<Figure size 1080x576 with 1 Axes>"
      ]
     },
     "metadata": {
      "needs_background": "light"
     },
     "output_type": "display_data"
    }
   ],
   "source": [
    "crosstab=pd.crosstab(df['Brand'],df['Operating_System'])\n",
    "crosstab.plot(kind='bar',stacked=True,figsize=(15,8))\n",
    "plt.legend(bbox_to_anchor=(1,1))\n",
    "plt.show()"
   ]
  },
  {
   "cell_type": "markdown",
   "id": "be923d06",
   "metadata": {},
   "source": [
    "# Observation:\n",
    "- Asus have more windows 11 Operating System"
   ]
  },
  {
   "cell_type": "code",
   "execution_count": 221,
   "id": "9273d7d2",
   "metadata": {},
   "outputs": [
    {
     "data": {
      "image/png": "[encoded data removed]",
      "text/plain": [
       "<Figure size 1080x576 with 1 Axes>"
      ]
     },
     "metadata": {
      "needs_background": "light"
     },
     "output_type": "display_data"
    }
   ],
   "source": [
    "crosstab=pd.crosstab(df['Brand'],df['Processor'])\n",
    "crosstab.plot(kind='bar',stacked=True,figsize=(15,8))\n",
    "plt.legend(bbox_to_anchor=(1,1))\n",
    "plt.show()"
   ]
  },
  {
   "cell_type": "markdown",
   "id": "ee813125",
   "metadata": {},
   "source": [
    "# Observation:\n",
    "- Asus have more intel processor"
   ]
  },
  {
   "cell_type": "code",
   "execution_count": 222,
   "id": "8a4faee0",
   "metadata": {},
   "outputs": [
    {
     "data": {
      "image/png": "[encoded data removed]",
      "text/plain": [
       "<Figure size 1080x576 with 1 Axes>"
      ]
     },
     "metadata": {
      "needs_background": "light"
     },
     "output_type": "display_data"
    }
   ],
   "source": [
    "crosstab=pd.crosstab(df['Brand'],df['RAM_Type'])\n",
    "crosstab.plot(kind='bar',stacked=True,figsize=(15,8))\n",
    "plt.legend(bbox_to_anchor=(1,1))\n",
    "plt.show()"
   ]
  },
  {
   "cell_type": "markdown",
   "id": "fd8a0a41",
   "metadata": {},
   "source": [
    "# Observation:\n",
    "- Asus have different types of RAM_Types compare to other models"
   ]
  },
  {
   "cell_type": "code",
   "execution_count": 229,
   "id": "445ed1eb",
   "metadata": {},
   "outputs": [
    {
     "data": {
      "text/html": [
       "<div>\n",
       "<style scoped>\n",
       "    .dataframe tbody tr th:only-of-type {\n",
       "        vertical-align: middle;\n",
       "    }\n",
       "\n",
       "    .dataframe tbody tr th {\n",
       "        vertical-align: top;\n",
       "    }\n",
       "\n",
       "    .dataframe thead th {\n",
       "        text-align: right;\n",
       "    }\n",
       "</style>\n",
       "<table border=\"1\" class=\"dataframe\">\n",
       "  <thead>\n",
       "    <tr style=\"text-align: right;\">\n",
       "      <th></th>\n",
       "      <th>Brand</th>\n",
       "      <th>ALIENWARE</th>\n",
       "      <th>APPLE</th>\n",
       "      <th>ASUS</th>\n",
       "      <th>DELL</th>\n",
       "      <th>GIGABYTE</th>\n",
       "      <th>HP</th>\n",
       "      <th>Infinix</th>\n",
       "      <th>Lenovo</th>\n",
       "      <th>MSI</th>\n",
       "      <th>Nokia</th>\n",
       "      <th>RedmiBook</th>\n",
       "      <th>SAMSUNG</th>\n",
       "      <th>Ultimus</th>\n",
       "      <th>Vaio</th>\n",
       "      <th>acer</th>\n",
       "      <th>realme</th>\n",
       "    </tr>\n",
       "  </thead>\n",
       "  <tbody>\n",
       "    <tr>\n",
       "      <th rowspan=\"3\" valign=\"top\">MRP</th>\n",
       "      <th>min</th>\n",
       "      <td>199990.0</td>\n",
       "      <td>88990.00</td>\n",
       "      <td>14990.00000</td>\n",
       "      <td>30428.000000</td>\n",
       "      <td>73990.0</td>\n",
       "      <td>25990.000000</td>\n",
       "      <td>20990.000000</td>\n",
       "      <td>19490.000000</td>\n",
       "      <td>43990.000000</td>\n",
       "      <td>50490.0</td>\n",
       "      <td>31990.0</td>\n",
       "      <td>32990.0</td>\n",
       "      <td>15990.0</td>\n",
       "      <td>40990.0</td>\n",
       "      <td>24990.000000</td>\n",
       "      <td>46990.000000</td>\n",
       "    </tr>\n",
       "    <tr>\n",
       "      <th>max</th>\n",
       "      <td>345390.0</td>\n",
       "      <td>309490.00</td>\n",
       "      <td>361990.00000</td>\n",
       "      <td>434830.000000</td>\n",
       "      <td>73990.0</td>\n",
       "      <td>199990.000000</td>\n",
       "      <td>52990.000000</td>\n",
       "      <td>157990.000000</td>\n",
       "      <td>389990.000000</td>\n",
       "      <td>50490.0</td>\n",
       "      <td>39990.0</td>\n",
       "      <td>59990.0</td>\n",
       "      <td>19990.0</td>\n",
       "      <td>40990.0</td>\n",
       "      <td>155490.000000</td>\n",
       "      <td>64999.000000</td>\n",
       "    </tr>\n",
       "    <tr>\n",
       "      <th>mean</th>\n",
       "      <td>253390.0</td>\n",
       "      <td>158146.25</td>\n",
       "      <td>91515.19697</td>\n",
       "      <td>74613.232143</td>\n",
       "      <td>73990.0</td>\n",
       "      <td>65943.157895</td>\n",
       "      <td>37347.142857</td>\n",
       "      <td>54489.147541</td>\n",
       "      <td>123411.344828</td>\n",
       "      <td>50490.0</td>\n",
       "      <td>35990.0</td>\n",
       "      <td>46490.0</td>\n",
       "      <td>17990.0</td>\n",
       "      <td>40990.0</td>\n",
       "      <td>65000.764706</td>\n",
       "      <td>57326.333333</td>\n",
       "    </tr>\n",
       "  </tbody>\n",
       "</table>\n",
       "</div>"
      ],
      "text/plain": [
       "Brand     ALIENWARE      APPLE          ASUS           DELL  GIGABYTE  \\\n",
       "MRP min    199990.0   88990.00   14990.00000   30428.000000   73990.0   \n",
       "    max    345390.0  309490.00  361990.00000  434830.000000   73990.0   \n",
       "    mean   253390.0  158146.25   91515.19697   74613.232143   73990.0   \n",
       "\n",
       "Brand                HP       Infinix         Lenovo            MSI    Nokia  \\\n",
       "MRP min    25990.000000  20990.000000   19490.000000   43990.000000  50490.0   \n",
       "    max   199990.000000  52990.000000  157990.000000  389990.000000  50490.0   \n",
       "    mean   65943.157895  37347.142857   54489.147541  123411.344828  50490.0   \n",
       "\n",
       "Brand     RedmiBook  SAMSUNG  Ultimus     Vaio           acer        realme  \n",
       "MRP min     31990.0  32990.0  15990.0  40990.0   24990.000000  46990.000000  \n",
       "    max     39990.0  59990.0  19990.0  40990.0  155490.000000  64999.000000  \n",
       "    mean    35990.0  46490.0  17990.0  40990.0   65000.764706  57326.333333  "
      ]
     },
     "execution_count": 229,
     "metadata": {},
     "output_type": "execute_result"
    }
   ],
   "source": [
    "df.groupby(['Brand']).agg({'MRP' : ['min', 'max', 'mean']}).T"
   ]
  },
  {
   "cell_type": "code",
   "execution_count": 230,
   "id": "8ab4d12a",
   "metadata": {},
   "outputs": [
    {
     "data": {
      "text/plain": [
       "Text(0.5, 1.0, 'Average Price of Laptop by Brand')"
      ]
     },
     "execution_count": 230,
     "metadata": {},
     "output_type": "execute_result"
    },
    {
     "data": {
      "image/png": "[encoded data removed]",
      "text/plain": [
       "<Figure size 1296x360 with 1 Axes>"
      ]
     },
     "metadata": {
      "needs_background": "light"
     },
     "output_type": "display_data"
    }
   ],
   "source": [
    "plt.figure(figsize=(18,5))\n",
    "sns.barplot(data=df, x=\"Brand\", y=\"MRP\", ci=None);\n",
    "plt.ylabel(\"Average MRP\")\n",
    "plt.title(\"Average Price of Laptop by Brand\")"
   ]
  },
  {
   "cell_type": "code",
   "execution_count": 231,
   "id": "517df26b",
   "metadata": {},
   "outputs": [
    {
     "data": {
      "text/html": [
       "<div>\n",
       "<style scoped>\n",
       "    .dataframe tbody tr th:only-of-type {\n",
       "        vertical-align: middle;\n",
       "    }\n",
       "\n",
       "    .dataframe tbody tr th {\n",
       "        vertical-align: top;\n",
       "    }\n",
       "\n",
       "    .dataframe thead th {\n",
       "        text-align: right;\n",
       "    }\n",
       "</style>\n",
       "<table border=\"1\" class=\"dataframe\">\n",
       "  <thead>\n",
       "    <tr style=\"text-align: right;\">\n",
       "      <th></th>\n",
       "      <th>Processor</th>\n",
       "      <th>AMD</th>\n",
       "      <th>Apple</th>\n",
       "      <th>Intel</th>\n",
       "      <th>Qualcomm</th>\n",
       "    </tr>\n",
       "  </thead>\n",
       "  <tbody>\n",
       "    <tr>\n",
       "      <th rowspan=\"3\" valign=\"top\">MRP</th>\n",
       "      <th>min</th>\n",
       "      <td>24990.000000</td>\n",
       "      <td>88990.00</td>\n",
       "      <td>14990.000000</td>\n",
       "      <td>32990.0</td>\n",
       "    </tr>\n",
       "    <tr>\n",
       "      <th>max</th>\n",
       "      <td>361990.000000</td>\n",
       "      <td>309490.00</td>\n",
       "      <td>434830.000000</td>\n",
       "      <td>32990.0</td>\n",
       "    </tr>\n",
       "    <tr>\n",
       "      <th>mean</th>\n",
       "      <td>82406.542636</td>\n",
       "      <td>158146.25</td>\n",
       "      <td>75701.063433</td>\n",
       "      <td>32990.0</td>\n",
       "    </tr>\n",
       "  </tbody>\n",
       "</table>\n",
       "</div>"
      ],
      "text/plain": [
       "Processor            AMD      Apple          Intel  Qualcomm\n",
       "MRP min     24990.000000   88990.00   14990.000000   32990.0\n",
       "    max    361990.000000  309490.00  434830.000000   32990.0\n",
       "    mean    82406.542636  158146.25   75701.063433   32990.0"
      ]
     },
     "execution_count": 231,
     "metadata": {},
     "output_type": "execute_result"
    }
   ],
   "source": [
    "df.groupby('Processor').agg({'MRP' : ['min', 'max', 'mean']}).T"
   ]
  },
  {
   "cell_type": "code",
   "execution_count": 232,
   "id": "2d686d71",
   "metadata": {},
   "outputs": [
    {
     "data": {
      "image/png": "[encoded data removed]",
      "text/plain": [
       "<Figure size 1296x360 with 1 Axes>"
      ]
     },
     "metadata": {
      "needs_background": "light"
     },
     "output_type": "display_data"
    }
   ],
   "source": [
    "plt.figure(figsize=(18,5))\n",
    "sns.barplot(data=df, x=\"Processor\", y=\"MRP\", ci=None)\n",
    "plt.ylabel(\"Average MRP\")\n",
    "plt.title(\"Average Price of Laptop by Processor\");"
   ]
  },
  {
   "cell_type": "code",
   "execution_count": 233,
   "id": "a6b305c0",
   "metadata": {},
   "outputs": [
    {
     "data": {
      "text/plain": [
       "array(['8 GB', '16 GB', '4 GB', '32 GB'], dtype=object)"
      ]
     },
     "execution_count": 233,
     "metadata": {},
     "output_type": "execute_result"
    }
   ],
   "source": [
    "df['RAM'].unique()"
   ]
  },
  {
   "cell_type": "code",
   "execution_count": 234,
   "id": "f113eff0",
   "metadata": {},
   "outputs": [
    {
     "data": {
      "text/html": [
       "<div>\n",
       "<style scoped>\n",
       "    .dataframe tbody tr th:only-of-type {\n",
       "        vertical-align: middle;\n",
       "    }\n",
       "\n",
       "    .dataframe tbody tr th {\n",
       "        vertical-align: top;\n",
       "    }\n",
       "\n",
       "    .dataframe thead th {\n",
       "        text-align: right;\n",
       "    }\n",
       "</style>\n",
       "<table border=\"1\" class=\"dataframe\">\n",
       "  <thead>\n",
       "    <tr style=\"text-align: right;\">\n",
       "      <th></th>\n",
       "      <th>Rating</th>\n",
       "      <th>MRP</th>\n",
       "      <th>Brand</th>\n",
       "      <th>Operating_System</th>\n",
       "      <th>RAM</th>\n",
       "      <th>Display_inchs</th>\n",
       "      <th>RAM_Type</th>\n",
       "      <th>Processor</th>\n",
       "      <th>Disc Size</th>\n",
       "      <th>Disc Type</th>\n",
       "    </tr>\n",
       "  </thead>\n",
       "  <tbody>\n",
       "    <tr>\n",
       "      <th>109</th>\n",
       "      <td>4.3</td>\n",
       "      <td>309490</td>\n",
       "      <td>APPLE</td>\n",
       "      <td>Mac</td>\n",
       "      <td>32 GB</td>\n",
       "      <td>16.2</td>\n",
       "      <td>Unified</td>\n",
       "      <td>Apple</td>\n",
       "      <td>1TB</td>\n",
       "      <td>SSD</td>\n",
       "    </tr>\n",
       "    <tr>\n",
       "      <th>143</th>\n",
       "      <td>4.7</td>\n",
       "      <td>241990</td>\n",
       "      <td>ASUS</td>\n",
       "      <td>Windows 11</td>\n",
       "      <td>32 GB</td>\n",
       "      <td>16</td>\n",
       "      <td>DDR5</td>\n",
       "      <td>Intel</td>\n",
       "      <td>1TB</td>\n",
       "      <td>SSD</td>\n",
       "    </tr>\n",
       "    <tr>\n",
       "      <th>224</th>\n",
       "      <td>5.0</td>\n",
       "      <td>301990</td>\n",
       "      <td>ASUS</td>\n",
       "      <td>Windows 11</td>\n",
       "      <td>32 GB</td>\n",
       "      <td>15.6</td>\n",
       "      <td>DDR5</td>\n",
       "      <td>Intel</td>\n",
       "      <td>1TB</td>\n",
       "      <td>SSD</td>\n",
       "    </tr>\n",
       "    <tr>\n",
       "      <th>239</th>\n",
       "      <td>4.3</td>\n",
       "      <td>239990</td>\n",
       "      <td>ASUS</td>\n",
       "      <td>Windows 11</td>\n",
       "      <td>32 GB</td>\n",
       "      <td>16</td>\n",
       "      <td>DDR5</td>\n",
       "      <td>Intel</td>\n",
       "      <td>1TB</td>\n",
       "      <td>SSD</td>\n",
       "    </tr>\n",
       "    <tr>\n",
       "      <th>250</th>\n",
       "      <td>4.3</td>\n",
       "      <td>274990</td>\n",
       "      <td>MSI</td>\n",
       "      <td>Windows 11</td>\n",
       "      <td>32 GB</td>\n",
       "      <td>15.6</td>\n",
       "      <td>DDR5</td>\n",
       "      <td>Intel</td>\n",
       "      <td>1TB</td>\n",
       "      <td>SSD</td>\n",
       "    </tr>\n",
       "    <tr>\n",
       "      <th>280</th>\n",
       "      <td>4.3</td>\n",
       "      <td>389990</td>\n",
       "      <td>MSI</td>\n",
       "      <td>Windows 11</td>\n",
       "      <td>32 GB</td>\n",
       "      <td>17.3</td>\n",
       "      <td>DDR5</td>\n",
       "      <td>Intel</td>\n",
       "      <td>2TB</td>\n",
       "      <td>SSD</td>\n",
       "    </tr>\n",
       "    <tr>\n",
       "      <th>320</th>\n",
       "      <td>4.3</td>\n",
       "      <td>199990</td>\n",
       "      <td>HP</td>\n",
       "      <td>Windows 11</td>\n",
       "      <td>32 GB</td>\n",
       "      <td>17.3</td>\n",
       "      <td>DDR5</td>\n",
       "      <td>Intel</td>\n",
       "      <td>1TB</td>\n",
       "      <td>SSD</td>\n",
       "    </tr>\n",
       "    <tr>\n",
       "      <th>328</th>\n",
       "      <td>4.3</td>\n",
       "      <td>249990</td>\n",
       "      <td>ASUS</td>\n",
       "      <td>Windows 11</td>\n",
       "      <td>32 GB</td>\n",
       "      <td>16</td>\n",
       "      <td>DDR5</td>\n",
       "      <td>AMD</td>\n",
       "      <td>2TB</td>\n",
       "      <td>SSD</td>\n",
       "    </tr>\n",
       "    <tr>\n",
       "      <th>344</th>\n",
       "      <td>4.3</td>\n",
       "      <td>314990</td>\n",
       "      <td>MSI</td>\n",
       "      <td>Windows 11</td>\n",
       "      <td>32 GB</td>\n",
       "      <td>17.3</td>\n",
       "      <td>DDR5</td>\n",
       "      <td>Intel</td>\n",
       "      <td>2TB</td>\n",
       "      <td>SSD</td>\n",
       "    </tr>\n",
       "    <tr>\n",
       "      <th>346</th>\n",
       "      <td>4.3</td>\n",
       "      <td>331990</td>\n",
       "      <td>ASUS</td>\n",
       "      <td>Windows 11</td>\n",
       "      <td>32 GB</td>\n",
       "      <td>16</td>\n",
       "      <td>DDR5</td>\n",
       "      <td>Intel</td>\n",
       "      <td>2TB</td>\n",
       "      <td>SSD</td>\n",
       "    </tr>\n",
       "    <tr>\n",
       "      <th>354</th>\n",
       "      <td>4.3</td>\n",
       "      <td>361990</td>\n",
       "      <td>ASUS</td>\n",
       "      <td>Windows 11</td>\n",
       "      <td>32 GB</td>\n",
       "      <td>16</td>\n",
       "      <td>DDR5</td>\n",
       "      <td>AMD</td>\n",
       "      <td>2TB</td>\n",
       "      <td>SSD</td>\n",
       "    </tr>\n",
       "    <tr>\n",
       "      <th>361</th>\n",
       "      <td>4.3</td>\n",
       "      <td>434830</td>\n",
       "      <td>DELL</td>\n",
       "      <td>Windows 11</td>\n",
       "      <td>32 GB</td>\n",
       "      <td>17.3</td>\n",
       "      <td>DDR4</td>\n",
       "      <td>Intel</td>\n",
       "      <td>1TB</td>\n",
       "      <td>SSD</td>\n",
       "    </tr>\n",
       "    <tr>\n",
       "      <th>362</th>\n",
       "      <td>4.6</td>\n",
       "      <td>345390</td>\n",
       "      <td>ALIENWARE</td>\n",
       "      <td>Windows 10</td>\n",
       "      <td>32 GB</td>\n",
       "      <td>15.6</td>\n",
       "      <td>DDR4</td>\n",
       "      <td>Intel</td>\n",
       "      <td>1TB</td>\n",
       "      <td>SSD</td>\n",
       "    </tr>\n",
       "    <tr>\n",
       "      <th>376</th>\n",
       "      <td>4.3</td>\n",
       "      <td>214990</td>\n",
       "      <td>MSI</td>\n",
       "      <td>Windows 10</td>\n",
       "      <td>32 GB</td>\n",
       "      <td>15.6</td>\n",
       "      <td>DDR4</td>\n",
       "      <td>Intel</td>\n",
       "      <td>1TB</td>\n",
       "      <td>SSD</td>\n",
       "    </tr>\n",
       "    <tr>\n",
       "      <th>379</th>\n",
       "      <td>5.0</td>\n",
       "      <td>224990</td>\n",
       "      <td>ASUS</td>\n",
       "      <td>Windows 10</td>\n",
       "      <td>32 GB</td>\n",
       "      <td>13.4</td>\n",
       "      <td>LPDDR4X</td>\n",
       "      <td>AMD</td>\n",
       "      <td>1TB</td>\n",
       "      <td>SSD</td>\n",
       "    </tr>\n",
       "    <tr>\n",
       "      <th>385</th>\n",
       "      <td>4.6</td>\n",
       "      <td>224990</td>\n",
       "      <td>ASUS</td>\n",
       "      <td>Windows 10</td>\n",
       "      <td>32 GB</td>\n",
       "      <td>15.6</td>\n",
       "      <td>DDR4</td>\n",
       "      <td>Intel</td>\n",
       "      <td>1TB</td>\n",
       "      <td>SSD</td>\n",
       "    </tr>\n",
       "  </tbody>\n",
       "</table>\n",
       "</div>"
      ],
      "text/plain": [
       "     Rating     MRP      Brand Operating_System    RAM Display_inchs RAM_Type  \\\n",
       "109     4.3  309490      APPLE              Mac  32 GB          16.2  Unified   \n",
       "143     4.7  241990       ASUS       Windows 11  32 GB            16     DDR5   \n",
       "224     5.0  301990       ASUS       Windows 11  32 GB          15.6     DDR5   \n",
       "239     4.3  239990       ASUS       Windows 11  32 GB            16     DDR5   \n",
       "250     4.3  274990        MSI       Windows 11  32 GB          15.6     DDR5   \n",
       "280     4.3  389990        MSI       Windows 11  32 GB          17.3     DDR5   \n",
       "320     4.3  199990         HP       Windows 11  32 GB          17.3     DDR5   \n",
       "328     4.3  249990       ASUS       Windows 11  32 GB            16     DDR5   \n",
       "344     4.3  314990        MSI       Windows 11  32 GB          17.3     DDR5   \n",
       "346     4.3  331990       ASUS       Windows 11  32 GB            16     DDR5   \n",
       "354     4.3  361990       ASUS       Windows 11  32 GB            16     DDR5   \n",
       "361     4.3  434830       DELL       Windows 11  32 GB          17.3     DDR4   \n",
       "362     4.6  345390  ALIENWARE       Windows 10  32 GB          15.6     DDR4   \n",
       "376     4.3  214990        MSI       Windows 10  32 GB          15.6     DDR4   \n",
       "379     5.0  224990       ASUS       Windows 10  32 GB          13.4  LPDDR4X   \n",
       "385     4.6  224990       ASUS       Windows 10  32 GB          15.6     DDR4   \n",
       "\n",
       "    Processor Disc Size Disc Type  \n",
       "109     Apple       1TB       SSD  \n",
       "143     Intel       1TB       SSD  \n",
       "224     Intel       1TB       SSD  \n",
       "239     Intel       1TB       SSD  \n",
       "250     Intel       1TB       SSD  \n",
       "280     Intel       2TB       SSD  \n",
       "320     Intel       1TB       SSD  \n",
       "328       AMD       2TB       SSD  \n",
       "344     Intel       2TB       SSD  \n",
       "346     Intel       2TB       SSD  \n",
       "354       AMD       2TB       SSD  \n",
       "361     Intel       1TB       SSD  \n",
       "362     Intel       1TB       SSD  \n",
       "376     Intel       1TB       SSD  \n",
       "379       AMD       1TB       SSD  \n",
       "385     Intel       1TB       SSD  "
      ]
     },
     "execution_count": 234,
     "metadata": {},
     "output_type": "execute_result"
    }
   ],
   "source": [
    "df[df['RAM']=='32 GB']"
   ]
  },
  {
   "cell_type": "code",
   "execution_count": 235,
   "id": "1ec44bcf",
   "metadata": {},
   "outputs": [
    {
     "data": {
      "text/html": [
       "<div>\n",
       "<style scoped>\n",
       "    .dataframe tbody tr th:only-of-type {\n",
       "        vertical-align: middle;\n",
       "    }\n",
       "\n",
       "    .dataframe tbody tr th {\n",
       "        vertical-align: top;\n",
       "    }\n",
       "\n",
       "    .dataframe thead th {\n",
       "        text-align: right;\n",
       "    }\n",
       "</style>\n",
       "<table border=\"1\" class=\"dataframe\">\n",
       "  <thead>\n",
       "    <tr style=\"text-align: right;\">\n",
       "      <th></th>\n",
       "      <th>RAM</th>\n",
       "      <th>16 GB</th>\n",
       "      <th>32 GB</th>\n",
       "      <th>4 GB</th>\n",
       "      <th>8 GB</th>\n",
       "    </tr>\n",
       "  </thead>\n",
       "  <tbody>\n",
       "    <tr>\n",
       "      <th rowspan=\"3\" valign=\"top\">MRP</th>\n",
       "      <th>min</th>\n",
       "      <td>37990.000000</td>\n",
       "      <td>199990.00</td>\n",
       "      <td>14990.0000</td>\n",
       "      <td>22990.000000</td>\n",
       "    </tr>\n",
       "    <tr>\n",
       "      <th>max</th>\n",
       "      <td>241990.000000</td>\n",
       "      <td>434830.00</td>\n",
       "      <td>61249.0000</td>\n",
       "      <td>149990.000000</td>\n",
       "    </tr>\n",
       "    <tr>\n",
       "      <th>mean</th>\n",
       "      <td>109669.468966</td>\n",
       "      <td>291411.25</td>\n",
       "      <td>28996.1875</td>\n",
       "      <td>54249.447964</td>\n",
       "    </tr>\n",
       "  </tbody>\n",
       "</table>\n",
       "</div>"
      ],
      "text/plain": [
       "RAM               16 GB      32 GB        4 GB           8 GB\n",
       "MRP min    37990.000000  199990.00  14990.0000   22990.000000\n",
       "    max   241990.000000  434830.00  61249.0000  149990.000000\n",
       "    mean  109669.468966  291411.25  28996.1875   54249.447964"
      ]
     },
     "execution_count": 235,
     "metadata": {},
     "output_type": "execute_result"
    }
   ],
   "source": [
    "df.groupby('RAM').agg({'MRP' : ['min', 'max', 'mean']}).T"
   ]
  },
  {
   "cell_type": "code",
   "execution_count": 236,
   "id": "be824b7d",
   "metadata": {},
   "outputs": [
    {
     "data": {
      "image/png": "[encoded data removed]",
      "text/plain": [
       "<Figure size 1296x360 with 1 Axes>"
      ]
     },
     "metadata": {
      "needs_background": "light"
     },
     "output_type": "display_data"
    }
   ],
   "source": [
    "plt.figure(figsize=(18,5))\n",
    "sns.barplot(data=df, x=\"RAM\", y=\"MRP\", ci=None)\n",
    "plt.ylabel(\"Average MRP\")\n",
    "plt.title(\"Average Price of Laptop by RAM Size\");"
   ]
  },
  {
   "cell_type": "markdown",
   "id": "d5a81a81",
   "metadata": {},
   "source": [
    "### Summay of relationship between Laptop features and Laptop Price and How the Laptop Pricing works in market.\n",
    "- 1. Price for laptop brand ALIENWARE is ranges approximetely from 2 Lakh to 3.5 Lakh, these are costiest laptops.\n",
    "- 2. Average price for ALIENWARE, APPLE, ASUS,MSI laptops brand is high.\n",
    "- 3. Average price is high for Mac Operating System laptops.\n",
    "- 4. Appleprocessor laptops has high average laptop price as compared to any other processor.\n",
    "- 5. LPDDR3 RAM type laptops has highest average price.\n",
    "- 6. SSD Disc type laptops has highest aaverage price.\n",
    "- 7. Higher the RAM size higher the Price of laptop.\n",
    "- 8. Higher the Disc size highrt the Price of laptop.\n",
    "- 9. 64GB RAM size laptops have high average price.\n",
    "- 10. 2TB Disc size laptops have high average price."
   ]
  },
  {
   "cell_type": "markdown",
   "id": "bbb63c22",
   "metadata": {},
   "source": [
    "## Build Machine Learning Model"
   ]
  },
  {
   "cell_type": "code",
   "execution_count": 237,
   "id": "2c687c15",
   "metadata": {},
   "outputs": [
    {
     "data": {
      "text/html": [
       "<div>\n",
       "<style scoped>\n",
       "    .dataframe tbody tr th:only-of-type {\n",
       "        vertical-align: middle;\n",
       "    }\n",
       "\n",
       "    .dataframe tbody tr th {\n",
       "        vertical-align: top;\n",
       "    }\n",
       "\n",
       "    .dataframe thead th {\n",
       "        text-align: right;\n",
       "    }\n",
       "</style>\n",
       "<table border=\"1\" class=\"dataframe\">\n",
       "  <thead>\n",
       "    <tr style=\"text-align: right;\">\n",
       "      <th></th>\n",
       "      <th>Rating</th>\n",
       "      <th>MRP</th>\n",
       "      <th>Brand</th>\n",
       "      <th>Operating_System</th>\n",
       "      <th>RAM</th>\n",
       "      <th>Display_inchs</th>\n",
       "      <th>RAM_Type</th>\n",
       "      <th>Processor</th>\n",
       "      <th>Disc Size</th>\n",
       "      <th>Disc Type</th>\n",
       "    </tr>\n",
       "  </thead>\n",
       "  <tbody>\n",
       "    <tr>\n",
       "      <th>0</th>\n",
       "      <td>4.2</td>\n",
       "      <td>36990</td>\n",
       "      <td>Lenovo</td>\n",
       "      <td>Windows 11</td>\n",
       "      <td>8 GB</td>\n",
       "      <td>14</td>\n",
       "      <td>DDR4</td>\n",
       "      <td>Intel</td>\n",
       "      <td>256GB</td>\n",
       "      <td>SSD</td>\n",
       "    </tr>\n",
       "    <tr>\n",
       "      <th>1</th>\n",
       "      <td>4.2</td>\n",
       "      <td>39990</td>\n",
       "      <td>Lenovo</td>\n",
       "      <td>Windows 11</td>\n",
       "      <td>8 GB</td>\n",
       "      <td>15.6</td>\n",
       "      <td>DDR4</td>\n",
       "      <td>Intel</td>\n",
       "      <td>512GB</td>\n",
       "      <td>SSD</td>\n",
       "    </tr>\n",
       "    <tr>\n",
       "      <th>2</th>\n",
       "      <td>4.3</td>\n",
       "      <td>32990</td>\n",
       "      <td>ASUS</td>\n",
       "      <td>Windows 11</td>\n",
       "      <td>8 GB</td>\n",
       "      <td>15.6</td>\n",
       "      <td>DDR4</td>\n",
       "      <td>Intel</td>\n",
       "      <td>512GB</td>\n",
       "      <td>SSD</td>\n",
       "    </tr>\n",
       "    <tr>\n",
       "      <th>3</th>\n",
       "      <td>4.4</td>\n",
       "      <td>49990</td>\n",
       "      <td>HP</td>\n",
       "      <td>Windows 10</td>\n",
       "      <td>8 GB</td>\n",
       "      <td>15.6</td>\n",
       "      <td>DDR4</td>\n",
       "      <td>AMD</td>\n",
       "      <td>512GB</td>\n",
       "      <td>SSD</td>\n",
       "    </tr>\n",
       "    <tr>\n",
       "      <th>4</th>\n",
       "      <td>4.4</td>\n",
       "      <td>49990</td>\n",
       "      <td>ASUS</td>\n",
       "      <td>Windows 11</td>\n",
       "      <td>8 GB</td>\n",
       "      <td>15.6</td>\n",
       "      <td>DDR4</td>\n",
       "      <td>Intel</td>\n",
       "      <td>512GB</td>\n",
       "      <td>SSD</td>\n",
       "    </tr>\n",
       "  </tbody>\n",
       "</table>\n",
       "</div>"
      ],
      "text/plain": [
       "   Rating    MRP   Brand Operating_System   RAM Display_inchs RAM_Type  \\\n",
       "0     4.2  36990  Lenovo       Windows 11  8 GB            14     DDR4   \n",
       "1     4.2  39990  Lenovo       Windows 11  8 GB          15.6     DDR4   \n",
       "2     4.3  32990    ASUS       Windows 11  8 GB          15.6     DDR4   \n",
       "3     4.4  49990      HP       Windows 10  8 GB          15.6     DDR4   \n",
       "4     4.4  49990    ASUS       Windows 11  8 GB          15.6     DDR4   \n",
       "\n",
       "  Processor Disc Size Disc Type  \n",
       "0     Intel     256GB       SSD  \n",
       "1     Intel     512GB       SSD  \n",
       "2     Intel     512GB       SSD  \n",
       "3       AMD     512GB       SSD  \n",
       "4     Intel     512GB       SSD  "
      ]
     },
     "execution_count": 237,
     "metadata": {},
     "output_type": "execute_result"
    }
   ],
   "source": [
    "df.head()"
   ]
  },
  {
   "cell_type": "code",
   "execution_count": 238,
   "id": "02d75c15",
   "metadata": {},
   "outputs": [],
   "source": [
    "df=df[['Brand','Processor','Operating_System','RAM_Type','RAM','Disc Type','Disc Size','Display_inchs','MRP']]"
   ]
  },
  {
   "cell_type": "code",
   "execution_count": 239,
   "id": "561c445a",
   "metadata": {},
   "outputs": [
    {
     "data": {
      "text/html": [
       "<div>\n",
       "<style scoped>\n",
       "    .dataframe tbody tr th:only-of-type {\n",
       "        vertical-align: middle;\n",
       "    }\n",
       "\n",
       "    .dataframe tbody tr th {\n",
       "        vertical-align: top;\n",
       "    }\n",
       "\n",
       "    .dataframe thead th {\n",
       "        text-align: right;\n",
       "    }\n",
       "</style>\n",
       "<table border=\"1\" class=\"dataframe\">\n",
       "  <thead>\n",
       "    <tr style=\"text-align: right;\">\n",
       "      <th></th>\n",
       "      <th>Brand</th>\n",
       "      <th>Processor</th>\n",
       "      <th>Operating_System</th>\n",
       "      <th>RAM_Type</th>\n",
       "      <th>RAM</th>\n",
       "      <th>Disc Type</th>\n",
       "      <th>Disc Size</th>\n",
       "      <th>Display_inchs</th>\n",
       "      <th>MRP</th>\n",
       "    </tr>\n",
       "  </thead>\n",
       "  <tbody>\n",
       "    <tr>\n",
       "      <th>0</th>\n",
       "      <td>Lenovo</td>\n",
       "      <td>Intel</td>\n",
       "      <td>Windows 11</td>\n",
       "      <td>DDR4</td>\n",
       "      <td>8 GB</td>\n",
       "      <td>SSD</td>\n",
       "      <td>256GB</td>\n",
       "      <td>14</td>\n",
       "      <td>36990</td>\n",
       "    </tr>\n",
       "    <tr>\n",
       "      <th>1</th>\n",
       "      <td>Lenovo</td>\n",
       "      <td>Intel</td>\n",
       "      <td>Windows 11</td>\n",
       "      <td>DDR4</td>\n",
       "      <td>8 GB</td>\n",
       "      <td>SSD</td>\n",
       "      <td>512GB</td>\n",
       "      <td>15.6</td>\n",
       "      <td>39990</td>\n",
       "    </tr>\n",
       "    <tr>\n",
       "      <th>2</th>\n",
       "      <td>ASUS</td>\n",
       "      <td>Intel</td>\n",
       "      <td>Windows 11</td>\n",
       "      <td>DDR4</td>\n",
       "      <td>8 GB</td>\n",
       "      <td>SSD</td>\n",
       "      <td>512GB</td>\n",
       "      <td>15.6</td>\n",
       "      <td>32990</td>\n",
       "    </tr>\n",
       "    <tr>\n",
       "      <th>3</th>\n",
       "      <td>HP</td>\n",
       "      <td>AMD</td>\n",
       "      <td>Windows 10</td>\n",
       "      <td>DDR4</td>\n",
       "      <td>8 GB</td>\n",
       "      <td>SSD</td>\n",
       "      <td>512GB</td>\n",
       "      <td>15.6</td>\n",
       "      <td>49990</td>\n",
       "    </tr>\n",
       "    <tr>\n",
       "      <th>4</th>\n",
       "      <td>ASUS</td>\n",
       "      <td>Intel</td>\n",
       "      <td>Windows 11</td>\n",
       "      <td>DDR4</td>\n",
       "      <td>8 GB</td>\n",
       "      <td>SSD</td>\n",
       "      <td>512GB</td>\n",
       "      <td>15.6</td>\n",
       "      <td>49990</td>\n",
       "    </tr>\n",
       "  </tbody>\n",
       "</table>\n",
       "</div>"
      ],
      "text/plain": [
       "    Brand Processor Operating_System RAM_Type   RAM Disc Type Disc Size  \\\n",
       "0  Lenovo     Intel       Windows 11     DDR4  8 GB       SSD     256GB   \n",
       "1  Lenovo     Intel       Windows 11     DDR4  8 GB       SSD     512GB   \n",
       "2    ASUS     Intel       Windows 11     DDR4  8 GB       SSD     512GB   \n",
       "3      HP       AMD       Windows 10     DDR4  8 GB       SSD     512GB   \n",
       "4    ASUS     Intel       Windows 11     DDR4  8 GB       SSD     512GB   \n",
       "\n",
       "  Display_inchs    MRP  \n",
       "0            14  36990  \n",
       "1          15.6  39990  \n",
       "2          15.6  32990  \n",
       "3          15.6  49990  \n",
       "4          15.6  49990  "
      ]
     },
     "execution_count": 239,
     "metadata": {},
     "output_type": "execute_result"
    }
   ],
   "source": [
    "df.head()"
   ]
  },
  {
   "cell_type": "markdown",
   "id": "d36ff251",
   "metadata": {},
   "source": [
    "## seggregation of the data"
   ]
  },
  {
   "cell_type": "code",
   "execution_count": 240,
   "id": "a2a302af",
   "metadata": {},
   "outputs": [],
   "source": [
    "X=df[['Operating_System','RAM_Type','RAM','Disc Size']]\n",
    "y=df[[\"MRP\"]]"
   ]
  },
  {
   "cell_type": "code",
   "execution_count": 241,
   "id": "b705c450",
   "metadata": {},
   "outputs": [
    {
     "data": {
      "text/plain": [
       "8 GB     221\n",
       "16 GB    145\n",
       "4 GB      32\n",
       "32 GB     16\n",
       "Name: RAM, dtype: int64"
      ]
     },
     "execution_count": 241,
     "metadata": {},
     "output_type": "execute_result"
    }
   ],
   "source": [
    "X[\"RAM\"].value_counts()"
   ]
  },
  {
   "cell_type": "markdown",
   "id": "73570a85",
   "metadata": {},
   "source": [
    "## Label Encoding for RAM ,DISK SIZE ,RAM_TYPE,OPERATING_SYSTEM "
   ]
  },
  {
   "cell_type": "code",
   "execution_count": 242,
   "id": "8cf3e3ef",
   "metadata": {},
   "outputs": [],
   "source": [
    "ram = {\"32 GB\":4,'16 GB':3,'8 GB':2,'4 GB':1}\n",
    "X['RAM'] = X['RAM'].apply(lambda x: ram[x])"
   ]
  },
  {
   "cell_type": "code",
   "execution_count": 243,
   "id": "0ccc5506",
   "metadata": {},
   "outputs": [
    {
     "data": {
      "text/plain": [
       "DDR4       315\n",
       "DDR5        41\n",
       "LPDDR4X     30\n",
       "Unified     10\n",
       "LPDDR5       9\n",
       "LPDDR4       8\n",
       "LPDDR3       1\n",
       "Name: RAM_Type, dtype: int64"
      ]
     },
     "execution_count": 243,
     "metadata": {},
     "output_type": "execute_result"
    }
   ],
   "source": [
    "X[\"RAM_Type\"].value_counts()"
   ]
  },
  {
   "cell_type": "code",
   "execution_count": 244,
   "id": "df6895b2",
   "metadata": {},
   "outputs": [],
   "source": [
    "ram_type = {'Unified':7,'LPDDR5':6,'LPDDR4X':5,'LPDDR4':4,'LPDDR3':3,'DDR5':2,'DDR4':1}\n",
    "X['RAM_Type'] = X['RAM_Type'].apply(lambda x: ram_type[x])"
   ]
  },
  {
   "cell_type": "code",
   "execution_count": 245,
   "id": "06cbab8f",
   "metadata": {},
   "outputs": [
    {
     "data": {
      "text/plain": [
       "512GB    218\n",
       "1TB      115\n",
       "256GB     62\n",
       "128GB      6\n",
       "64GB       6\n",
       "2TB        6\n",
       "32GB       1\n",
       "Name: Disc Size, dtype: int64"
      ]
     },
     "execution_count": 245,
     "metadata": {},
     "output_type": "execute_result"
    }
   ],
   "source": [
    "X['Disc Size'].value_counts()"
   ]
  },
  {
   "cell_type": "code",
   "execution_count": 246,
   "id": "e972d909",
   "metadata": {},
   "outputs": [],
   "source": [
    "storage_ssd={\"2TB\":7,\"1TB\":6,\"512GB\":5,\"256GB\":4,\"128GB\":3,\"64GB\":2,\"32GB\":1}\n",
    "X['Disc Size'] = X['Disc Size'].apply(lambda x: storage_ssd[x])"
   ]
  },
  {
   "cell_type": "code",
   "execution_count": 247,
   "id": "687cf24e",
   "metadata": {},
   "outputs": [
    {
     "data": {
      "text/plain": [
       "Windows 11    273\n",
       "Windows 10    115\n",
       "Mac            18\n",
       "Chrome          6\n",
       "DOS             2\n",
       "Name: Operating_System, dtype: int64"
      ]
     },
     "execution_count": 247,
     "metadata": {},
     "output_type": "execute_result"
    }
   ],
   "source": [
    "X[\"Operating_System\"].value_counts()"
   ]
  },
  {
   "cell_type": "code",
   "execution_count": 248,
   "id": "eb513575",
   "metadata": {},
   "outputs": [],
   "source": [
    "os={\"DOS\":1,\"Windows 10\":3,\"Windows 11\":4,\"Chrome\":2,\"Mac\":5}\n",
    "X['Operating_System'] = X['Operating_System'].apply(lambda x: os[x])"
   ]
  },
  {
   "cell_type": "markdown",
   "id": "4703978d",
   "metadata": {},
   "source": [
    "## SPLIT THE DATA"
   ]
  },
  {
   "cell_type": "code",
   "execution_count": 249,
   "id": "48daa2ca",
   "metadata": {},
   "outputs": [],
   "source": [
    "from sklearn.model_selection import train_test_split\n",
    "X_train,X_test,y_train,y_test=train_test_split(X,y,test_size=0.15,random_state=42)"
   ]
  },
  {
   "cell_type": "code",
   "execution_count": 250,
   "id": "90b1bb00",
   "metadata": {},
   "outputs": [],
   "source": [
    "from sklearn.model_selection import GridSearchCV, RandomizedSearchCV\n",
    "from sklearn.metrics import classification_report\n",
    "from sklearn import metrics"
   ]
  },
  {
   "cell_type": "markdown",
   "id": "68b5fde1",
   "metadata": {},
   "source": [
    "# RANDOM FOREST REGRESSION"
   ]
  },
  {
   "cell_type": "markdown",
   "id": "363fd1ef",
   "metadata": {},
   "source": [
    "## Hyper parameter Tunning using GridSearchCv"
   ]
  },
  {
   "cell_type": "code",
   "execution_count": 256,
   "id": "1a2afecd",
   "metadata": {},
   "outputs": [
    {
     "name": "stdout",
     "output_type": "stream",
     "text": [
      "Fitting 5 folds for each of 50 candidates, totalling 250 fits\n"
     ]
    },
    {
     "data": {
      "text/plain": [
       "GridSearchCV(cv=5, estimator=RandomForestRegressor(max_depth=19),\n",
       "             param_grid=[{'max_depth': [1, 2, 3, 4, 5, 6, 7, 8, 9, 10, 11, 12,\n",
       "                                        13, 14, 15, 16, 17, 18, 19, 20, 21, 22,\n",
       "                                        23, 24, 25, 26, 27, 28, 29, 30, ...]}],\n",
       "             return_train_score=True, scoring='r2', verbose=1)"
      ]
     },
     "execution_count": 256,
     "metadata": {},
     "output_type": "execute_result"
    }
   ],
   "source": [
    "tuned_parameters = [{'max_depth':[i for i in range(1, 51)]}]\n",
    "\n",
    "clf = GridSearchCV(\n",
    "    estimator=tree ,\n",
    "    param_grid=tuned_parameters, \n",
    "    scoring='r2',\n",
    "    cv=5,\n",
    "    return_train_score=True,\n",
    "    verbose=1,\n",
    ")\n",
    "clf.fit(X_train, y_train)"
   ]
  },
  {
   "cell_type": "code",
   "execution_count": 257,
   "id": "6132f677",
   "metadata": {},
   "outputs": [
    {
     "name": "stdout",
     "output_type": "stream",
     "text": [
      "Best parameters set found on train set\n",
      "{'max_depth': 41}\n",
      "RandomForestRegressor(max_depth=41)\n",
      "\n",
      "Score on Test Data:  0.8242693387538713\n"
     ]
    }
   ],
   "source": [
    "print(\"Best parameters set found on train set\")\n",
    "print(clf.best_params_)\n",
    "print(clf.best_estimator_)\n",
    "print()\n",
    "\n",
    "print('Score on Test Data: ', clf.score(X_test, y_test))"
   ]
  },
  {
   "cell_type": "code",
   "execution_count": 251,
   "id": "17b7df5c",
   "metadata": {},
   "outputs": [],
   "source": [
    "from sklearn.ensemble import RandomForestRegressor   \n",
    "tree=RandomForestRegressor(max_depth=19)\n"
   ]
  },
  {
   "cell_type": "code",
   "execution_count": 252,
   "id": "266f3e56",
   "metadata": {},
   "outputs": [
    {
     "data": {
      "text/plain": [
       "RandomForestRegressor(max_depth=19)"
      ]
     },
     "execution_count": 252,
     "metadata": {},
     "output_type": "execute_result"
    }
   ],
   "source": [
    "tree.fit(X_train,y_train)"
   ]
  },
  {
   "cell_type": "code",
   "execution_count": 253,
   "id": "a85519d6",
   "metadata": {},
   "outputs": [
    {
     "name": "stdout",
     "output_type": "stream",
     "text": [
      "0.8733460484264178\n"
     ]
    },
    {
     "data": {
      "text/plain": [
       "0.8747935221586873"
      ]
     },
     "execution_count": 253,
     "metadata": {},
     "output_type": "execute_result"
    }
   ],
   "source": [
    "y_train_pred=tree.predict(X_train)\n",
    "r2=metrics.r2_score(y_train,y_train_pred)\n",
    "\n",
    "n = len(y_train)\n",
    "k = X_train.shape[1]\n",
    "\n",
    "r2_adj = 1 - (1-r2)*(n-1)/(n-k-1)\n",
    "\n",
    "print(r2_adj)\n",
    "r2"
   ]
  },
  {
   "cell_type": "code",
   "execution_count": 254,
   "id": "a192f27b",
   "metadata": {},
   "outputs": [
    {
     "name": "stdout",
     "output_type": "stream",
     "text": [
      "0.8053974227253388\n"
     ]
    },
    {
     "data": {
      "text/plain": [
       "0.8179524277108008"
      ]
     },
     "execution_count": 254,
     "metadata": {},
     "output_type": "execute_result"
    }
   ],
   "source": [
    "y_test_pred=tree.predict(X_test)\n",
    "r2=metrics.r2_score(y_test,y_test_pred)\n",
    "n = len(y_test)\n",
    "k = X_test.shape[1]\n",
    "\n",
    "r2_adj = 1 - (1-r2)*(n-1)/(n-k-1)\n",
    "\n",
    "print(r2_adj)\n",
    "r2"
   ]
  },
  {
   "cell_type": "code",
   "execution_count": 258,
   "id": "1c8dce25",
   "metadata": {},
   "outputs": [
    {
     "data": {
      "text/html": [
       "<div>\n",
       "<style scoped>\n",
       "    .dataframe tbody tr th:only-of-type {\n",
       "        vertical-align: middle;\n",
       "    }\n",
       "\n",
       "    .dataframe tbody tr th {\n",
       "        vertical-align: top;\n",
       "    }\n",
       "\n",
       "    .dataframe thead th {\n",
       "        text-align: right;\n",
       "    }\n",
       "</style>\n",
       "<table border=\"1\" class=\"dataframe\">\n",
       "  <thead>\n",
       "    <tr style=\"text-align: right;\">\n",
       "      <th></th>\n",
       "      <th>mean_fit_time</th>\n",
       "      <th>std_fit_time</th>\n",
       "      <th>mean_score_time</th>\n",
       "      <th>std_score_time</th>\n",
       "      <th>param_max_depth</th>\n",
       "      <th>params</th>\n",
       "      <th>split0_test_score</th>\n",
       "      <th>split1_test_score</th>\n",
       "      <th>split2_test_score</th>\n",
       "      <th>split3_test_score</th>\n",
       "      <th>...</th>\n",
       "      <th>mean_test_score</th>\n",
       "      <th>std_test_score</th>\n",
       "      <th>rank_test_score</th>\n",
       "      <th>split0_train_score</th>\n",
       "      <th>split1_train_score</th>\n",
       "      <th>split2_train_score</th>\n",
       "      <th>split3_train_score</th>\n",
       "      <th>split4_train_score</th>\n",
       "      <th>mean_train_score</th>\n",
       "      <th>std_train_score</th>\n",
       "    </tr>\n",
       "  </thead>\n",
       "  <tbody>\n",
       "    <tr>\n",
       "      <th>40</th>\n",
       "      <td>0.087982</td>\n",
       "      <td>0.008622</td>\n",
       "      <td>0.006825</td>\n",
       "      <td>0.000395</td>\n",
       "      <td>41</td>\n",
       "      <td>{'max_depth': 41}</td>\n",
       "      <td>0.750051</td>\n",
       "      <td>0.842754</td>\n",
       "      <td>0.878187</td>\n",
       "      <td>0.68386</td>\n",
       "      <td>...</td>\n",
       "      <td>0.780083</td>\n",
       "      <td>0.070576</td>\n",
       "      <td>1</td>\n",
       "      <td>0.877961</td>\n",
       "      <td>0.873153</td>\n",
       "      <td>0.854178</td>\n",
       "      <td>0.895781</td>\n",
       "      <td>0.893112</td>\n",
       "      <td>0.878837</td>\n",
       "      <td>0.015047</td>\n",
       "    </tr>\n",
       "  </tbody>\n",
       "</table>\n",
       "<p>1 rows × 21 columns</p>\n",
       "</div>"
      ],
      "text/plain": [
       "    mean_fit_time  std_fit_time  mean_score_time  std_score_time  \\\n",
       "40       0.087982      0.008622         0.006825        0.000395   \n",
       "\n",
       "   param_max_depth             params  split0_test_score  split1_test_score  \\\n",
       "40              41  {'max_depth': 41}           0.750051           0.842754   \n",
       "\n",
       "    split2_test_score  split3_test_score  ...  mean_test_score  \\\n",
       "40           0.878187            0.68386  ...         0.780083   \n",
       "\n",
       "    std_test_score  rank_test_score  split0_train_score  split1_train_score  \\\n",
       "40        0.070576                1            0.877961            0.873153   \n",
       "\n",
       "    split2_train_score  split3_train_score  split4_train_score  \\\n",
       "40            0.854178            0.895781            0.893112   \n",
       "\n",
       "    mean_train_score  std_train_score  \n",
       "40          0.878837         0.015047  \n",
       "\n",
       "[1 rows x 21 columns]"
      ]
     },
     "execution_count": 258,
     "metadata": {},
     "output_type": "execute_result"
    }
   ],
   "source": [
    "cv_results1 = pd.DataFrame(clf.cv_results_)\n",
    "\n",
    "cv_results1[cv_results1[\"rank_test_score\"]==1]"
   ]
  },
  {
   "cell_type": "code",
   "execution_count": 259,
   "id": "f55f31e5",
   "metadata": {},
   "outputs": [
    {
     "data": {
      "text/plain": [
       "<matplotlib.legend.Legend at 0x2a04b19a850>"
      ]
     },
     "execution_count": 259,
     "metadata": {},
     "output_type": "execute_result"
    },
    {
     "data": {
      "image/png": "[encoded data removed]",
      "text/plain": [
       "<Figure size 432x288 with 1 Axes>"
      ]
     },
     "metadata": {
      "needs_background": "light"
     },
     "output_type": "display_data"
    }
   ],
   "source": [
    "plt.plot(cv_results1['param_max_depth'], cv_results1['mean_train_score'])\n",
    "plt.plot(cv_results1['param_max_depth'], cv_results1['mean_test_score'])\n",
    "plt.xlabel('max_depth')\n",
    "plt.ylabel('r2')\n",
    "plt.legend(['train accuracy', 'test accuracy'], loc='lower right')"
   ]
  },
  {
   "cell_type": "markdown",
   "id": "6aea8b8c",
   "metadata": {},
   "source": [
    "# Observation:\n",
    "- .Randomforest regressor is the best model at max_depth=19"
   ]
  },
  {
   "cell_type": "markdown",
   "id": "8fb7d875",
   "metadata": {},
   "source": [
    "## Pickle "
   ]
  },
  {
   "cell_type": "code",
   "execution_count": 260,
   "id": "56722b83",
   "metadata": {},
   "outputs": [],
   "source": [
    "import pickle\n",
    "\n",
    "file = open('dataframe.pkl','wb')\n",
    "\n",
    "pickle.dump(tree,file)"
   ]
  },
  {
   "cell_type": "code",
   "execution_count": null,
   "id": "98ac9bcc",
   "metadata": {},
   "outputs": [],
   "source": []
  }
 ],
 "metadata": {
  "kernelspec": {
   "display_name": "Python 3",
   "language": "python",
   "name": "python3"
  },
  "language_info": {
   "codemirror_mode": {
    "name": "ipython",
    "version": 3
   },
   "file_extension": ".py",
   "mimetype": "text/x-python",
   "name": "python",
   "nbconvert_exporter": "python",
   "pygments_lexer": "ipython3",
   "version": "3.8.8"
  }
 },
 "nbformat": 4,
 "nbformat_minor": 5
}
